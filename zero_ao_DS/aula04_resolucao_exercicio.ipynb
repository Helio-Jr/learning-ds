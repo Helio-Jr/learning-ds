{
 "cells": [
  {
   "cell_type": "markdown",
   "metadata": {},
   "source": [
    "# Aula 04 - Resolução dos Exercícios\n",
    "\n",
    "## Novas perguntas do CEO para vocês"
   ]
  },
  {
   "cell_type": "markdown",
   "metadata": {
    "ExecuteTime": {
     "end_time": "2021-02-27T22:42:51.242679Z",
     "start_time": "2021-02-27T22:42:51.236168Z"
    }
   },
   "source": [
    "1. Qual a média do preço de compra dos imóveis por “Nível”? \n",
    "        - Nível 0 -> Preço entre R$ 0 e R$ 321.950\n",
    "        - Nível 1 -> Preço entre R$ 321.950 e R$ 450.000\n",
    "        - Nível 2 -> Preço entre R$ 450.000 e R$ 645.000\n",
    "        - Nível 3 -> Acima de R$ 645.000\n",
    "\n",
    "2. Qual a média do tamanho da sala de estar dos imóveis por “Size” ?\n",
    "        - Size 0 -> Tamanho entre 0 e 1427 sqft\n",
    "        - Size 1 -> Tamanho entre 1427 e 1910 sqft\n",
    "        - Size 2 -> Tamanho entre 1910 e 2550 sqft\n",
    "        - Size 3 -> Tamanho acima de 2550 sqft\n",
    "\n",
    "3. Adicione as seguinte informações ao conjunto de dados original:\n",
    "        - Place ID: Identificação da localização\n",
    "        - OSM Type: Open Street Map type\n",
    "        - Country: Nome do País\n",
    "        - Country Code: Código do País\n",
    "\n",
    "4. Adicione os seguinte filtros no Mapa:\n",
    "        - Tamanho mínimo da área da sala de estar.\n",
    "        - Número mínimo de banheiros.\n",
    "        - Valor Máximo do Preço.\n",
    "        - Tamanho máximo da área do porão.\n",
    "        - Filtro das Condições do Imóvel.\n",
    "        - Filtro por Ano de Construção.\n",
    "\n",
    "5. Adicione os seguinte filtros no Dashboard:\n",
    "        - Filtro por data disponível para compra.\n",
    "        - Filtro por ano de renovação.\n",
    "        - Filtro se possui vista para a água ou não."
   ]
  },
  {
   "cell_type": "markdown",
   "metadata": {},
   "source": [
    "# Resolução"
   ]
  },
  {
   "cell_type": "markdown",
   "metadata": {},
   "source": [
    "## Import Libraries"
   ]
  },
  {
   "cell_type": "code",
   "execution_count": 2,
   "metadata": {
    "ExecuteTime": {
     "end_time": "2021-02-28T13:29:27.681469Z",
     "start_time": "2021-02-28T13:29:27.678071Z"
    }
   },
   "outputs": [],
   "source": [
    "import numpy  as np\n",
    "import pandas as pd\n",
    "import seaborn as sns\n",
    "\n",
    "\n",
    "from matplotlib import gridspec\n",
    "from matplotlib import pyplot     as plt\n",
    "import ipywidgets     as widgets\n",
    "import plotly.express as px\n",
    "from ipywidgets import interact, interactive, fixed, interact_manual\n",
    "from geopy.geocoders import Nominatim"
   ]
  },
  {
   "cell_type": "code",
   "execution_count": 2,
   "metadata": {
    "ExecuteTime": {
     "end_time": "2021-02-28T13:27:29.749567Z",
     "start_time": "2021-02-28T13:27:29.747238Z"
    }
   },
   "outputs": [],
   "source": [
    "# Supress Scientific Notation\n",
    "np.set_printoptions(suppress=True)\n",
    "pd.set_option('display.float_format', '{:.2f}'.format)"
   ]
  },
  {
   "cell_type": "markdown",
   "metadata": {},
   "source": [
    "## Loading Data"
   ]
  },
  {
   "cell_type": "code",
   "execution_count": 3,
   "metadata": {
    "ExecuteTime": {
     "end_time": "2021-02-28T13:27:30.458427Z",
     "start_time": "2021-02-28T13:27:30.402615Z"
    }
   },
   "outputs": [],
   "source": [
    "# loading data into memory\n",
    "df = pd.read_csv( 'csv/kc_house_data.csv' )\n",
    "\n",
    "# Garantir que o formato date é um datetime \n",
    "df['date'] = pd.to_datetime( df['date'], format='%Y-%m-%d' )"
   ]
  },
  {
   "cell_type": "markdown",
   "metadata": {
    "ExecuteTime": {
     "end_time": "2021-02-27T22:42:51.242679Z",
     "start_time": "2021-02-27T22:42:51.236168Z"
    },
    "tags": []
   },
   "source": [
    "## 1. Qual a média do preço de compra dos imóveis por “Nível”? \n",
    "        - Nível 0 -> Preço entre R$ 0 e R$ 321.950\n",
    "        - Nível 1 -> Preço entre R$ 321.950 e R$ 450.000\n",
    "        - Nível 2 -> Preço entre R$ 450.000 e R$ 645.000\n",
    "        - Nível 3 -> Acima de R$ 645.000"
   ]
  },
  {
   "cell_type": "code",
   "execution_count": 4,
   "metadata": {},
   "outputs": [],
   "source": [
    "df['nível'] = df['price'].apply(lambda x: 0 if 0<x<321950 else 1 if 321950<x<450000 else 2 if 450000<x<645000 else 3)"
   ]
  },
  {
   "cell_type": "markdown",
   "metadata": {
    "tags": []
   },
   "source": [
    "### Meigarom"
   ]
  },
  {
   "cell_type": "code",
   "execution_count": 5,
   "metadata": {
    "ExecuteTime": {
     "end_time": "2021-02-28T13:27:31.081275Z",
     "start_time": "2021-02-28T13:27:31.054198Z"
    }
   },
   "outputs": [
    {
     "ename": "NameError",
     "evalue": "name 'data' is not defined",
     "output_type": "error",
     "traceback": [
      "\u001b[1;31m---------------------------------------------------------------------------\u001b[0m",
      "\u001b[1;31mNameError\u001b[0m                                 Traceback (most recent call last)",
      "Input \u001b[1;32mIn [5]\u001b[0m, in \u001b[0;36m<cell line: 1>\u001b[1;34m()\u001b[0m\n\u001b[1;32m----> 1\u001b[0m data[\u001b[38;5;124m'\u001b[39m\u001b[38;5;124mlevel\u001b[39m\u001b[38;5;124m'\u001b[39m] \u001b[38;5;241m=\u001b[39m \u001b[43mdata\u001b[49m[\u001b[38;5;124m'\u001b[39m\u001b[38;5;124mprice\u001b[39m\u001b[38;5;124m'\u001b[39m]\u001b[38;5;241m.\u001b[39mapply( \u001b[38;5;28;01mlambda\u001b[39;00m x: \u001b[38;5;124m'\u001b[39m\u001b[38;5;124mlv0\u001b[39m\u001b[38;5;124m'\u001b[39m \u001b[38;5;28;01mif\u001b[39;00m x \u001b[38;5;241m<\u001b[39m\u001b[38;5;241m=\u001b[39m \u001b[38;5;241m321950\u001b[39m \u001b[38;5;28;01melse\u001b[39;00m \n\u001b[0;32m      2\u001b[0m                                                \u001b[38;5;124m'\u001b[39m\u001b[38;5;124mlv1\u001b[39m\u001b[38;5;124m'\u001b[39m \u001b[38;5;28;01mif\u001b[39;00m ( x \u001b[38;5;241m>\u001b[39m \u001b[38;5;241m321950\u001b[39m ) \u001b[38;5;241m&\u001b[39m ( x \u001b[38;5;241m<\u001b[39m\u001b[38;5;241m=\u001b[39m \u001b[38;5;241m450000\u001b[39m ) \u001b[38;5;28;01melse\u001b[39;00m\n\u001b[0;32m      3\u001b[0m                                                \u001b[38;5;124m'\u001b[39m\u001b[38;5;124mlv2\u001b[39m\u001b[38;5;124m'\u001b[39m \u001b[38;5;28;01mif\u001b[39;00m ( x \u001b[38;5;241m>\u001b[39m \u001b[38;5;241m450000\u001b[39m ) \u001b[38;5;241m&\u001b[39m ( x \u001b[38;5;241m<\u001b[39m\u001b[38;5;241m=\u001b[39m \u001b[38;5;241m645000\u001b[39m ) \u001b[38;5;28;01melse\u001b[39;00m \u001b[38;5;124m'\u001b[39m\u001b[38;5;124mlv3\u001b[39m\u001b[38;5;124m'\u001b[39m )\n\u001b[0;32m      5\u001b[0m \u001b[38;5;66;03m# final dataset\u001b[39;00m\n\u001b[0;32m      6\u001b[0m df \u001b[38;5;241m=\u001b[39m data[[\u001b[38;5;124m'\u001b[39m\u001b[38;5;124mlevel\u001b[39m\u001b[38;5;124m'\u001b[39m, \u001b[38;5;124m'\u001b[39m\u001b[38;5;124mprice\u001b[39m\u001b[38;5;124m'\u001b[39m]]\u001b[38;5;241m.\u001b[39mgroupby( \u001b[38;5;124m'\u001b[39m\u001b[38;5;124mlevel\u001b[39m\u001b[38;5;124m'\u001b[39m )\u001b[38;5;241m.\u001b[39mmean()\u001b[38;5;241m.\u001b[39mreset_index()\n",
      "\u001b[1;31mNameError\u001b[0m: name 'data' is not defined"
     ]
    }
   ],
   "source": [
    "data['level'] = data['price'].apply( lambda x: 'lv0' if x <= 321950 else \n",
    "                                               'lv1' if ( x > 321950 ) & ( x <= 450000 ) else\n",
    "                                               'lv2' if ( x > 450000 ) & ( x <= 645000 ) else 'lv3' )\n",
    "\n",
    "# final dataset\n",
    "df = data[['level', 'price']].groupby( 'level' ).mean().reset_index()\n",
    "df"
   ]
  },
  {
   "cell_type": "markdown",
   "metadata": {
    "ExecuteTime": {
     "end_time": "2021-02-27T22:42:51.242679Z",
     "start_time": "2021-02-27T22:42:51.236168Z"
    }
   },
   "source": [
    "## 2. Qual a média do tamanho da sala de estar dos imóveis por “Size” ?\n",
    "        - Size 0 -> Tamanho entre 0 e 1427 sqft\n",
    "        - Size 1 -> Tamanho entre 1427 e 1910 sqft\n",
    "        - Size 2 -> Tamanho entre 1910 e 2550 sqft\n",
    "        - Size 3 -> Tamanho acima de 2550 sqft"
   ]
  },
  {
   "cell_type": "code",
   "execution_count": 58,
   "metadata": {},
   "outputs": [],
   "source": [
    "df['size'] = df['sqft_living'].apply(lambda x: 0 if 0<x<1427 else 1 if 1427<x<1910 else 2 if 1910<x<2550 else 3)"
   ]
  },
  {
   "cell_type": "markdown",
   "metadata": {
    "jp-MarkdownHeadingCollapsed": true,
    "tags": []
   },
   "source": [
    "### Meigarom"
   ]
  },
  {
   "cell_type": "code",
   "execution_count": 7,
   "metadata": {
    "ExecuteTime": {
     "end_time": "2021-02-28T13:27:31.803416Z",
     "start_time": "2021-02-28T13:27:31.783074Z"
    }
   },
   "outputs": [
    {
     "data": {
      "text/html": [
       "<div>\n",
       "<style scoped>\n",
       "    .dataframe tbody tr th:only-of-type {\n",
       "        vertical-align: middle;\n",
       "    }\n",
       "\n",
       "    .dataframe tbody tr th {\n",
       "        vertical-align: top;\n",
       "    }\n",
       "\n",
       "    .dataframe thead th {\n",
       "        text-align: right;\n",
       "    }\n",
       "</style>\n",
       "<table border=\"1\" class=\"dataframe\">\n",
       "  <thead>\n",
       "    <tr style=\"text-align: right;\">\n",
       "      <th></th>\n",
       "      <th>size</th>\n",
       "      <th>sqft_living</th>\n",
       "    </tr>\n",
       "  </thead>\n",
       "  <tbody>\n",
       "    <tr>\n",
       "      <th>0</th>\n",
       "      <td>size0</td>\n",
       "      <td>1123.83</td>\n",
       "    </tr>\n",
       "    <tr>\n",
       "      <th>1</th>\n",
       "      <td>size1</td>\n",
       "      <td>1664.96</td>\n",
       "    </tr>\n",
       "    <tr>\n",
       "      <th>2</th>\n",
       "      <td>size2</td>\n",
       "      <td>2211.79</td>\n",
       "    </tr>\n",
       "    <tr>\n",
       "      <th>3</th>\n",
       "      <td>size3</td>\n",
       "      <td>3329.61</td>\n",
       "    </tr>\n",
       "  </tbody>\n",
       "</table>\n",
       "</div>"
      ],
      "text/plain": [
       "    size  sqft_living\n",
       "0  size0      1123.83\n",
       "1  size1      1664.96\n",
       "2  size2      2211.79\n",
       "3  size3      3329.61"
      ]
     },
     "execution_count": 7,
     "metadata": {},
     "output_type": "execute_result"
    }
   ],
   "source": [
    "data['size'] = data['sqft_living'].apply( lambda x: 'size0' if x <= 1427 else \n",
    "                                                    'size1' if ( x > 1427 ) & ( x <= 1910 ) else\n",
    "                                                    'size2' if ( x > 1910 ) & ( x <= 2550 ) else 'size3' )\n",
    "# final dataset\n",
    "df = data[['size', 'sqft_living']].groupby( 'size' ).mean().reset_index()\n",
    "df"
   ]
  },
  {
   "cell_type": "markdown",
   "metadata": {
    "ExecuteTime": {
     "end_time": "2021-02-27T22:42:51.242679Z",
     "start_time": "2021-02-27T22:42:51.236168Z"
    },
    "tags": []
   },
   "source": [
    "## 3. Adicione as seguinte informações ao conjunto de dados original:\n",
    "        - Place ID: Identificação da localização\n",
    "        - OSM Type: Open Street Map type\n",
    "        - Country: Nome do País\n",
    "        - Country Code: Código do País"
   ]
  },
  {
   "cell_type": "code",
   "execution_count": 61,
   "metadata": {},
   "outputs": [
    {
     "data": {
      "text/plain": [
       "{'place_id': 163387148,\n",
       " 'licence': 'Data © OpenStreetMap contributors, ODbL 1.0. https://osm.org/copyright',\n",
       " 'osm_type': 'way',\n",
       " 'osm_id': 236673622,\n",
       " 'lat': '47.51098745',\n",
       " 'lon': '-122.25680736110141',\n",
       " 'display_name': '10022, 61st Avenue South, Rainier Beach, Seattle, King County, Washington, 98178, United States',\n",
       " 'address': {'house_number': '10022',\n",
       "  'road': '61st Avenue South',\n",
       "  'neighbourhood': 'Rainier Beach',\n",
       "  'city': 'Seattle',\n",
       "  'county': 'King County',\n",
       "  'state': 'Washington',\n",
       "  'ISO3166-2-lvl4': 'US-WA',\n",
       "  'postcode': '98178',\n",
       "  'country': 'United States',\n",
       "  'country_code': 'us'},\n",
       " 'boundingbox': ['47.5109076', '47.5110247', '-122.2568725', '-122.2566819']}"
      ]
     },
     "execution_count": 61,
     "metadata": {},
     "output_type": "execute_result"
    }
   ],
   "source": [
    "geolocator = Nominatim(user_agent='geoapiExercises')\n",
    "response = geolocator.reverse('47.511, -122.257')\n",
    "ax = response.raw\n",
    "ax"
   ]
  },
  {
   "cell_type": "code",
   "execution_count": 62,
   "metadata": {},
   "outputs": [
    {
     "data": {
      "text/plain": [
       "5"
      ]
     },
     "execution_count": 62,
     "metadata": {},
     "output_type": "execute_result"
    }
   ],
   "source": [
    "len(df.head())"
   ]
  },
  {
   "cell_type": "code",
   "execution_count": 63,
   "metadata": {},
   "outputs": [],
   "source": [
    "geolocator = Nominatim(user_agent='geoapiExercises', timeout = None)\n",
    "\n",
    "df['Place ID'] = 'NA'\n",
    "df['OSM Type'] = 'NA'\n",
    "df['Country'] = 'NA'\n",
    "df['Country Code'] = 'NA'\n",
    "\n",
    "for i in range (len(df.head())):\n",
    "    query = str(df.loc[i,'lat']) +','+ str(df.loc[i,'long'])\n",
    "    response = geolocator.reverse(query)\n",
    "    \n",
    "    if 'place_id' in response.raw:\n",
    "        df.loc[i, 'Place ID'] = response.raw['place_id']\n",
    "    if 'osm_type' in response.raw:\n",
    "        df.loc[i, 'OSM Type'] = response.raw['osm_type']\n",
    "    if 'country' in response.raw['address']:\n",
    "        df.loc[i, 'Country'] = response.raw['address']['country']\n",
    "    if 'country_code' in response.raw['address']:\n",
    "        df.loc[i, 'Country Code'] = response.raw['address']['country_code']"
   ]
  },
  {
   "cell_type": "code",
   "execution_count": 64,
   "metadata": {},
   "outputs": [
    {
     "data": {
      "text/html": [
       "<div>\n",
       "<style scoped>\n",
       "    .dataframe tbody tr th:only-of-type {\n",
       "        vertical-align: middle;\n",
       "    }\n",
       "\n",
       "    .dataframe tbody tr th {\n",
       "        vertical-align: top;\n",
       "    }\n",
       "\n",
       "    .dataframe thead th {\n",
       "        text-align: right;\n",
       "    }\n",
       "</style>\n",
       "<table border=\"1\" class=\"dataframe\">\n",
       "  <thead>\n",
       "    <tr style=\"text-align: right;\">\n",
       "      <th></th>\n",
       "      <th>id</th>\n",
       "      <th>date</th>\n",
       "      <th>price</th>\n",
       "      <th>bedrooms</th>\n",
       "      <th>bathrooms</th>\n",
       "      <th>sqft_living</th>\n",
       "      <th>sqft_lot</th>\n",
       "      <th>floors</th>\n",
       "      <th>waterfront</th>\n",
       "      <th>view</th>\n",
       "      <th>condition</th>\n",
       "      <th>grade</th>\n",
       "      <th>sqft_above</th>\n",
       "      <th>sqft_basement</th>\n",
       "      <th>yr_built</th>\n",
       "      <th>yr_renovated</th>\n",
       "      <th>zipcode</th>\n",
       "      <th>lat</th>\n",
       "      <th>long</th>\n",
       "      <th>sqft_living15</th>\n",
       "      <th>sqft_lot15</th>\n",
       "      <th>nível</th>\n",
       "      <th>size</th>\n",
       "      <th>Place ID</th>\n",
       "      <th>OSM Type</th>\n",
       "      <th>Country</th>\n",
       "      <th>Country Code</th>\n",
       "    </tr>\n",
       "  </thead>\n",
       "  <tbody>\n",
       "    <tr>\n",
       "      <th>0</th>\n",
       "      <td>7129300520</td>\n",
       "      <td>2014-10-13</td>\n",
       "      <td>221900.00</td>\n",
       "      <td>3</td>\n",
       "      <td>1.00</td>\n",
       "      <td>1180</td>\n",
       "      <td>5650</td>\n",
       "      <td>1.00</td>\n",
       "      <td>0</td>\n",
       "      <td>0</td>\n",
       "      <td>3</td>\n",
       "      <td>7</td>\n",
       "      <td>1180</td>\n",
       "      <td>0</td>\n",
       "      <td>1955</td>\n",
       "      <td>0</td>\n",
       "      <td>98178</td>\n",
       "      <td>47.51</td>\n",
       "      <td>-122.26</td>\n",
       "      <td>1340</td>\n",
       "      <td>5650</td>\n",
       "      <td>0</td>\n",
       "      <td>0</td>\n",
       "      <td>164281254</td>\n",
       "      <td>way</td>\n",
       "      <td>United States</td>\n",
       "      <td>us</td>\n",
       "    </tr>\n",
       "    <tr>\n",
       "      <th>1</th>\n",
       "      <td>6414100192</td>\n",
       "      <td>2014-12-09</td>\n",
       "      <td>538000.00</td>\n",
       "      <td>3</td>\n",
       "      <td>2.25</td>\n",
       "      <td>2570</td>\n",
       "      <td>7242</td>\n",
       "      <td>2.00</td>\n",
       "      <td>0</td>\n",
       "      <td>0</td>\n",
       "      <td>3</td>\n",
       "      <td>7</td>\n",
       "      <td>2170</td>\n",
       "      <td>400</td>\n",
       "      <td>1951</td>\n",
       "      <td>1991</td>\n",
       "      <td>98125</td>\n",
       "      <td>47.72</td>\n",
       "      <td>-122.32</td>\n",
       "      <td>1690</td>\n",
       "      <td>7639</td>\n",
       "      <td>2</td>\n",
       "      <td>3</td>\n",
       "      <td>162919585</td>\n",
       "      <td>way</td>\n",
       "      <td>United States</td>\n",
       "      <td>us</td>\n",
       "    </tr>\n",
       "    <tr>\n",
       "      <th>2</th>\n",
       "      <td>5631500400</td>\n",
       "      <td>2015-02-25</td>\n",
       "      <td>180000.00</td>\n",
       "      <td>2</td>\n",
       "      <td>1.00</td>\n",
       "      <td>770</td>\n",
       "      <td>10000</td>\n",
       "      <td>1.00</td>\n",
       "      <td>0</td>\n",
       "      <td>0</td>\n",
       "      <td>3</td>\n",
       "      <td>6</td>\n",
       "      <td>770</td>\n",
       "      <td>0</td>\n",
       "      <td>1933</td>\n",
       "      <td>0</td>\n",
       "      <td>98028</td>\n",
       "      <td>47.74</td>\n",
       "      <td>-122.23</td>\n",
       "      <td>2720</td>\n",
       "      <td>8062</td>\n",
       "      <td>0</td>\n",
       "      <td>0</td>\n",
       "      <td>74350607</td>\n",
       "      <td>node</td>\n",
       "      <td>United States</td>\n",
       "      <td>us</td>\n",
       "    </tr>\n",
       "    <tr>\n",
       "      <th>3</th>\n",
       "      <td>2487200875</td>\n",
       "      <td>2014-12-09</td>\n",
       "      <td>604000.00</td>\n",
       "      <td>4</td>\n",
       "      <td>3.00</td>\n",
       "      <td>1960</td>\n",
       "      <td>5000</td>\n",
       "      <td>1.00</td>\n",
       "      <td>0</td>\n",
       "      <td>0</td>\n",
       "      <td>5</td>\n",
       "      <td>7</td>\n",
       "      <td>1050</td>\n",
       "      <td>910</td>\n",
       "      <td>1965</td>\n",
       "      <td>0</td>\n",
       "      <td>98136</td>\n",
       "      <td>47.52</td>\n",
       "      <td>-122.39</td>\n",
       "      <td>1360</td>\n",
       "      <td>5000</td>\n",
       "      <td>2</td>\n",
       "      <td>2</td>\n",
       "      <td>160391552</td>\n",
       "      <td>way</td>\n",
       "      <td>United States</td>\n",
       "      <td>us</td>\n",
       "    </tr>\n",
       "    <tr>\n",
       "      <th>4</th>\n",
       "      <td>1954400510</td>\n",
       "      <td>2015-02-18</td>\n",
       "      <td>510000.00</td>\n",
       "      <td>3</td>\n",
       "      <td>2.00</td>\n",
       "      <td>1680</td>\n",
       "      <td>8080</td>\n",
       "      <td>1.00</td>\n",
       "      <td>0</td>\n",
       "      <td>0</td>\n",
       "      <td>3</td>\n",
       "      <td>8</td>\n",
       "      <td>1680</td>\n",
       "      <td>0</td>\n",
       "      <td>1987</td>\n",
       "      <td>0</td>\n",
       "      <td>98074</td>\n",
       "      <td>47.62</td>\n",
       "      <td>-122.05</td>\n",
       "      <td>1800</td>\n",
       "      <td>7503</td>\n",
       "      <td>2</td>\n",
       "      <td>1</td>\n",
       "      <td>309183460</td>\n",
       "      <td>way</td>\n",
       "      <td>United States</td>\n",
       "      <td>us</td>\n",
       "    </tr>\n",
       "  </tbody>\n",
       "</table>\n",
       "</div>"
      ],
      "text/plain": [
       "           id       date     price  bedrooms  bathrooms  sqft_living  \\\n",
       "0  7129300520 2014-10-13 221900.00         3       1.00         1180   \n",
       "1  6414100192 2014-12-09 538000.00         3       2.25         2570   \n",
       "2  5631500400 2015-02-25 180000.00         2       1.00          770   \n",
       "3  2487200875 2014-12-09 604000.00         4       3.00         1960   \n",
       "4  1954400510 2015-02-18 510000.00         3       2.00         1680   \n",
       "\n",
       "   sqft_lot  floors  waterfront  view  condition  grade  sqft_above  \\\n",
       "0      5650    1.00           0     0          3      7        1180   \n",
       "1      7242    2.00           0     0          3      7        2170   \n",
       "2     10000    1.00           0     0          3      6         770   \n",
       "3      5000    1.00           0     0          5      7        1050   \n",
       "4      8080    1.00           0     0          3      8        1680   \n",
       "\n",
       "   sqft_basement  yr_built  yr_renovated  zipcode   lat    long  \\\n",
       "0              0      1955             0    98178 47.51 -122.26   \n",
       "1            400      1951          1991    98125 47.72 -122.32   \n",
       "2              0      1933             0    98028 47.74 -122.23   \n",
       "3            910      1965             0    98136 47.52 -122.39   \n",
       "4              0      1987             0    98074 47.62 -122.05   \n",
       "\n",
       "   sqft_living15  sqft_lot15  nível  size   Place ID OSM Type        Country  \\\n",
       "0           1340        5650      0     0  164281254      way  United States   \n",
       "1           1690        7639      2     3  162919585      way  United States   \n",
       "2           2720        8062      0     0   74350607     node  United States   \n",
       "3           1360        5000      2     2  160391552      way  United States   \n",
       "4           1800        7503      2     1  309183460      way  United States   \n",
       "\n",
       "  Country Code  \n",
       "0           us  \n",
       "1           us  \n",
       "2           us  \n",
       "3           us  \n",
       "4           us  "
      ]
     },
     "execution_count": 64,
     "metadata": {},
     "output_type": "execute_result"
    }
   ],
   "source": [
    "pd.set_option('display.max_columns', None)\n",
    "df.head()"
   ]
  },
  {
   "cell_type": "code",
   "execution_count": 65,
   "metadata": {},
   "outputs": [
    {
     "data": {
      "text/plain": [
       "array([3, 5, 4, 1, 2], dtype=int64)"
      ]
     },
     "execution_count": 65,
     "metadata": {},
     "output_type": "execute_result"
    }
   ],
   "source": [
    "df['condition'].unique()"
   ]
  },
  {
   "cell_type": "markdown",
   "metadata": {
    "tags": []
   },
   "source": [
    "### Meigarom"
   ]
  },
  {
   "cell_type": "code",
   "execution_count": 8,
   "metadata": {
    "ExecuteTime": {
     "end_time": "2021-02-28T13:27:32.314489Z",
     "start_time": "2021-02-28T13:27:32.312093Z"
    }
   },
   "outputs": [],
   "source": [
    "# ------------------------------\n",
    "# Arquivo defs.py\n",
    "# ------------------------------\n",
    "#\n",
    "#import time\n",
    "#from geopy.geocoders import Nominatim\n",
    "#\n",
    "#geolocator = Nominatim( user_agent='geopiExercises' )\n",
    "#\n",
    "#def get_longlat( x ):\n",
    "#    index, row = x\n",
    "#    time.sleep(1)\n",
    "#    response = geolocator.reverse( row['query'] )\n",
    "#    address = response.raw['address']\n",
    "#\n",
    "#    try:\n",
    "#        place_id = response.raw['place_id'] if 'place_id' in response.raw else 'NA'\n",
    "#        osm_type = response.raw['osm_type'] if 'osm_type' in response.raw else 'NA'\n",
    "#\n",
    "#        country = address['country'] if 'country' in address else 'NA'\n",
    "#        country_code = address['country_code'] if 'country_code' in address else 'NA'\n",
    "#\n",
    "#        return place_id, osm_type, country, country_code\n",
    "#\n",
    "#    except:\n",
    "#        return None, None, None, None"
   ]
  },
  {
   "cell_type": "code",
   "execution_count": 3,
   "metadata": {
    "ExecuteTime": {
     "end_time": "2021-02-28T13:27:37.917950Z",
     "start_time": "2021-02-28T13:27:32.603613Z"
    }
   },
   "outputs": [
    {
     "name": "stdout",
     "output_type": "stream",
     "text": [
      "0.0\n"
     ]
    }
   ],
   "source": [
    "import time\n",
    "import defs\n",
    "from multiprocessing import Pool\n",
    "data = pd.read_csv( 'csv/kc_house_data.csv' )\n",
    "data['query'] = data[['lat', 'long']].apply( lambda x: str( x['lat'] ) + ',' + str( x['long'] ), axis=1 )\n",
    "df1 = data[['id', 'query']].head()\n",
    "\n",
    "p = Pool(2)\n",
    "start = time.process_time()\n",
    "df1[['place_id', 'osm_type', 'country', 'country_code']] = p.map( defs.get_longlat, df1.iterrows() )\n",
    "print(time.process_time() - start)"
   ]
  },
  {
   "cell_type": "code",
   "execution_count": 4,
   "metadata": {
    "ExecuteTime": {
     "end_time": "2021-02-28T13:27:37.938675Z",
     "start_time": "2021-02-28T13:27:37.920791Z"
    }
   },
   "outputs": [
    {
     "data": {
      "text/html": [
       "<div>\n",
       "<style scoped>\n",
       "    .dataframe tbody tr th:only-of-type {\n",
       "        vertical-align: middle;\n",
       "    }\n",
       "\n",
       "    .dataframe tbody tr th {\n",
       "        vertical-align: top;\n",
       "    }\n",
       "\n",
       "    .dataframe thead th {\n",
       "        text-align: right;\n",
       "    }\n",
       "</style>\n",
       "<table border=\"1\" class=\"dataframe\">\n",
       "  <thead>\n",
       "    <tr style=\"text-align: right;\">\n",
       "      <th></th>\n",
       "      <th>id</th>\n",
       "      <th>query</th>\n",
       "      <th>place_id</th>\n",
       "      <th>osm_type</th>\n",
       "      <th>country</th>\n",
       "      <th>country_code</th>\n",
       "    </tr>\n",
       "  </thead>\n",
       "  <tbody>\n",
       "    <tr>\n",
       "      <th>0</th>\n",
       "      <td>7129300520</td>\n",
       "      <td>47.5112,-122.257</td>\n",
       "      <td>164281254</td>\n",
       "      <td>way</td>\n",
       "      <td>United States</td>\n",
       "      <td>us</td>\n",
       "    </tr>\n",
       "    <tr>\n",
       "      <th>1</th>\n",
       "      <td>6414100192</td>\n",
       "      <td>47.721,-122.319</td>\n",
       "      <td>162919585</td>\n",
       "      <td>way</td>\n",
       "      <td>United States</td>\n",
       "      <td>us</td>\n",
       "    </tr>\n",
       "    <tr>\n",
       "      <th>2</th>\n",
       "      <td>5631500400</td>\n",
       "      <td>47.7379,-122.233</td>\n",
       "      <td>74350607</td>\n",
       "      <td>node</td>\n",
       "      <td>United States</td>\n",
       "      <td>us</td>\n",
       "    </tr>\n",
       "    <tr>\n",
       "      <th>3</th>\n",
       "      <td>2487200875</td>\n",
       "      <td>47.5208,-122.393</td>\n",
       "      <td>160391552</td>\n",
       "      <td>way</td>\n",
       "      <td>United States</td>\n",
       "      <td>us</td>\n",
       "    </tr>\n",
       "    <tr>\n",
       "      <th>4</th>\n",
       "      <td>1954400510</td>\n",
       "      <td>47.6168,-122.045</td>\n",
       "      <td>309183460</td>\n",
       "      <td>way</td>\n",
       "      <td>United States</td>\n",
       "      <td>us</td>\n",
       "    </tr>\n",
       "  </tbody>\n",
       "</table>\n",
       "</div>"
      ],
      "text/plain": [
       "           id             query   place_id osm_type        country  \\\n",
       "0  7129300520  47.5112,-122.257  164281254      way  United States   \n",
       "1  6414100192   47.721,-122.319  162919585      way  United States   \n",
       "2  5631500400  47.7379,-122.233   74350607     node  United States   \n",
       "3  2487200875  47.5208,-122.393  160391552      way  United States   \n",
       "4  1954400510  47.6168,-122.045  309183460      way  United States   \n",
       "\n",
       "  country_code  \n",
       "0           us  \n",
       "1           us  \n",
       "2           us  \n",
       "3           us  \n",
       "4           us  "
      ]
     },
     "execution_count": 4,
     "metadata": {},
     "output_type": "execute_result"
    }
   ],
   "source": [
    "df1.head()"
   ]
  },
  {
   "cell_type": "markdown",
   "metadata": {
    "ExecuteTime": {
     "end_time": "2021-02-27T22:42:51.242679Z",
     "start_time": "2021-02-27T22:42:51.236168Z"
    }
   },
   "source": [
    "## 4. Adicione os seguinte filtros no Mapa:\n",
    "        - Tamanho mínimo da área da sala de estar.\n",
    "        - Número mínimo de banheiros.\n",
    "        - Valor Máximo do Preço.\n",
    "        - Tamanho máximo da área do porão.\n",
    "        - Filtro das Condições do Imóvel.\n",
    "        - Filtro por Ano de Construção."
   ]
  },
  {
   "cell_type": "code",
   "execution_count": 67,
   "metadata": {},
   "outputs": [
    {
     "data": {
      "text/plain": [
       "array([3, 5, 4, 1, 2], dtype=int64)"
      ]
     },
     "execution_count": 67,
     "metadata": {},
     "output_type": "execute_result"
    }
   ],
   "source": [
    "df['condition'].unique()"
   ]
  },
  {
   "cell_type": "code",
   "execution_count": 68,
   "metadata": {},
   "outputs": [
    {
     "data": {
      "text/plain": [
       "array([1900, 1901, 1902, 1903, 1904, 1905, 1906, 1907, 1908, 1909, 1910,\n",
       "       1911, 1912, 1913, 1914, 1915, 1916, 1917, 1918, 1919, 1920, 1921,\n",
       "       1922, 1923, 1924, 1925, 1926, 1927, 1928, 1929, 1930, 1931, 1932,\n",
       "       1933, 1934, 1935, 1936, 1937, 1938, 1939, 1940, 1941, 1942, 1943,\n",
       "       1944, 1945, 1946, 1947, 1948, 1949, 1950, 1951, 1952, 1953, 1954,\n",
       "       1955, 1956, 1957, 1958, 1959, 1960, 1961, 1962, 1963, 1964, 1965,\n",
       "       1966, 1967, 1968, 1969, 1970, 1971, 1972, 1973, 1974, 1975, 1976,\n",
       "       1977, 1978, 1979, 1980, 1981, 1982, 1983, 1984, 1985, 1986, 1987,\n",
       "       1988, 1989, 1990, 1991, 1992, 1993, 1994, 1995, 1996, 1997, 1998,\n",
       "       1999, 2000, 2001, 2002, 2003, 2004, 2005, 2006, 2007, 2008, 2009,\n",
       "       2010, 2011, 2012, 2013, 2014, 2015], dtype=int64)"
      ]
     },
     "execution_count": 68,
     "metadata": {},
     "output_type": "execute_result"
    }
   ],
   "source": [
    "df['yr_built'].sort_values().unique()"
   ]
  },
  {
   "cell_type": "code",
   "execution_count": 70,
   "metadata": {},
   "outputs": [
    {
     "data": {
      "text/plain": [
       "[1, 2, 3, 4, 5]"
      ]
     },
     "execution_count": 70,
     "metadata": {},
     "output_type": "execute_result"
    }
   ],
   "source": [
    "df.head()\n",
    "df['condition'].sort_values().unique().tolist()"
   ]
  },
  {
   "cell_type": "code",
   "execution_count": 79,
   "metadata": {},
   "outputs": [],
   "source": [
    "style = {'description_width': 'initial'}\n",
    "\n",
    "living_room_bar = widgets.IntSlider(\n",
    "    value=1910,\n",
    "    min=290,\n",
    "    max=13540,\n",
    "    step=1,\n",
    "    description='Sqft living room:',\n",
    "    disabled=False,\n",
    "    style = style)\n",
    "\n",
    "bathrooms_bar = widgets.FloatSlider(\n",
    "    value=2.25,\n",
    "    min=0,\n",
    "    max=8,\n",
    "    step=0.25,\n",
    "    description='Bathrooms number:',\n",
    "    disabled=False,\n",
    "    style = style)\n",
    "\n",
    "\n",
    "price_bar = widgets.IntSlider(\n",
    "    value=450000.0,\n",
    "    min=75000.0,\n",
    "    max=7700000.0,\n",
    "    step=1,\n",
    "    description='Price:',\n",
    "    disabled=False,\n",
    "    style = style)\n",
    "\n",
    "basement_bar = widgets.IntSlider(\n",
    "    value=2410,\n",
    "    min=0,\n",
    "    max=4820,\n",
    "    step=1,\n",
    "    description='Sqft basement bar:',\n",
    "    disabled=False,\n",
    "    style = style)\n",
    "\n",
    "condition_buttom = widgets.Dropdown(\n",
    "    options=df['condition'].sort_values().unique().tolist(),\n",
    "    value=1,\n",
    "    description='Condition:',\n",
    "    disabled=False)\n",
    "\n",
    "year_insert = widgets.BoundedIntText(\n",
    "    value=2002,\n",
    "    min=1900,\n",
    "    max=2015,\n",
    "    step=1,\n",
    "    description='Ano:',\n",
    "    disabled=False)\n",
    "\n",
    "def update_map( df, living, bathrooms, price, basement, condition, year):\n",
    "    mask_1 = (df['sqft_living'] >= living)\n",
    "    mask_2 = (df['bathrooms'] >= bathrooms)\n",
    "    mask_3 = (df['price'] <= price)\n",
    "    mask_4 = (df['sqft_basement'] <= basement)\n",
    "    mask_5 = (df['condition'] == condition)\n",
    "    mask_6 = (df['yr_built'] == year)\n",
    "    \n",
    "    houses = df[mask_1 & mask_2 & mask_3 & mask_4 & mask_5 & mask_6][['id', 'lat', 'long', 'price', 'nível']]\n",
    "    print(houses.head())\n",
    "    fig = px.scatter_mapbox( houses, \n",
    "                             lat='lat', \n",
    "                             lon='long',\n",
    "                             color='nível', \n",
    "                             size='price', \n",
    "                             color_continuous_scale=px.colors.cyclical.IceFire,\n",
    "                             size_max=15,\n",
    "                             zoom=10 ) \n",
    "\n",
    "    fig.update_layout( mapbox_style='open-street-map' )\n",
    "    #fig.update_layout( mapbox_style='carto-positron' )\n",
    "    fig.update_layout( height=600, margin={'r':0, 't':0, 'l':0, 'b':0} )\n",
    "    fig.show()"
   ]
  },
  {
   "cell_type": "code",
   "execution_count": 80,
   "metadata": {},
   "outputs": [
    {
     "data": {
      "application/vnd.jupyter.widget-view+json": {
       "model_id": "6c5e4e4dc2c34cbc8a607c4d4b77267b",
       "version_major": 2,
       "version_minor": 0
      },
      "text/plain": [
       "interactive(children=(IntSlider(value=1910, description='Sqft living room:', max=13540, min=290, style=SliderS…"
      ]
     },
     "metadata": {},
     "output_type": "display_data"
    }
   ],
   "source": [
    "widgets.interactive( update_map, df=fixed( df ), living = living_room_bar, bathrooms = bathrooms_bar, price = price_bar, basement = basement_bar, condition = condition_buttom, year = year_insert)"
   ]
  },
  {
   "cell_type": "markdown",
   "metadata": {
    "tags": []
   },
   "source": [
    "### Meigarom"
   ]
  },
  {
   "cell_type": "code",
   "execution_count": 126,
   "metadata": {
    "ExecuteTime": {
     "end_time": "2021-02-28T14:37:45.330516Z",
     "start_time": "2021-02-28T14:37:45.326763Z"
    }
   },
   "outputs": [
    {
     "data": {
      "text/plain": [
       "Index(['id', 'date', 'price', 'bedrooms', 'bathrooms', 'sqft_living',\n",
       "       'sqft_lot', 'floors', 'waterfront', 'view', 'condition', 'grade',\n",
       "       'sqft_above', 'sqft_basement', 'yr_built', 'yr_renovated', 'zipcode',\n",
       "       'lat', 'long', 'sqft_living15', 'sqft_lot15', 'level', 'size', 'query',\n",
       "       'year', 'year_week', 'is_waterfront'],\n",
       "      dtype='object')"
      ]
     },
     "execution_count": 126,
     "metadata": {},
     "output_type": "execute_result"
    }
   ],
   "source": [
    "data.columns"
   ]
  },
  {
   "cell_type": "code",
   "execution_count": 11,
   "metadata": {
    "ExecuteTime": {
     "end_time": "2021-02-28T14:42:45.941519Z",
     "start_time": "2021-02-28T14:42:45.868392Z"
    }
   },
   "outputs": [],
   "source": [
    "# Prepare Data\n",
    "data = pd.read_csv( 'csv/kc_house_data.csv' )\n",
    "data['is_waterfront'] = data['waterfront'].apply( lambda x: 'yes' if x == 1 else 'no' )\n",
    "\n",
    "# define level of prices\n",
    "data['level'] = data['price'].apply( lambda x: 0 if x <= 321950 else \n",
    "                                           1 if ( x > 321950 ) & ( x <= 450000) else \n",
    "                                           2 if ( x > 450000 ) & ( x <= 645000 ) else 3 )\n",
    "data['level'] = data['level'].astype( int )\n",
    "\n",
    "# Iteractive buttons\n",
    "price_limit = widgets.IntSlider(\n",
    "    value = 540000,\n",
    "    min = 75000,\n",
    "    max = 7700000,\n",
    "    step = 1,\n",
    "    description='Maximun Price',\n",
    "    disable=False,\n",
    "    style={'description_width': 'initial'}\n",
    ")\n",
    "\n",
    "waterfront_bar = widgets.Dropdown(\n",
    "    options = data['is_waterfront'].unique().tolist(),\n",
    "    value = 'yes',\n",
    "    description = 'Water View',\n",
    "    disable=False\n",
    ")\n",
    "\n",
    "livingroom_limit = widgets.IntSlider(\n",
    "    value = int( data['sqft_living'].mean() ), \n",
    "    min = data['sqft_living'].min(),\n",
    "    max = data['sqft_living'].max(),\n",
    "    step = 1,\n",
    "    description='Minimum Living Room Size',\n",
    "    disable=False,\n",
    "    style={'description_width': 'initial'}\n",
    ")\n",
    "\n",
    "bathroom_limit = widgets.IntSlider(\n",
    "    value = int( data['bathrooms'].mean() ), \n",
    "    min = data['bathrooms'].min(),\n",
    "    max = data['bathrooms'].max(),\n",
    "    step = 1,\n",
    "    description='Minimum Bathroom Number',\n",
    "    disable=False,\n",
    "    style={'description_width': 'initial'}\n",
    ")\n",
    "\n",
    "basement_limit = widgets.IntSlider(\n",
    "    value = int( data['sqft_basement'].mean() ), \n",
    "    min = data['sqft_basement'].min(),\n",
    "    max = data['sqft_basement'].max(),\n",
    "    step = 1,\n",
    "    description='Minimum Basement Size',\n",
    "    disable=False,\n",
    "    style={'description_width': 'initial'}\n",
    ")\n",
    "\n",
    "condition_limit = widgets.IntSlider(\n",
    "    value = int( data['condition'].mean() ), \n",
    "    min = data['condition'].min(),\n",
    "    max = data['condition'].max(),\n",
    "    step = 1,\n",
    "    description='Minimum condition',\n",
    "    disable=False,\n",
    "    style={'description_width': 'initial'}\n",
    ")\n",
    "\n",
    "year_limit = widgets.IntSlider(\n",
    "    value = int( data['yr_built'].mean() ), \n",
    "    min = data['yr_built'].min(),\n",
    "    max = data['yr_built'].max(),\n",
    "    step = 1,\n",
    "    description='Year Built',\n",
    "    disable=False,\n",
    "    style={'description_width': 'initial'}\n",
    ")\n",
    "\n",
    "\n",
    "def update_map( df, waterfront, limit, livingroom, bathroom, basement, condition, year):\n",
    "    houses = df[(df['price'] <= limit) & \n",
    "                (df['is_waterfront'] == waterfront) &\n",
    "                (df['sqft_living'] >= livingroom) &\n",
    "                (df['bathrooms'] >= bathroom) &\n",
    "                (df['sqft_basement'] >= basement) &\n",
    "                (df['condition'] >= condition) &\n",
    "                (df['yr_built'] >= year)][['id', 'lat', 'long', 'price', 'level']]\n",
    "    \n",
    "    fig = px.scatter_mapbox( houses, \n",
    "                             lat=\"lat\", \n",
    "                             lon=\"long\", \n",
    "                             size=\"price\",\n",
    "                             color=\"level\",\n",
    "                             color_continuous_scale=px.colors.cyclical.IceFire, \n",
    "                             size_max=15, \n",
    "                             zoom=10)\n",
    "\n",
    "    fig.update_layout(mapbox_style=\"open-street-map\")\n",
    "    fig.update_layout(height=600, margin={\"r\":0,\"t\":0,\"l\":0,\"b\":0})\n",
    "    fig.show()"
   ]
  },
  {
   "cell_type": "code",
   "execution_count": 12,
   "metadata": {
    "ExecuteTime": {
     "end_time": "2021-02-28T14:42:56.616520Z",
     "start_time": "2021-02-28T14:42:56.524002Z"
    }
   },
   "outputs": [
    {
     "data": {
      "application/vnd.jupyter.widget-view+json": {
       "model_id": "16f03abbbb854a5ea2a8eeb20f59cc67",
       "version_major": 2,
       "version_minor": 0
      },
      "text/plain": [
       "interactive(children=(Dropdown(description='Water View', index=1, options=('no', 'yes'), value='yes'), IntSlid…"
      ]
     },
     "metadata": {},
     "output_type": "display_data"
    }
   ],
   "source": [
    "widgets.interactive( update_map, \n",
    "                     df=fixed( data ), \n",
    "                     waterfront=waterfront_bar, \n",
    "                     limit=price_limit, \n",
    "                     livingroom=livingroom_limit,\n",
    "                     bathroom=bathroom_limit,\n",
    "                     basement=basement_limit,\n",
    "                     condition=condition_limit,\n",
    "                     year=year_limit\n",
    "                    )"
   ]
  },
  {
   "cell_type": "markdown",
   "metadata": {
    "ExecuteTime": {
     "end_time": "2021-02-27T22:42:51.242679Z",
     "start_time": "2021-02-27T22:42:51.236168Z"
    }
   },
   "source": [
    "## 5. Adicione os seguinte filtros no Dashboard:\n",
    "        - Filtro por data disponível para compra.\n",
    "        - Filtro por ano de renovação.\n",
    "        - Filtro se possui vista para a água ou não."
   ]
  },
  {
   "cell_type": "code",
   "execution_count": null,
   "metadata": {},
   "outputs": [],
   "source": []
  },
  {
   "cell_type": "markdown",
   "metadata": {
    "jp-MarkdownHeadingCollapsed": true,
    "tags": []
   },
   "source": [
    "### Meigarom"
   ]
  },
  {
   "cell_type": "code",
   "execution_count": 94,
   "metadata": {
    "ExecuteTime": {
     "end_time": "2021-02-28T14:17:30.304659Z",
     "start_time": "2021-02-28T14:17:29.861860Z"
    }
   },
   "outputs": [],
   "source": [
    "# Change data format\n",
    "data['year'] = pd.to_datetime( data['date'] ).dt.strftime( '%Y' )\n",
    "data['date'] = pd.to_datetime( data['date'] ).dt.strftime( '%Y-%m-%d' )\n",
    "data['year_week'] = pd.to_datetime( data['date'] ).dt.strftime( '%Y-%U' )\n",
    "\n",
    "# ----------------------------\n",
    "# Filtering\n",
    "# ----------------------------\n",
    "# Widget to control data\n",
    "date_limit = widgets.SelectionSlider( \n",
    "    options = data['date'].sort_values().unique().tolist(),\n",
    "    value='2014-12-01',\n",
    "    description='Max Available Date',\n",
    "    disable=False,\n",
    "    continuous_update=False,\n",
    "    orientation='horizontal',\n",
    "    style={'description_width': 'initial'},\n",
    "    readout=True\n",
    ")\n",
    "\n",
    "# Max Year Renovated\n",
    "year_limit = widgets.SelectionSlider( \n",
    "    options = data['yr_renovated'].sort_values().unique().tolist(),\n",
    "    value=2000,\n",
    "    description='Max Year',\n",
    "    disable=False,\n",
    "    continuous_update=False,\n",
    "    orientation='horizontal',\n",
    "    style={'description_width': 'initial'},\n",
    "    readout=True\n",
    ")\n",
    "\n",
    "# Waterfront\n",
    "waterfront_limit = widgets.Checkbox(\n",
    "    value=False,\n",
    "    description='Waterfront?',\n",
    "    disabled=False,\n",
    "    indent=False\n",
    ")\n",
    "\n",
    "def update_map( data, date_limit, year_limit, waterfront_limit ):\n",
    "    \n",
    "    # Filter data\n",
    "    df = data[(data['date'] <= date_limit) & \n",
    "              (data['yr_renovated'] >= year_limit) &\n",
    "              (data['waterfront'] == waterfront_limit)].copy()\n",
    "\n",
    "    fig = plt.figure( figsize=(24, 12) )\n",
    "    specs = gridspec.GridSpec( ncols=2, nrows=2, figure=fig )\n",
    "\n",
    "    ax1 = fig.add_subplot( specs[0, :] ) # First Row\n",
    "    ax2 = fig.add_subplot( specs[1, 0] ) # First Row First Column\n",
    "    ax3 = fig.add_subplot( specs[1, 1] ) # Second Row First Column\n",
    "\n",
    "    by_year = df[['id', 'year']].groupby( 'year' ).sum().reset_index()\n",
    "    ax1.bar( by_year['year'], by_year['id'] )\n",
    "\n",
    "    # Frist Graph\n",
    "    by_day = df[['id', 'date']].groupby( 'date' ).mean().reset_index()\n",
    "    ax2.plot( by_day['date'], by_day['id'] )\n",
    "    ax2.set_title( \"Title: Avg Price by Day\" )\n",
    "    \n",
    "    df['year_week'] = pd.to_datetime( df['date'] ).dt.strftime( '%Y-%U' )\n",
    "    by_week_of_year = df[['id', 'year_week']].groupby( 'year_week' ).mean().reset_index()\n",
    "    ax3.bar( by_week_of_year['year_week'], by_week_of_year['id'] )\n",
    "    ax3.set_title( \"Title: Avg Price by Week of Year\" )\n",
    "    plt.xticks( rotation=60);"
   ]
  },
  {
   "cell_type": "code",
   "execution_count": 95,
   "metadata": {
    "ExecuteTime": {
     "end_time": "2021-02-28T14:17:33.751488Z",
     "start_time": "2021-02-28T14:17:31.078378Z"
    }
   },
   "outputs": [
    {
     "data": {
      "application/vnd.jupyter.widget-view+json": {
       "model_id": "912e260d17194edfb1d2b570b8fa8bed",
       "version_major": 2,
       "version_minor": 0
      },
      "text/plain": [
       "interactive(children=(SelectionSlider(continuous_update=False, description='Max Available Date', index=212, op…"
      ]
     },
     "metadata": {},
     "output_type": "display_data"
    }
   ],
   "source": [
    "widgets.interactive( update_map, \n",
    "                     data = fixed( data ), \n",
    "                     date_limit=date_limit,\n",
    "                     year_limit=year_limit,\n",
    "                     waterfront_limit=waterfront_limit )"
   ]
  },
  {
   "cell_type": "code",
   "execution_count": null,
   "metadata": {},
   "outputs": [],
   "source": []
  }
 ],
 "metadata": {
  "kernelspec": {
   "display_name": "Python 3 (ipykernel)",
   "language": "python",
   "name": "python3"
  },
  "language_info": {
   "codemirror_mode": {
    "name": "ipython",
    "version": 3
   },
   "file_extension": ".py",
   "mimetype": "text/x-python",
   "name": "python",
   "nbconvert_exporter": "python",
   "pygments_lexer": "ipython3",
   "version": "3.9.12"
  }
 },
 "nbformat": 4,
 "nbformat_minor": 4
}
