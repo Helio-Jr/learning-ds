{
 "cells": [
  {
   "cell_type": "markdown",
   "id": "a3d2aee3",
   "metadata": {},
   "source": [
    "## Imports"
   ]
  },
  {
   "cell_type": "code",
   "execution_count": 45,
   "id": "9aeabb36",
   "metadata": {
    "ExecuteTime": {
     "end_time": "2022-09-10T22:26:43.725744Z",
     "start_time": "2022-09-10T22:26:16.914172Z"
    }
   },
   "outputs": [],
   "source": [
    "import pandas as pd\n",
    "import plotly.express as px"
   ]
  },
  {
   "cell_type": "markdown",
   "id": "4adde57b",
   "metadata": {},
   "source": [
    "# Perguntas de negócio"
   ]
  },
  {
   "cell_type": "markdown",
   "id": "4038c866",
   "metadata": {
    "ExecuteTime": {
     "end_time": "2022-09-09T20:10:04.090436Z",
     "start_time": "2022-09-09T20:10:04.053222Z"
    }
   },
   "source": [
    "1.\tQual a data do imóvel mais antigo no portfólio?\n",
    "2.\tQuantos imóveis\n",
    "possuem o número máximo de andares?\n",
    "3.\tCriar uma\n",
    "classificação para o imóveis, separando-os em baixo e alto padrão,\n",
    "de acordo com preço.\n",
    "\n",
    "    Acima de R$ 540.000 -> alto padrão\n",
    "    \n",
    "    Abaixo de R$ 540.000 -> baixo padrão\n",
    "\n",
    "4.\tGostaria de um relatório ordenado pelo preço e contento as seguintes informações: ( id do imóvel,\n",
    "data que o imóvel ficou\n",
    "disponível para compra, o número de quartos,\n",
    "o tamanho total to terreno,\n",
    "o preço,\n",
    "a classificação do imóvel ( alto e baixo padrão )\n",
    "5.\tGostaria de um Mapa\n",
    "indicando onde as casas estão localizadas\n",
    "geograficamento.\n"
   ]
  },
  {
   "cell_type": "markdown",
   "id": "39af6a26",
   "metadata": {},
   "source": [
    "# Planejamento"
   ]
  },
  {
   "cell_type": "markdown",
   "id": "5abb73a9",
   "metadata": {},
   "source": [
    "## Produto Final"
   ]
  },
  {
   "cell_type": "markdown",
   "id": "aacf936c",
   "metadata": {},
   "source": [
    "Email (Texto respondendo as 2 primeiras questões, arquivo.csv respondendo a 4 e uma imagem para a 5)"
   ]
  },
  {
   "cell_type": "markdown",
   "id": "ab20e45b",
   "metadata": {},
   "source": [
    "## Ferramentas"
   ]
  },
  {
   "cell_type": "markdown",
   "id": "eebc1736",
   "metadata": {},
   "source": [
    "Python (Pandas e alguma biblioteca para criação de mapas)"
   ]
  },
  {
   "cell_type": "markdown",
   "id": "900ff061",
   "metadata": {},
   "source": [
    "## Processo (Como fazer)"
   ]
  },
  {
   "cell_type": "markdown",
   "id": "5d043856",
   "metadata": {
    "ExecuteTime": {
     "end_time": "2022-09-09T20:24:58.856752Z",
     "start_time": "2022-09-09T20:24:58.833814Z"
    }
   },
   "source": [
    "1.\tQual a data do imóvel mais antigo no portfólio?\n",
    "    Ordenar com a data na crescente.\n",
    "2.\tQuantos imóveis possuem o número máximo de andares?\n",
    "    Selecionar id e andar, agrupando por andar na decrescente.\n",
    "3.\tCriar uma classificação para o imóveis, separando-os em baixo e alto padrão, de acordo com preço.\\\n",
    "    3.1.Acima de R$ 540.000 -> alto padrão\n",
    "    \n",
    "    3.2.Abaixo de R$ 540.000 -> baixo padrão\n",
    "    \n",
    "    Criar coluna standard separando entre high_standard ou low_standard\n",
    "4.\tGostaria de um relatório ordenado pelo preço e contento as seguintes informações: ( id do imóvel, data que o imóvel ficou disponível para compra, o número de quartos, o tamanho total to terreno, o preço, a classificação do imóvel ( alto e baixo padrão )\\\n",
    "    Relatório em csv.\n",
    "5.\tGostaria de um Mapa indicando onde as casas estão localizadas geograficamento.\\\n",
    "    Pesquisar biblioteca de mapas."
   ]
  },
  {
   "cell_type": "code",
   "execution_count": 53,
   "id": "a851e692",
   "metadata": {
    "ExecuteTime": {
     "end_time": "2022-09-10T22:41:33.810998Z",
     "start_time": "2022-09-10T22:41:33.589200Z"
    }
   },
   "outputs": [],
   "source": [
    "df = pd.read_csv('kc_house_data.csv')\n",
    "pd.set_option('display.max_columns', None)"
   ]
  },
  {
   "cell_type": "code",
   "execution_count": 54,
   "id": "783df2ab",
   "metadata": {
    "ExecuteTime": {
     "end_time": "2022-09-10T22:41:33.918848Z",
     "start_time": "2022-09-10T22:41:33.906851Z"
    }
   },
   "outputs": [
    {
     "data": {
      "text/plain": [
       "id                 int64\n",
       "date              object\n",
       "price            float64\n",
       "bedrooms           int64\n",
       "bathrooms        float64\n",
       "sqft_living        int64\n",
       "sqft_lot           int64\n",
       "floors           float64\n",
       "waterfront         int64\n",
       "view               int64\n",
       "condition          int64\n",
       "grade              int64\n",
       "sqft_above         int64\n",
       "sqft_basement      int64\n",
       "yr_built           int64\n",
       "yr_renovated       int64\n",
       "zipcode            int64\n",
       "lat              float64\n",
       "long             float64\n",
       "sqft_living15      int64\n",
       "sqft_lot15         int64\n",
       "dtype: object"
      ]
     },
     "execution_count": 54,
     "metadata": {},
     "output_type": "execute_result"
    }
   ],
   "source": [
    "df.dtypes"
   ]
  },
  {
   "cell_type": "code",
   "execution_count": 55,
   "id": "d242b3d8",
   "metadata": {
    "ExecuteTime": {
     "end_time": "2022-09-10T22:41:34.120496Z",
     "start_time": "2022-09-10T22:41:33.981020Z"
    }
   },
   "outputs": [
    {
     "data": {
      "text/html": [
       "<div>\n",
       "<style scoped>\n",
       "    .dataframe tbody tr th:only-of-type {\n",
       "        vertical-align: middle;\n",
       "    }\n",
       "\n",
       "    .dataframe tbody tr th {\n",
       "        vertical-align: top;\n",
       "    }\n",
       "\n",
       "    .dataframe thead th {\n",
       "        text-align: right;\n",
       "    }\n",
       "</style>\n",
       "<table border=\"1\" class=\"dataframe\">\n",
       "  <thead>\n",
       "    <tr style=\"text-align: right;\">\n",
       "      <th></th>\n",
       "      <th>id</th>\n",
       "      <th>date</th>\n",
       "      <th>price</th>\n",
       "      <th>bedrooms</th>\n",
       "      <th>bathrooms</th>\n",
       "      <th>sqft_living</th>\n",
       "      <th>sqft_lot</th>\n",
       "      <th>floors</th>\n",
       "      <th>waterfront</th>\n",
       "      <th>view</th>\n",
       "      <th>condition</th>\n",
       "      <th>grade</th>\n",
       "      <th>sqft_above</th>\n",
       "      <th>sqft_basement</th>\n",
       "      <th>yr_built</th>\n",
       "      <th>yr_renovated</th>\n",
       "      <th>zipcode</th>\n",
       "      <th>lat</th>\n",
       "      <th>long</th>\n",
       "      <th>sqft_living15</th>\n",
       "      <th>sqft_lot15</th>\n",
       "    </tr>\n",
       "  </thead>\n",
       "  <tbody>\n",
       "    <tr>\n",
       "      <th>0</th>\n",
       "      <td>7129300520</td>\n",
       "      <td>20141013T000000</td>\n",
       "      <td>221900.0</td>\n",
       "      <td>3</td>\n",
       "      <td>1.00</td>\n",
       "      <td>1180</td>\n",
       "      <td>5650</td>\n",
       "      <td>1.0</td>\n",
       "      <td>0</td>\n",
       "      <td>0</td>\n",
       "      <td>3</td>\n",
       "      <td>7</td>\n",
       "      <td>1180</td>\n",
       "      <td>0</td>\n",
       "      <td>1955</td>\n",
       "      <td>0</td>\n",
       "      <td>98178</td>\n",
       "      <td>47.5112</td>\n",
       "      <td>-122.257</td>\n",
       "      <td>1340</td>\n",
       "      <td>5650</td>\n",
       "    </tr>\n",
       "    <tr>\n",
       "      <th>1</th>\n",
       "      <td>6414100192</td>\n",
       "      <td>20141209T000000</td>\n",
       "      <td>538000.0</td>\n",
       "      <td>3</td>\n",
       "      <td>2.25</td>\n",
       "      <td>2570</td>\n",
       "      <td>7242</td>\n",
       "      <td>2.0</td>\n",
       "      <td>0</td>\n",
       "      <td>0</td>\n",
       "      <td>3</td>\n",
       "      <td>7</td>\n",
       "      <td>2170</td>\n",
       "      <td>400</td>\n",
       "      <td>1951</td>\n",
       "      <td>1991</td>\n",
       "      <td>98125</td>\n",
       "      <td>47.7210</td>\n",
       "      <td>-122.319</td>\n",
       "      <td>1690</td>\n",
       "      <td>7639</td>\n",
       "    </tr>\n",
       "    <tr>\n",
       "      <th>2</th>\n",
       "      <td>5631500400</td>\n",
       "      <td>20150225T000000</td>\n",
       "      <td>180000.0</td>\n",
       "      <td>2</td>\n",
       "      <td>1.00</td>\n",
       "      <td>770</td>\n",
       "      <td>10000</td>\n",
       "      <td>1.0</td>\n",
       "      <td>0</td>\n",
       "      <td>0</td>\n",
       "      <td>3</td>\n",
       "      <td>6</td>\n",
       "      <td>770</td>\n",
       "      <td>0</td>\n",
       "      <td>1933</td>\n",
       "      <td>0</td>\n",
       "      <td>98028</td>\n",
       "      <td>47.7379</td>\n",
       "      <td>-122.233</td>\n",
       "      <td>2720</td>\n",
       "      <td>8062</td>\n",
       "    </tr>\n",
       "    <tr>\n",
       "      <th>3</th>\n",
       "      <td>2487200875</td>\n",
       "      <td>20141209T000000</td>\n",
       "      <td>604000.0</td>\n",
       "      <td>4</td>\n",
       "      <td>3.00</td>\n",
       "      <td>1960</td>\n",
       "      <td>5000</td>\n",
       "      <td>1.0</td>\n",
       "      <td>0</td>\n",
       "      <td>0</td>\n",
       "      <td>5</td>\n",
       "      <td>7</td>\n",
       "      <td>1050</td>\n",
       "      <td>910</td>\n",
       "      <td>1965</td>\n",
       "      <td>0</td>\n",
       "      <td>98136</td>\n",
       "      <td>47.5208</td>\n",
       "      <td>-122.393</td>\n",
       "      <td>1360</td>\n",
       "      <td>5000</td>\n",
       "    </tr>\n",
       "    <tr>\n",
       "      <th>4</th>\n",
       "      <td>1954400510</td>\n",
       "      <td>20150218T000000</td>\n",
       "      <td>510000.0</td>\n",
       "      <td>3</td>\n",
       "      <td>2.00</td>\n",
       "      <td>1680</td>\n",
       "      <td>8080</td>\n",
       "      <td>1.0</td>\n",
       "      <td>0</td>\n",
       "      <td>0</td>\n",
       "      <td>3</td>\n",
       "      <td>8</td>\n",
       "      <td>1680</td>\n",
       "      <td>0</td>\n",
       "      <td>1987</td>\n",
       "      <td>0</td>\n",
       "      <td>98074</td>\n",
       "      <td>47.6168</td>\n",
       "      <td>-122.045</td>\n",
       "      <td>1800</td>\n",
       "      <td>7503</td>\n",
       "    </tr>\n",
       "  </tbody>\n",
       "</table>\n",
       "</div>"
      ],
      "text/plain": [
       "           id             date     price  bedrooms  bathrooms  sqft_living  \\\n",
       "0  7129300520  20141013T000000  221900.0         3       1.00         1180   \n",
       "1  6414100192  20141209T000000  538000.0         3       2.25         2570   \n",
       "2  5631500400  20150225T000000  180000.0         2       1.00          770   \n",
       "3  2487200875  20141209T000000  604000.0         4       3.00         1960   \n",
       "4  1954400510  20150218T000000  510000.0         3       2.00         1680   \n",
       "\n",
       "   sqft_lot  floors  waterfront  view  condition  grade  sqft_above  \\\n",
       "0      5650     1.0           0     0          3      7        1180   \n",
       "1      7242     2.0           0     0          3      7        2170   \n",
       "2     10000     1.0           0     0          3      6         770   \n",
       "3      5000     1.0           0     0          5      7        1050   \n",
       "4      8080     1.0           0     0          3      8        1680   \n",
       "\n",
       "   sqft_basement  yr_built  yr_renovated  zipcode      lat     long  \\\n",
       "0              0      1955             0    98178  47.5112 -122.257   \n",
       "1            400      1951          1991    98125  47.7210 -122.319   \n",
       "2              0      1933             0    98028  47.7379 -122.233   \n",
       "3            910      1965             0    98136  47.5208 -122.393   \n",
       "4              0      1987             0    98074  47.6168 -122.045   \n",
       "\n",
       "   sqft_living15  sqft_lot15  \n",
       "0           1340        5650  \n",
       "1           1690        7639  \n",
       "2           2720        8062  \n",
       "3           1360        5000  \n",
       "4           1800        7503  "
      ]
     },
     "execution_count": 55,
     "metadata": {},
     "output_type": "execute_result"
    }
   ],
   "source": [
    "df.head()"
   ]
  },
  {
   "cell_type": "code",
   "execution_count": 56,
   "id": "5c5e270e",
   "metadata": {
    "ExecuteTime": {
     "end_time": "2022-09-10T22:41:34.307179Z",
     "start_time": "2022-09-10T22:41:34.284239Z"
    }
   },
   "outputs": [],
   "source": [
    "df['date'] = pd.to_datetime(df['date'])"
   ]
  },
  {
   "cell_type": "markdown",
   "id": "c5efd0c8",
   "metadata": {},
   "source": [
    "# Qual a data do imóvel mais antigo no portfólio?"
   ]
  },
  {
   "cell_type": "code",
   "execution_count": 57,
   "id": "0eea5c4b",
   "metadata": {
    "ExecuteTime": {
     "end_time": "2022-09-10T22:41:35.176327Z",
     "start_time": "2022-09-10T22:41:35.154386Z"
    }
   },
   "outputs": [
    {
     "data": {
      "text/plain": [
       "index                  16768\n",
       "id                5561000190\n",
       "date     2014-05-02 00:00:00\n",
       "Name: 0, dtype: object"
      ]
     },
     "execution_count": 57,
     "metadata": {},
     "output_type": "execute_result"
    }
   ],
   "source": [
    "df_sorted = df.loc[:,['id', 'date']].sort_values('date').reset_index().loc[0,:]\n",
    "df_sorted"
   ]
  },
  {
   "cell_type": "markdown",
   "id": "e7d881c6",
   "metadata": {},
   "source": [
    "# Quantos imóveis possuem o número máximo de andares?\n",
    "\n"
   ]
  },
  {
   "cell_type": "code",
   "execution_count": 58,
   "id": "ff04409b",
   "metadata": {
    "ExecuteTime": {
     "end_time": "2022-09-10T22:41:36.263819Z",
     "start_time": "2022-09-10T22:41:36.234924Z"
    }
   },
   "outputs": [
    {
     "data": {
      "text/plain": [
       "floors    3.5\n",
       "id        8.0\n",
       "Name: 0, dtype: float64"
      ]
     },
     "execution_count": 58,
     "metadata": {},
     "output_type": "execute_result"
    }
   ],
   "source": [
    "df_grouped = df.loc[:,['id', 'floors']].groupby('floors').count().sort_values('floors', ascending=False).reset_index().loc[0,:]\n",
    "df_grouped"
   ]
  },
  {
   "cell_type": "markdown",
   "id": "71bf3542",
   "metadata": {},
   "source": [
    "# Criar uma classificação para o imóveis, separando-os em baixo e alto padrão, de acordo com preço."
   ]
  },
  {
   "cell_type": "code",
   "execution_count": 59,
   "id": "d9134f4b",
   "metadata": {
    "ExecuteTime": {
     "end_time": "2022-09-10T22:41:37.119320Z",
     "start_time": "2022-09-10T22:41:37.099378Z"
    }
   },
   "outputs": [
    {
     "data": {
      "text/html": [
       "<div>\n",
       "<style scoped>\n",
       "    .dataframe tbody tr th:only-of-type {\n",
       "        vertical-align: middle;\n",
       "    }\n",
       "\n",
       "    .dataframe tbody tr th {\n",
       "        vertical-align: top;\n",
       "    }\n",
       "\n",
       "    .dataframe thead th {\n",
       "        text-align: right;\n",
       "    }\n",
       "</style>\n",
       "<table border=\"1\" class=\"dataframe\">\n",
       "  <thead>\n",
       "    <tr style=\"text-align: right;\">\n",
       "      <th></th>\n",
       "      <th>price</th>\n",
       "      <th>standard</th>\n",
       "    </tr>\n",
       "  </thead>\n",
       "  <tbody>\n",
       "    <tr>\n",
       "      <th>0</th>\n",
       "      <td>221900.0</td>\n",
       "      <td>low_standard</td>\n",
       "    </tr>\n",
       "    <tr>\n",
       "      <th>1</th>\n",
       "      <td>538000.0</td>\n",
       "      <td>low_standard</td>\n",
       "    </tr>\n",
       "    <tr>\n",
       "      <th>2</th>\n",
       "      <td>180000.0</td>\n",
       "      <td>low_standard</td>\n",
       "    </tr>\n",
       "    <tr>\n",
       "      <th>3</th>\n",
       "      <td>604000.0</td>\n",
       "      <td>high_standard</td>\n",
       "    </tr>\n",
       "    <tr>\n",
       "      <th>4</th>\n",
       "      <td>510000.0</td>\n",
       "      <td>low_standard</td>\n",
       "    </tr>\n",
       "  </tbody>\n",
       "</table>\n",
       "</div>"
      ],
      "text/plain": [
       "      price       standard\n",
       "0  221900.0   low_standard\n",
       "1  538000.0   low_standard\n",
       "2  180000.0   low_standard\n",
       "3  604000.0  high_standard\n",
       "4  510000.0   low_standard"
      ]
     },
     "execution_count": 59,
     "metadata": {},
     "output_type": "execute_result"
    }
   ],
   "source": [
    "df['standard'] = df['price'].apply(lambda preco: 'high_standard' if preco > 540000 else 'low_standard')\n",
    "df[['price', 'standard']].head()"
   ]
  },
  {
   "cell_type": "markdown",
   "id": "9e7b0b56",
   "metadata": {},
   "source": [
    "# Gostaria de um relatório ordenado pelo preço e contento as seguintes informações: ( id do imóvel, data que o imóvel ficou disponível para compra, o número de quartos, o tamanho total to terreno, o preço e a classificação do imóvel"
   ]
  },
  {
   "cell_type": "code",
   "execution_count": 64,
   "id": "f1514778",
   "metadata": {
    "ExecuteTime": {
     "end_time": "2022-09-10T22:42:28.735130Z",
     "start_time": "2022-09-10T22:42:28.510508Z"
    }
   },
   "outputs": [],
   "source": [
    "df_entrega = df[['id', 'date', 'bedrooms', 'sqft_lot', 'price', 'standard']].sort_values('price')\n",
    "df_entrega.to_csv('relatorio_imoveis.csv', index=False)"
   ]
  },
  {
   "cell_type": "markdown",
   "id": "fe1d794a",
   "metadata": {},
   "source": [
    "# Gostaria de um Mapa indicando onde as casas estão localizadas geograficamento"
   ]
  },
  {
   "cell_type": "code",
   "execution_count": null,
   "id": "6004600b",
   "metadata": {
    "ExecuteTime": {
     "end_time": "2022-09-10T22:41:39.225908Z",
     "start_time": "2022-09-10T22:41:39.225908Z"
    }
   },
   "outputs": [],
   "source": [
    "df_map = df[['id', 'lat', 'long', 'price']]\n",
    "mapa = px.scatter_mapbox(df_map, lat = 'lat', lon = 'long', hover_name='id', hover_data=['price'], color_discrete_sequence = ['fuchsia'], zoom=3, height=300)\n",
    "mapa.update_layout(mapbox_style='open-street-map')\n",
    "mapa.update_layout(height=600, margin={'r':0, 't':0,'l':0, 'b':0})\n",
    "mapa.show()"
   ]
  },
  {
   "cell_type": "code",
   "execution_count": 65,
   "id": "1fee671f",
   "metadata": {
    "ExecuteTime": {
     "end_time": "2022-09-10T22:42:35.134960Z",
     "start_time": "2022-09-10T22:42:35.012289Z"
    }
   },
   "outputs": [],
   "source": [
    "mapa.write_html('mapa_house_rocket.html')"
   ]
  },
  {
   "cell_type": "code",
   "execution_count": null,
   "id": "4c485209",
   "metadata": {},
   "outputs": [],
   "source": []
  }
 ],
 "metadata": {
  "kernelspec": {
   "display_name": "Python 3 (ipykernel)",
   "language": "python",
   "name": "python3"
  },
  "language_info": {
   "codemirror_mode": {
    "name": "ipython",
    "version": 3
   },
   "file_extension": ".py",
   "mimetype": "text/x-python",
   "name": "python",
   "nbconvert_exporter": "python",
   "pygments_lexer": "ipython3",
   "version": "3.9.12"
  }
 },
 "nbformat": 4,
 "nbformat_minor": 5
}
