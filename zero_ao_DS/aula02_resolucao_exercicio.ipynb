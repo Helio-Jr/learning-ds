{
 "cells": [
  {
   "cell_type": "markdown",
   "metadata": {},
   "source": [
    "# Aula 02- Resolução dos Exercícios\n",
    "\n",
    "## Novas perguntas do CEO para vocês"
   ]
  },
  {
   "cell_type": "markdown",
   "metadata": {
    "ExecuteTime": {
     "end_time": "2021-02-27T20:15:46.046829Z",
     "start_time": "2021-02-27T20:15:46.020380Z"
    }
   },
   "source": [
    "1. Crie uma nova coluna chamada: “house_age”\n",
    "    - Se o valor da coluna “date” for maior que 2014-01-01 => ‘new_house’\n",
    "    - Se o valor da coluna “date” for menor que 2014-01-01 => ‘old_house’\n",
    "\n",
    "2. Crie uma nova coluna chamada: “dormitory_type”\n",
    "    - Se o valor da coluna “bedrooms” for igual à 1 => ‘studio’\n",
    "    - Se o valor da coluna “bedrooms” for igual a 2 => ‘apartament’\n",
    "    - Se o valor da coluna “bedrooms” for maior que 2 => ‘house’\n",
    "\n",
    "3. Crie uma nova coluna chamada: “condition_type”\n",
    "    - Se o valor da coluna “condition” for menor ou igual à 2 => ‘bad’\n",
    "    - Se o valor da coluna “condition” for igual à 3 ou 4 => ‘regular’\n",
    "    - Se o valor da coluna “condition” for igual à 5 => ‘good’\n",
    "\n",
    "\n",
    "4. Modifique o TIPO a Coluna “condition” para STRING\n",
    "\n",
    "\n",
    "5. Delete as colunas: “sqft_living15” e “sqft_lot15”\n",
    "\n",
    "\n",
    "6. Modifique o TIPO a Coluna “yr_build” para DATE\n",
    "\n",
    "\n",
    "7. Modifique o TIPO a Coluna “yr_renovated” para DATE\n",
    "\n",
    "\n",
    "8. Qual a data mais antiga de construção de um imóvel?\n",
    "\n",
    "\n",
    "9. Qual a data mais antiga de renovação de um imóvel?\n",
    "\n",
    "\n",
    "10. Quantos imóveis tem 2 andares?\n",
    "\n",
    "\n",
    "11. Quantos imóveis estão com a condição igual a “regular” ?\n",
    "\n",
    "\n",
    "12. Quantos imóveis estão com a condição igual a “bad”e possuem “vista para água” ?\n",
    "\n",
    "\n",
    "13. Quantos imóveis estão com a condição igual a “good” e são “new_house”?\n",
    "\n",
    "\n",
    "14. Qual o valor do imóvel mais caro do tipo “studio” ?\n",
    "\n",
    "\n",
    "15. Quantos imóveis do tipo “apartment” foram reformados em 2015 ?\n",
    "\n",
    "\n",
    "16. Qual o maior número de quartos que um imóveis do tipo “house” possui ?\n",
    "\n",
    "\n",
    "17. Quantos imóveis “new_house” foram reformados no ano de 2014?\n",
    "\n",
    "\n",
    "18. Selecione as colunas: “id”, “date”, “price”, “floors”, “zipcode” pelo método:\n",
    "    - Direto pelo nome das colunas.\n",
    "    - Pelos Índices.\n",
    "    - Pelos Índices das linhas e o nome das colunas\n",
    "    - Índices Booleanos\t\t\n",
    "    \n",
    "    \n",
    "19. Salve um arquivo .csv com somente as colunas do item 10 ao 17.\n",
    "\n",
    "\n",
    "20. Modifique a cor dos pontos no mapa de “pink” para “verde-escuro”"
   ]
  },
  {
   "cell_type": "markdown",
   "metadata": {},
   "source": [
    "# Resolução"
   ]
  },
  {
   "cell_type": "markdown",
   "metadata": {
    "heading_collapsed": true
   },
   "source": [
    "## Import Libraries"
   ]
  },
  {
   "cell_type": "code",
   "execution_count": 2,
   "metadata": {
    "ExecuteTime": {
     "end_time": "2022-09-11T19:41:58.176392Z",
     "start_time": "2022-09-11T19:41:58.163427Z"
    },
    "hidden": true
   },
   "outputs": [],
   "source": [
    "import numpy  as np\n",
    "import pandas as pd\n",
    "import seaborn as sns\n",
    "\n",
    "from matplotlib import pyplot as plt\n",
    "import plotly.express as px"
   ]
  },
  {
   "cell_type": "code",
   "execution_count": 3,
   "metadata": {
    "ExecuteTime": {
     "end_time": "2022-09-11T19:41:58.270402Z",
     "start_time": "2022-09-11T19:41:58.179385Z"
    },
    "hidden": true
   },
   "outputs": [],
   "source": [
    "# Supress Scientific Notation\n",
    "np.set_printoptions(suppress=True)\n",
    "pd.set_option('display.float_format', '{:.2f}'.format)\n",
    "pd.set_option('display.max_columns', None)"
   ]
  },
  {
   "cell_type": "markdown",
   "metadata": {
    "heading_collapsed": true
   },
   "source": [
    "## Loading Data"
   ]
  },
  {
   "cell_type": "code",
   "execution_count": 15,
   "metadata": {
    "ExecuteTime": {
     "end_time": "2022-09-11T19:42:40.140599Z",
     "start_time": "2022-09-11T19:42:40.037874Z"
    },
    "hidden": true
   },
   "outputs": [
    {
     "data": {
      "text/html": [
       "<div>\n",
       "<style scoped>\n",
       "    .dataframe tbody tr th:only-of-type {\n",
       "        vertical-align: middle;\n",
       "    }\n",
       "\n",
       "    .dataframe tbody tr th {\n",
       "        vertical-align: top;\n",
       "    }\n",
       "\n",
       "    .dataframe thead th {\n",
       "        text-align: right;\n",
       "    }\n",
       "</style>\n",
       "<table border=\"1\" class=\"dataframe\">\n",
       "  <thead>\n",
       "    <tr style=\"text-align: right;\">\n",
       "      <th></th>\n",
       "      <th>id</th>\n",
       "      <th>date</th>\n",
       "      <th>price</th>\n",
       "      <th>bedrooms</th>\n",
       "      <th>bathrooms</th>\n",
       "      <th>sqft_living</th>\n",
       "      <th>sqft_lot</th>\n",
       "      <th>floors</th>\n",
       "      <th>waterfront</th>\n",
       "      <th>view</th>\n",
       "      <th>condition</th>\n",
       "      <th>grade</th>\n",
       "      <th>sqft_above</th>\n",
       "      <th>sqft_basement</th>\n",
       "      <th>yr_built</th>\n",
       "      <th>yr_renovated</th>\n",
       "      <th>zipcode</th>\n",
       "      <th>lat</th>\n",
       "      <th>long</th>\n",
       "      <th>sqft_living15</th>\n",
       "      <th>sqft_lot15</th>\n",
       "    </tr>\n",
       "  </thead>\n",
       "  <tbody>\n",
       "    <tr>\n",
       "      <th>0</th>\n",
       "      <td>7129300520</td>\n",
       "      <td>2014-10-13</td>\n",
       "      <td>221900.00</td>\n",
       "      <td>3</td>\n",
       "      <td>1.00</td>\n",
       "      <td>1180</td>\n",
       "      <td>5650</td>\n",
       "      <td>1.00</td>\n",
       "      <td>0</td>\n",
       "      <td>0</td>\n",
       "      <td>3</td>\n",
       "      <td>7</td>\n",
       "      <td>1180</td>\n",
       "      <td>0</td>\n",
       "      <td>1955</td>\n",
       "      <td>0</td>\n",
       "      <td>98178</td>\n",
       "      <td>47.51</td>\n",
       "      <td>-122.26</td>\n",
       "      <td>1340</td>\n",
       "      <td>5650</td>\n",
       "    </tr>\n",
       "    <tr>\n",
       "      <th>1</th>\n",
       "      <td>6414100192</td>\n",
       "      <td>2014-12-09</td>\n",
       "      <td>538000.00</td>\n",
       "      <td>3</td>\n",
       "      <td>2.25</td>\n",
       "      <td>2570</td>\n",
       "      <td>7242</td>\n",
       "      <td>2.00</td>\n",
       "      <td>0</td>\n",
       "      <td>0</td>\n",
       "      <td>3</td>\n",
       "      <td>7</td>\n",
       "      <td>2170</td>\n",
       "      <td>400</td>\n",
       "      <td>1951</td>\n",
       "      <td>1991</td>\n",
       "      <td>98125</td>\n",
       "      <td>47.72</td>\n",
       "      <td>-122.32</td>\n",
       "      <td>1690</td>\n",
       "      <td>7639</td>\n",
       "    </tr>\n",
       "    <tr>\n",
       "      <th>2</th>\n",
       "      <td>5631500400</td>\n",
       "      <td>2015-02-25</td>\n",
       "      <td>180000.00</td>\n",
       "      <td>2</td>\n",
       "      <td>1.00</td>\n",
       "      <td>770</td>\n",
       "      <td>10000</td>\n",
       "      <td>1.00</td>\n",
       "      <td>0</td>\n",
       "      <td>0</td>\n",
       "      <td>3</td>\n",
       "      <td>6</td>\n",
       "      <td>770</td>\n",
       "      <td>0</td>\n",
       "      <td>1933</td>\n",
       "      <td>0</td>\n",
       "      <td>98028</td>\n",
       "      <td>47.74</td>\n",
       "      <td>-122.23</td>\n",
       "      <td>2720</td>\n",
       "      <td>8062</td>\n",
       "    </tr>\n",
       "    <tr>\n",
       "      <th>3</th>\n",
       "      <td>2487200875</td>\n",
       "      <td>2014-12-09</td>\n",
       "      <td>604000.00</td>\n",
       "      <td>4</td>\n",
       "      <td>3.00</td>\n",
       "      <td>1960</td>\n",
       "      <td>5000</td>\n",
       "      <td>1.00</td>\n",
       "      <td>0</td>\n",
       "      <td>0</td>\n",
       "      <td>5</td>\n",
       "      <td>7</td>\n",
       "      <td>1050</td>\n",
       "      <td>910</td>\n",
       "      <td>1965</td>\n",
       "      <td>0</td>\n",
       "      <td>98136</td>\n",
       "      <td>47.52</td>\n",
       "      <td>-122.39</td>\n",
       "      <td>1360</td>\n",
       "      <td>5000</td>\n",
       "    </tr>\n",
       "    <tr>\n",
       "      <th>4</th>\n",
       "      <td>1954400510</td>\n",
       "      <td>2015-02-18</td>\n",
       "      <td>510000.00</td>\n",
       "      <td>3</td>\n",
       "      <td>2.00</td>\n",
       "      <td>1680</td>\n",
       "      <td>8080</td>\n",
       "      <td>1.00</td>\n",
       "      <td>0</td>\n",
       "      <td>0</td>\n",
       "      <td>3</td>\n",
       "      <td>8</td>\n",
       "      <td>1680</td>\n",
       "      <td>0</td>\n",
       "      <td>1987</td>\n",
       "      <td>0</td>\n",
       "      <td>98074</td>\n",
       "      <td>47.62</td>\n",
       "      <td>-122.05</td>\n",
       "      <td>1800</td>\n",
       "      <td>7503</td>\n",
       "    </tr>\n",
       "  </tbody>\n",
       "</table>\n",
       "</div>"
      ],
      "text/plain": [
       "           id       date     price  bedrooms  bathrooms  sqft_living  \\\n",
       "0  7129300520 2014-10-13 221900.00         3       1.00         1180   \n",
       "1  6414100192 2014-12-09 538000.00         3       2.25         2570   \n",
       "2  5631500400 2015-02-25 180000.00         2       1.00          770   \n",
       "3  2487200875 2014-12-09 604000.00         4       3.00         1960   \n",
       "4  1954400510 2015-02-18 510000.00         3       2.00         1680   \n",
       "\n",
       "   sqft_lot  floors  waterfront  view  condition  grade  sqft_above  \\\n",
       "0      5650    1.00           0     0          3      7        1180   \n",
       "1      7242    2.00           0     0          3      7        2170   \n",
       "2     10000    1.00           0     0          3      6         770   \n",
       "3      5000    1.00           0     0          5      7        1050   \n",
       "4      8080    1.00           0     0          3      8        1680   \n",
       "\n",
       "   sqft_basement  yr_built  yr_renovated  zipcode   lat    long  \\\n",
       "0              0      1955             0    98178 47.51 -122.26   \n",
       "1            400      1951          1991    98125 47.72 -122.32   \n",
       "2              0      1933             0    98028 47.74 -122.23   \n",
       "3            910      1965             0    98136 47.52 -122.39   \n",
       "4              0      1987             0    98074 47.62 -122.05   \n",
       "\n",
       "   sqft_living15  sqft_lot15  \n",
       "0           1340        5650  \n",
       "1           1690        7639  \n",
       "2           2720        8062  \n",
       "3           1360        5000  \n",
       "4           1800        7503  "
      ]
     },
     "execution_count": 15,
     "metadata": {},
     "output_type": "execute_result"
    }
   ],
   "source": [
    "# loading data into memory\n",
    "data = pd.read_csv( 'kc_house_data.csv' )\n",
    "\n",
    "# Garantir que o formato date é um datetime \n",
    "data['date'] = pd.to_datetime( data['date'], format='%Y-%m-%d' )\n",
    "data.head()"
   ]
  },
  {
   "cell_type": "markdown",
   "metadata": {
    "ExecuteTime": {
     "end_time": "2021-02-27T20:15:46.046829Z",
     "start_time": "2021-02-27T20:15:46.020380Z"
    },
    "heading_collapsed": true
   },
   "source": [
    "## 1. Crie uma nova coluna chamada: “house_age”\n",
    "    - Se o valor da coluna “date” for maior que 2014-01-01 => ‘new_house’\n",
    "    - Se o valor da coluna “date” for menor que 2014-01-01 => ‘old_house’"
   ]
  },
  {
   "cell_type": "code",
   "execution_count": 115,
   "metadata": {
    "ExecuteTime": {
     "end_time": "2022-09-11T15:16:15.485892Z",
     "start_time": "2022-09-11T15:16:15.448990Z"
    },
    "hidden": true
   },
   "outputs": [
    {
     "data": {
      "text/html": [
       "<div>\n",
       "<style scoped>\n",
       "    .dataframe tbody tr th:only-of-type {\n",
       "        vertical-align: middle;\n",
       "    }\n",
       "\n",
       "    .dataframe tbody tr th {\n",
       "        vertical-align: top;\n",
       "    }\n",
       "\n",
       "    .dataframe thead th {\n",
       "        text-align: right;\n",
       "    }\n",
       "</style>\n",
       "<table border=\"1\" class=\"dataframe\">\n",
       "  <thead>\n",
       "    <tr style=\"text-align: right;\">\n",
       "      <th></th>\n",
       "      <th>id</th>\n",
       "      <th>date</th>\n",
       "      <th>price</th>\n",
       "      <th>bedrooms</th>\n",
       "      <th>bathrooms</th>\n",
       "      <th>sqft_living</th>\n",
       "      <th>sqft_lot</th>\n",
       "      <th>floors</th>\n",
       "      <th>waterfront</th>\n",
       "      <th>view</th>\n",
       "      <th>condition</th>\n",
       "      <th>grade</th>\n",
       "      <th>sqft_above</th>\n",
       "      <th>sqft_basement</th>\n",
       "      <th>yr_built</th>\n",
       "      <th>yr_renovated</th>\n",
       "      <th>zipcode</th>\n",
       "      <th>lat</th>\n",
       "      <th>long</th>\n",
       "      <th>sqft_living15</th>\n",
       "      <th>sqft_lot15</th>\n",
       "    </tr>\n",
       "  </thead>\n",
       "  <tbody>\n",
       "    <tr>\n",
       "      <th>16768</th>\n",
       "      <td>5561000190</td>\n",
       "      <td>2014-05-02</td>\n",
       "      <td>437500.00</td>\n",
       "      <td>3</td>\n",
       "      <td>2.25</td>\n",
       "      <td>1970</td>\n",
       "      <td>35100</td>\n",
       "      <td>2.00</td>\n",
       "      <td>0</td>\n",
       "      <td>0</td>\n",
       "      <td>4</td>\n",
       "      <td>9</td>\n",
       "      <td>1970</td>\n",
       "      <td>0</td>\n",
       "      <td>1977</td>\n",
       "      <td>0</td>\n",
       "      <td>98027</td>\n",
       "      <td>47.46</td>\n",
       "      <td>-121.99</td>\n",
       "      <td>2340</td>\n",
       "      <td>35100</td>\n",
       "    </tr>\n",
       "  </tbody>\n",
       "</table>\n",
       "</div>"
      ],
      "text/plain": [
       "               id       date     price  bedrooms  bathrooms  sqft_living  \\\n",
       "16768  5561000190 2014-05-02 437500.00         3       2.25         1970   \n",
       "\n",
       "       sqft_lot  floors  waterfront  view  condition  grade  sqft_above  \\\n",
       "16768     35100    2.00           0     0          4      9        1970   \n",
       "\n",
       "       sqft_basement  yr_built  yr_renovated  zipcode   lat    long  \\\n",
       "16768              0      1977             0    98027 47.46 -121.99   \n",
       "\n",
       "       sqft_living15  sqft_lot15  \n",
       "16768           2340       35100  "
      ]
     },
     "execution_count": 115,
     "metadata": {},
     "output_type": "execute_result"
    }
   ],
   "source": [
    "ordem_data = data.sort_values('date')\n",
    "ordem_data.head(1)"
   ]
  },
  {
   "cell_type": "code",
   "execution_count": 66,
   "metadata": {
    "ExecuteTime": {
     "end_time": "2022-09-11T20:13:10.909125Z",
     "start_time": "2022-09-11T20:13:10.880228Z"
    },
    "hidden": true
   },
   "outputs": [
    {
     "data": {
      "text/plain": [
       "0"
      ]
     },
     "execution_count": 66,
     "metadata": {},
     "output_type": "execute_result"
    }
   ],
   "source": [
    "data['house_age'] = 'house'\n",
    "data.loc[data['date']>='2014-01-01','house_age'] = 'new_house'\n",
    "data.loc[data['date']<'2014-01-01','house_age'] = 'old_house'\n",
    "contagem = data.loc[data['house_age']=='old_house', 'id'].count()\n",
    "contagem"
   ]
  },
  {
   "cell_type": "markdown",
   "metadata": {
    "hidden": true
   },
   "source": [
    "### Meigarom"
   ]
  },
  {
   "cell_type": "code",
   "execution_count": 5,
   "metadata": {
    "ExecuteTime": {
     "end_time": "2021-02-27T21:20:49.416831Z",
     "start_time": "2021-02-27T21:20:49.410679Z"
    },
    "hidden": true
   },
   "outputs": [],
   "source": [
    "# Estrategia\n",
    "# 1. Criar uma coluna nova, preenchida com NA\n",
    "# 2. Substituir o valor NA, conforma a condicional\n",
    "\n",
    "data['house_age'] = 'NA'\n",
    "data.loc[data['date'] > '2014-01-01', 'house_age'] = 'new_house'\n",
    "data.loc[data['date'] < '2014-01-01', 'house_age'] = 'old_house'"
   ]
  },
  {
   "cell_type": "markdown",
   "metadata": {
    "ExecuteTime": {
     "end_time": "2021-02-27T20:15:46.046829Z",
     "start_time": "2021-02-27T20:15:46.020380Z"
    },
    "heading_collapsed": true
   },
   "source": [
    "## 2. Crie uma nova coluna chamada: “dormitory_type”\n",
    "    - Se o valor da coluna “bedrooms” for igual à 1 => ‘studio’\n",
    "    - Se o valor da coluna “bedrooms” for igual a 2 => ‘apartament’\n",
    "    - Se o valor da coluna “bedrooms” for maior que 2 => ‘house’"
   ]
  },
  {
   "cell_type": "code",
   "execution_count": 70,
   "metadata": {
    "ExecuteTime": {
     "end_time": "2022-09-11T20:24:59.956461Z",
     "start_time": "2022-09-11T20:24:59.929529Z"
    },
    "hidden": true
   },
   "outputs": [
    {
     "data": {
      "text/plain": [
       "array(['house', 'apartment', 'studio', 'NA'], dtype=object)"
      ]
     },
     "execution_count": 70,
     "metadata": {},
     "output_type": "execute_result"
    }
   ],
   "source": [
    "'''data['dormitory_type'] = 'type'\n",
    "data.loc[data['bedrooms'] == 1,'dormitory_type'] = 'studio'\n",
    "data.loc[data['bedrooms'] == 2,'dormitory_type'] = 'apartment'\n",
    "data.loc[data['bedrooms'] > 2,'dormitory_type'] = 'house'\n",
    "data.head()''';\n",
    "data['dormitory_type'] = data['bedrooms'].apply(lambda linha: 'studio' if linha == 1 else 'apartment' if linha == 2  else 'house' if linha > 2 else 'NA')\n",
    "data['dormitory_type'].unique()"
   ]
  },
  {
   "cell_type": "markdown",
   "metadata": {
    "heading_collapsed": true,
    "hidden": true
   },
   "source": [
    "### Meigarom"
   ]
  },
  {
   "cell_type": "code",
   "execution_count": null,
   "metadata": {
    "hidden": true
   },
   "outputs": [],
   "source": []
  },
  {
   "cell_type": "code",
   "execution_count": 6,
   "metadata": {
    "ExecuteTime": {
     "end_time": "2021-02-27T21:20:59.570888Z",
     "start_time": "2021-02-27T21:20:50.198639Z"
    },
    "hidden": true
   },
   "outputs": [],
   "source": [
    "# Estrategia:\n",
    "# 1. Criar uma coluna nova, preenchida com NA\n",
    "# 2. Percorrer todas as linhas do conjunto de dados. Para cada linha, comparar a coluna \"bedrooms\"\n",
    "# 3. De acordo com a comparação, substituir o NA pelo dado valor\n",
    "#\n",
    "data['dormitory_type'] = 'NA'\n",
    "for i in range( len( data ) ):\n",
    "    if data.loc[i, 'bedrooms'] == 1:\n",
    "        data.loc[i, 'dormitory_type'] = 'studio'\n",
    "        \n",
    "    elif data.loc[i, 'bedrooms'] == 2:\n",
    "        data.loc[i, 'dormitory_type'] = 'apartment'\n",
    "        \n",
    "    elif data.loc[i, 'bedrooms'] > 2:\n",
    "        data.loc[i, 'dormitory_type'] = 'house'"
   ]
  },
  {
   "cell_type": "markdown",
   "metadata": {
    "ExecuteTime": {
     "end_time": "2021-02-27T20:15:46.046829Z",
     "start_time": "2021-02-27T20:15:46.020380Z"
    },
    "heading_collapsed": true
   },
   "source": [
    "## 3. Crie uma nova coluna chamada: “condition_type”\n",
    "    - Se o valor da coluna “condition” for menor ou igual à 2 => ‘bad’\n",
    "    - Se o valor da coluna “condition” for igual à 3 ou 4 => ‘regular’\n",
    "    - Se o valor da coluna “condition” for igual à 5 => ‘good’"
   ]
  },
  {
   "cell_type": "code",
   "execution_count": 72,
   "metadata": {
    "ExecuteTime": {
     "end_time": "2022-09-11T20:27:13.763261Z",
     "start_time": "2022-09-11T20:27:13.728327Z"
    },
    "hidden": true
   },
   "outputs": [
    {
     "data": {
      "text/html": [
       "<div>\n",
       "<style scoped>\n",
       "    .dataframe tbody tr th:only-of-type {\n",
       "        vertical-align: middle;\n",
       "    }\n",
       "\n",
       "    .dataframe tbody tr th {\n",
       "        vertical-align: top;\n",
       "    }\n",
       "\n",
       "    .dataframe thead th {\n",
       "        text-align: right;\n",
       "    }\n",
       "</style>\n",
       "<table border=\"1\" class=\"dataframe\">\n",
       "  <thead>\n",
       "    <tr style=\"text-align: right;\">\n",
       "      <th></th>\n",
       "      <th>condition</th>\n",
       "      <th>condition_type</th>\n",
       "    </tr>\n",
       "  </thead>\n",
       "  <tbody>\n",
       "    <tr>\n",
       "      <th>21538</th>\n",
       "      <td>3</td>\n",
       "      <td>regular</td>\n",
       "    </tr>\n",
       "    <tr>\n",
       "      <th>4891</th>\n",
       "      <td>4</td>\n",
       "      <td>regular</td>\n",
       "    </tr>\n",
       "    <tr>\n",
       "      <th>110</th>\n",
       "      <td>3</td>\n",
       "      <td>regular</td>\n",
       "    </tr>\n",
       "    <tr>\n",
       "      <th>20426</th>\n",
       "      <td>3</td>\n",
       "      <td>regular</td>\n",
       "    </tr>\n",
       "    <tr>\n",
       "      <th>7642</th>\n",
       "      <td>3</td>\n",
       "      <td>regular</td>\n",
       "    </tr>\n",
       "    <tr>\n",
       "      <th>21347</th>\n",
       "      <td>3</td>\n",
       "      <td>regular</td>\n",
       "    </tr>\n",
       "    <tr>\n",
       "      <th>6787</th>\n",
       "      <td>3</td>\n",
       "      <td>regular</td>\n",
       "    </tr>\n",
       "    <tr>\n",
       "      <th>7699</th>\n",
       "      <td>5</td>\n",
       "      <td>good</td>\n",
       "    </tr>\n",
       "    <tr>\n",
       "      <th>21033</th>\n",
       "      <td>3</td>\n",
       "      <td>regular</td>\n",
       "    </tr>\n",
       "    <tr>\n",
       "      <th>2838</th>\n",
       "      <td>3</td>\n",
       "      <td>regular</td>\n",
       "    </tr>\n",
       "  </tbody>\n",
       "</table>\n",
       "</div>"
      ],
      "text/plain": [
       "       condition condition_type\n",
       "21538          3        regular\n",
       "4891           4        regular\n",
       "110            3        regular\n",
       "20426          3        regular\n",
       "7642           3        regular\n",
       "21347          3        regular\n",
       "6787           3        regular\n",
       "7699           5           good\n",
       "21033          3        regular\n",
       "2838           3        regular"
      ]
     },
     "execution_count": 72,
     "metadata": {},
     "output_type": "execute_result"
    }
   ],
   "source": [
    "data['condition_type'] = data['condition'].apply(lambda linha: 'bad' if linha <= 2 else ('regular' if linha < 5 else 'good' ))\n",
    "data[['condition', 'condition_type']].sample(10)"
   ]
  },
  {
   "cell_type": "markdown",
   "metadata": {
    "heading_collapsed": true,
    "hidden": true
   },
   "source": [
    "### Meigarom"
   ]
  },
  {
   "cell_type": "code",
   "execution_count": null,
   "metadata": {
    "hidden": true
   },
   "outputs": [],
   "source": []
  },
  {
   "cell_type": "code",
   "execution_count": 7,
   "metadata": {
    "ExecuteTime": {
     "end_time": "2021-02-27T21:20:59.583172Z",
     "start_time": "2021-02-27T21:20:59.572628Z"
    },
    "hidden": true
   },
   "outputs": [],
   "source": [
    "# Estrategia:\n",
    "# 1. Usar a função apply junto com a lambda para ter acesso a cada linha.\n",
    "# 2. Em cada linha, comparar a coluna \"condition\" com a condição dada.\n",
    "# 3. Aplicar a condição\n",
    "#\n",
    "data['condition'] = data['condition'].astype( int )\n",
    "data['conditional_type'] = data['condition'].apply( lambda x: 'bad' if x <= 2 else 'regular' if (x == 3) | (x == 4) else 'good' )"
   ]
  },
  {
   "cell_type": "markdown",
   "metadata": {
    "ExecuteTime": {
     "end_time": "2021-02-27T20:15:46.046829Z",
     "start_time": "2021-02-27T20:15:46.020380Z"
    },
    "heading_collapsed": true
   },
   "source": [
    "## 4. Modifique o TIPO a Coluna “condition” para STRING"
   ]
  },
  {
   "cell_type": "code",
   "execution_count": 8,
   "metadata": {
    "ExecuteTime": {
     "end_time": "2022-09-11T19:41:59.112679Z",
     "start_time": "2022-09-11T19:41:59.008185Z"
    },
    "hidden": true
   },
   "outputs": [
    {
     "data": {
      "text/plain": [
       "id                         int64\n",
       "date              datetime64[ns]\n",
       "price                    float64\n",
       "bedrooms                   int64\n",
       "bathrooms                float64\n",
       "sqft_living                int64\n",
       "sqft_lot                   int64\n",
       "floors                   float64\n",
       "waterfront                 int64\n",
       "view                       int64\n",
       "condition                 object\n",
       "grade                      int64\n",
       "sqft_above                 int64\n",
       "sqft_basement              int64\n",
       "yr_built                   int64\n",
       "yr_renovated               int64\n",
       "zipcode                    int64\n",
       "lat                      float64\n",
       "long                     float64\n",
       "sqft_living15              int64\n",
       "sqft_lot15                 int64\n",
       "house_age                 object\n",
       "dormitory_type            object\n",
       "condition_type            object\n",
       "dtype: object"
      ]
     },
     "execution_count": 8,
     "metadata": {},
     "output_type": "execute_result"
    }
   ],
   "source": [
    "data['condition'] = data['condition'].astype('str')\n",
    "data.dtypes"
   ]
  },
  {
   "cell_type": "markdown",
   "metadata": {
    "heading_collapsed": true,
    "hidden": true
   },
   "source": [
    "### Meigarom"
   ]
  },
  {
   "cell_type": "code",
   "execution_count": null,
   "metadata": {
    "hidden": true
   },
   "outputs": [],
   "source": []
  },
  {
   "cell_type": "code",
   "execution_count": 8,
   "metadata": {
    "ExecuteTime": {
     "end_time": "2021-02-27T21:20:59.597269Z",
     "start_time": "2021-02-27T21:20:59.586347Z"
    },
    "hidden": true
   },
   "outputs": [
    {
     "data": {
      "text/plain": [
       "id           int64\n",
       "condition    int64\n",
       "dtype: object"
      ]
     },
     "execution_count": 8,
     "metadata": {},
     "output_type": "execute_result"
    }
   ],
   "source": [
    "data[['id', 'condition']].dtypes"
   ]
  },
  {
   "cell_type": "code",
   "execution_count": 9,
   "metadata": {
    "ExecuteTime": {
     "end_time": "2021-02-27T21:20:59.624842Z",
     "start_time": "2021-02-27T21:20:59.601385Z"
    },
    "hidden": true
   },
   "outputs": [],
   "source": [
    "data['condition'] = data['condition'].astype( str )"
   ]
  },
  {
   "cell_type": "code",
   "execution_count": 10,
   "metadata": {
    "ExecuteTime": {
     "end_time": "2021-02-27T21:20:59.636186Z",
     "start_time": "2021-02-27T21:20:59.627197Z"
    },
    "hidden": true
   },
   "outputs": [
    {
     "data": {
      "text/plain": [
       "id            int64\n",
       "condition    object\n",
       "dtype: object"
      ]
     },
     "execution_count": 10,
     "metadata": {},
     "output_type": "execute_result"
    }
   ],
   "source": [
    "data[['id', 'condition']].dtypes"
   ]
  },
  {
   "cell_type": "markdown",
   "metadata": {
    "ExecuteTime": {
     "end_time": "2021-02-27T20:15:46.046829Z",
     "start_time": "2021-02-27T20:15:46.020380Z"
    },
    "heading_collapsed": true
   },
   "source": [
    "## 5. Delete as colunas: “sqft_living15” e “sqft_lot15”"
   ]
  },
  {
   "cell_type": "code",
   "execution_count": 36,
   "metadata": {
    "ExecuteTime": {
     "end_time": "2022-09-11T19:55:30.370816Z",
     "start_time": "2022-09-11T19:55:30.342888Z"
    },
    "hidden": true
   },
   "outputs": [],
   "source": [
    "data = data.drop(['sqft_living15','sqft_lot15'], axis=1)\n"
   ]
  },
  {
   "cell_type": "code",
   "execution_count": 37,
   "metadata": {
    "ExecuteTime": {
     "end_time": "2022-09-11T19:55:32.156176Z",
     "start_time": "2022-09-11T19:55:32.119274Z"
    },
    "hidden": true
   },
   "outputs": [
    {
     "data": {
      "text/html": [
       "<div>\n",
       "<style scoped>\n",
       "    .dataframe tbody tr th:only-of-type {\n",
       "        vertical-align: middle;\n",
       "    }\n",
       "\n",
       "    .dataframe tbody tr th {\n",
       "        vertical-align: top;\n",
       "    }\n",
       "\n",
       "    .dataframe thead th {\n",
       "        text-align: right;\n",
       "    }\n",
       "</style>\n",
       "<table border=\"1\" class=\"dataframe\">\n",
       "  <thead>\n",
       "    <tr style=\"text-align: right;\">\n",
       "      <th></th>\n",
       "      <th>id</th>\n",
       "      <th>date</th>\n",
       "      <th>price</th>\n",
       "      <th>bedrooms</th>\n",
       "      <th>bathrooms</th>\n",
       "      <th>sqft_living</th>\n",
       "      <th>sqft_lot</th>\n",
       "      <th>floors</th>\n",
       "      <th>waterfront</th>\n",
       "      <th>view</th>\n",
       "      <th>condition</th>\n",
       "      <th>grade</th>\n",
       "      <th>sqft_above</th>\n",
       "      <th>sqft_basement</th>\n",
       "      <th>yr_built</th>\n",
       "      <th>yr_renovated</th>\n",
       "      <th>zipcode</th>\n",
       "      <th>lat</th>\n",
       "      <th>long</th>\n",
       "      <th>condition_type</th>\n",
       "    </tr>\n",
       "  </thead>\n",
       "  <tbody>\n",
       "    <tr>\n",
       "      <th>0</th>\n",
       "      <td>7129300520</td>\n",
       "      <td>2014-10-13</td>\n",
       "      <td>221900.00</td>\n",
       "      <td>3</td>\n",
       "      <td>1.00</td>\n",
       "      <td>1180</td>\n",
       "      <td>5650</td>\n",
       "      <td>1.00</td>\n",
       "      <td>0</td>\n",
       "      <td>0</td>\n",
       "      <td>3</td>\n",
       "      <td>7</td>\n",
       "      <td>1180</td>\n",
       "      <td>0</td>\n",
       "      <td>1955</td>\n",
       "      <td>0</td>\n",
       "      <td>98178</td>\n",
       "      <td>47.51</td>\n",
       "      <td>-122.26</td>\n",
       "      <td>regular</td>\n",
       "    </tr>\n",
       "  </tbody>\n",
       "</table>\n",
       "</div>"
      ],
      "text/plain": [
       "           id       date     price  bedrooms  bathrooms  sqft_living  \\\n",
       "0  7129300520 2014-10-13 221900.00         3       1.00         1180   \n",
       "\n",
       "   sqft_lot  floors  waterfront  view  condition  grade  sqft_above  \\\n",
       "0      5650    1.00           0     0          3      7        1180   \n",
       "\n",
       "   sqft_basement  yr_built  yr_renovated  zipcode   lat    long condition_type  \n",
       "0              0      1955             0    98178 47.51 -122.26        regular  "
      ]
     },
     "execution_count": 37,
     "metadata": {},
     "output_type": "execute_result"
    }
   ],
   "source": [
    "data.head(1)"
   ]
  },
  {
   "cell_type": "markdown",
   "metadata": {
    "heading_collapsed": true,
    "hidden": true
   },
   "source": [
    "### Meigarom"
   ]
  },
  {
   "cell_type": "code",
   "execution_count": 11,
   "metadata": {
    "ExecuteTime": {
     "end_time": "2021-02-27T21:20:59.645581Z",
     "start_time": "2021-02-27T21:20:59.638727Z"
    },
    "hidden": true
   },
   "outputs": [],
   "source": [
    "# deletar as colunas\n",
    "data = data.drop( ['sqft_living15', 'sqft_lot15'], axis=1 )"
   ]
  },
  {
   "cell_type": "markdown",
   "metadata": {
    "ExecuteTime": {
     "end_time": "2021-02-27T20:15:46.046829Z",
     "start_time": "2021-02-27T20:15:46.020380Z"
    },
    "heading_collapsed": true
   },
   "source": [
    "## 6. Modifique o TIPO a Coluna “yr_build” para DATE"
   ]
  },
  {
   "cell_type": "code",
   "execution_count": 74,
   "metadata": {
    "ExecuteTime": {
     "end_time": "2022-09-11T20:37:43.744741Z",
     "start_time": "2022-09-11T20:37:43.700858Z"
    },
    "hidden": true
   },
   "outputs": [
    {
     "data": {
      "text/html": [
       "<div>\n",
       "<style scoped>\n",
       "    .dataframe tbody tr th:only-of-type {\n",
       "        vertical-align: middle;\n",
       "    }\n",
       "\n",
       "    .dataframe tbody tr th {\n",
       "        vertical-align: top;\n",
       "    }\n",
       "\n",
       "    .dataframe thead th {\n",
       "        text-align: right;\n",
       "    }\n",
       "</style>\n",
       "<table border=\"1\" class=\"dataframe\">\n",
       "  <thead>\n",
       "    <tr style=\"text-align: right;\">\n",
       "      <th></th>\n",
       "      <th>id</th>\n",
       "      <th>date</th>\n",
       "      <th>price</th>\n",
       "      <th>bedrooms</th>\n",
       "      <th>bathrooms</th>\n",
       "      <th>sqft_living</th>\n",
       "      <th>sqft_lot</th>\n",
       "      <th>floors</th>\n",
       "      <th>waterfront</th>\n",
       "      <th>view</th>\n",
       "      <th>condition</th>\n",
       "      <th>grade</th>\n",
       "      <th>sqft_above</th>\n",
       "      <th>sqft_basement</th>\n",
       "      <th>yr_built</th>\n",
       "      <th>yr_renovated</th>\n",
       "      <th>zipcode</th>\n",
       "      <th>lat</th>\n",
       "      <th>long</th>\n",
       "      <th>condition_type</th>\n",
       "      <th>house_age</th>\n",
       "      <th>dormitory_type</th>\n",
       "    </tr>\n",
       "  </thead>\n",
       "  <tbody>\n",
       "    <tr>\n",
       "      <th>0</th>\n",
       "      <td>7129300520</td>\n",
       "      <td>2014-10-13</td>\n",
       "      <td>221900.00</td>\n",
       "      <td>3</td>\n",
       "      <td>1.00</td>\n",
       "      <td>1180</td>\n",
       "      <td>5650</td>\n",
       "      <td>1.00</td>\n",
       "      <td>0</td>\n",
       "      <td>0</td>\n",
       "      <td>3</td>\n",
       "      <td>7</td>\n",
       "      <td>1180</td>\n",
       "      <td>0</td>\n",
       "      <td>1955-01-01</td>\n",
       "      <td>0</td>\n",
       "      <td>98178</td>\n",
       "      <td>47.51</td>\n",
       "      <td>-122.26</td>\n",
       "      <td>regular</td>\n",
       "      <td>new_house</td>\n",
       "      <td>house</td>\n",
       "    </tr>\n",
       "    <tr>\n",
       "      <th>1</th>\n",
       "      <td>6414100192</td>\n",
       "      <td>2014-12-09</td>\n",
       "      <td>538000.00</td>\n",
       "      <td>3</td>\n",
       "      <td>2.25</td>\n",
       "      <td>2570</td>\n",
       "      <td>7242</td>\n",
       "      <td>2.00</td>\n",
       "      <td>0</td>\n",
       "      <td>0</td>\n",
       "      <td>3</td>\n",
       "      <td>7</td>\n",
       "      <td>2170</td>\n",
       "      <td>400</td>\n",
       "      <td>1951-01-01</td>\n",
       "      <td>1991</td>\n",
       "      <td>98125</td>\n",
       "      <td>47.72</td>\n",
       "      <td>-122.32</td>\n",
       "      <td>regular</td>\n",
       "      <td>new_house</td>\n",
       "      <td>house</td>\n",
       "    </tr>\n",
       "    <tr>\n",
       "      <th>2</th>\n",
       "      <td>5631500400</td>\n",
       "      <td>2015-02-25</td>\n",
       "      <td>180000.00</td>\n",
       "      <td>2</td>\n",
       "      <td>1.00</td>\n",
       "      <td>770</td>\n",
       "      <td>10000</td>\n",
       "      <td>1.00</td>\n",
       "      <td>0</td>\n",
       "      <td>0</td>\n",
       "      <td>3</td>\n",
       "      <td>6</td>\n",
       "      <td>770</td>\n",
       "      <td>0</td>\n",
       "      <td>1933-01-01</td>\n",
       "      <td>0</td>\n",
       "      <td>98028</td>\n",
       "      <td>47.74</td>\n",
       "      <td>-122.23</td>\n",
       "      <td>regular</td>\n",
       "      <td>new_house</td>\n",
       "      <td>apartment</td>\n",
       "    </tr>\n",
       "    <tr>\n",
       "      <th>3</th>\n",
       "      <td>2487200875</td>\n",
       "      <td>2014-12-09</td>\n",
       "      <td>604000.00</td>\n",
       "      <td>4</td>\n",
       "      <td>3.00</td>\n",
       "      <td>1960</td>\n",
       "      <td>5000</td>\n",
       "      <td>1.00</td>\n",
       "      <td>0</td>\n",
       "      <td>0</td>\n",
       "      <td>5</td>\n",
       "      <td>7</td>\n",
       "      <td>1050</td>\n",
       "      <td>910</td>\n",
       "      <td>1965-01-01</td>\n",
       "      <td>0</td>\n",
       "      <td>98136</td>\n",
       "      <td>47.52</td>\n",
       "      <td>-122.39</td>\n",
       "      <td>good</td>\n",
       "      <td>new_house</td>\n",
       "      <td>house</td>\n",
       "    </tr>\n",
       "    <tr>\n",
       "      <th>4</th>\n",
       "      <td>1954400510</td>\n",
       "      <td>2015-02-18</td>\n",
       "      <td>510000.00</td>\n",
       "      <td>3</td>\n",
       "      <td>2.00</td>\n",
       "      <td>1680</td>\n",
       "      <td>8080</td>\n",
       "      <td>1.00</td>\n",
       "      <td>0</td>\n",
       "      <td>0</td>\n",
       "      <td>3</td>\n",
       "      <td>8</td>\n",
       "      <td>1680</td>\n",
       "      <td>0</td>\n",
       "      <td>1987-01-01</td>\n",
       "      <td>0</td>\n",
       "      <td>98074</td>\n",
       "      <td>47.62</td>\n",
       "      <td>-122.05</td>\n",
       "      <td>regular</td>\n",
       "      <td>new_house</td>\n",
       "      <td>house</td>\n",
       "    </tr>\n",
       "  </tbody>\n",
       "</table>\n",
       "</div>"
      ],
      "text/plain": [
       "           id       date     price  bedrooms  bathrooms  sqft_living  \\\n",
       "0  7129300520 2014-10-13 221900.00         3       1.00         1180   \n",
       "1  6414100192 2014-12-09 538000.00         3       2.25         2570   \n",
       "2  5631500400 2015-02-25 180000.00         2       1.00          770   \n",
       "3  2487200875 2014-12-09 604000.00         4       3.00         1960   \n",
       "4  1954400510 2015-02-18 510000.00         3       2.00         1680   \n",
       "\n",
       "   sqft_lot  floors  waterfront  view  condition  grade  sqft_above  \\\n",
       "0      5650    1.00           0     0          3      7        1180   \n",
       "1      7242    2.00           0     0          3      7        2170   \n",
       "2     10000    1.00           0     0          3      6         770   \n",
       "3      5000    1.00           0     0          5      7        1050   \n",
       "4      8080    1.00           0     0          3      8        1680   \n",
       "\n",
       "   sqft_basement   yr_built  yr_renovated  zipcode   lat    long  \\\n",
       "0              0 1955-01-01             0    98178 47.51 -122.26   \n",
       "1            400 1951-01-01          1991    98125 47.72 -122.32   \n",
       "2              0 1933-01-01             0    98028 47.74 -122.23   \n",
       "3            910 1965-01-01             0    98136 47.52 -122.39   \n",
       "4              0 1987-01-01             0    98074 47.62 -122.05   \n",
       "\n",
       "  condition_type  house_age dormitory_type  \n",
       "0        regular  new_house          house  \n",
       "1        regular  new_house          house  \n",
       "2        regular  new_house      apartment  \n",
       "3           good  new_house          house  \n",
       "4        regular  new_house          house  "
      ]
     },
     "execution_count": 74,
     "metadata": {},
     "output_type": "execute_result"
    }
   ],
   "source": [
    "data['yr_built'] = pd.to_datetime(data['yr_built'], format=\"%Y\")\n",
    "data.head()"
   ]
  },
  {
   "cell_type": "markdown",
   "metadata": {
    "heading_collapsed": true,
    "hidden": true
   },
   "source": [
    "### Meigarom"
   ]
  },
  {
   "cell_type": "code",
   "execution_count": 107,
   "metadata": {
    "ExecuteTime": {
     "end_time": "2022-09-11T15:12:58.284794Z",
     "start_time": "2022-09-11T15:12:57.211091Z"
    },
    "hidden": true
   },
   "outputs": [
    {
     "ename": "AttributeError",
     "evalue": "'Series' object has no attribute 'year'",
     "output_type": "error",
     "traceback": [
      "\u001b[1;31m---------------------------------------------------------------------------\u001b[0m",
      "\u001b[1;31mAttributeError\u001b[0m                            Traceback (most recent call last)",
      "Input \u001b[1;32mIn [107]\u001b[0m, in \u001b[0;36m<cell line: 1>\u001b[1;34m()\u001b[0m\n\u001b[1;32m----> 1\u001b[0m data[\u001b[38;5;124m'\u001b[39m\u001b[38;5;124myr_built\u001b[39m\u001b[38;5;124m'\u001b[39m] \u001b[38;5;241m=\u001b[39m \u001b[43mpd\u001b[49m\u001b[38;5;241;43m.\u001b[39;49m\u001b[43mto_datetime\u001b[49m\u001b[43m(\u001b[49m\u001b[43m \u001b[49m\u001b[43mdata\u001b[49m\u001b[43m[\u001b[49m\u001b[38;5;124;43m'\u001b[39;49m\u001b[38;5;124;43myr_built\u001b[39;49m\u001b[38;5;124;43m'\u001b[39;49m\u001b[43m]\u001b[49m\u001b[43m)\u001b[49m\u001b[38;5;241;43m.\u001b[39;49m\u001b[43myear\u001b[49m\n",
      "File \u001b[1;32m~\\anaconda3\\lib\\site-packages\\pandas\\core\\generic.py:5575\u001b[0m, in \u001b[0;36mNDFrame.__getattr__\u001b[1;34m(self, name)\u001b[0m\n\u001b[0;32m   5568\u001b[0m \u001b[38;5;28;01mif\u001b[39;00m (\n\u001b[0;32m   5569\u001b[0m     name \u001b[38;5;129;01mnot\u001b[39;00m \u001b[38;5;129;01min\u001b[39;00m \u001b[38;5;28mself\u001b[39m\u001b[38;5;241m.\u001b[39m_internal_names_set\n\u001b[0;32m   5570\u001b[0m     \u001b[38;5;129;01mand\u001b[39;00m name \u001b[38;5;129;01mnot\u001b[39;00m \u001b[38;5;129;01min\u001b[39;00m \u001b[38;5;28mself\u001b[39m\u001b[38;5;241m.\u001b[39m_metadata\n\u001b[0;32m   5571\u001b[0m     \u001b[38;5;129;01mand\u001b[39;00m name \u001b[38;5;129;01mnot\u001b[39;00m \u001b[38;5;129;01min\u001b[39;00m \u001b[38;5;28mself\u001b[39m\u001b[38;5;241m.\u001b[39m_accessors\n\u001b[0;32m   5572\u001b[0m     \u001b[38;5;129;01mand\u001b[39;00m \u001b[38;5;28mself\u001b[39m\u001b[38;5;241m.\u001b[39m_info_axis\u001b[38;5;241m.\u001b[39m_can_hold_identifiers_and_holds_name(name)\n\u001b[0;32m   5573\u001b[0m ):\n\u001b[0;32m   5574\u001b[0m     \u001b[38;5;28;01mreturn\u001b[39;00m \u001b[38;5;28mself\u001b[39m[name]\n\u001b[1;32m-> 5575\u001b[0m \u001b[38;5;28;01mreturn\u001b[39;00m \u001b[38;5;28;43mobject\u001b[39;49m\u001b[38;5;241;43m.\u001b[39;49m\u001b[38;5;21;43m__getattribute__\u001b[39;49m\u001b[43m(\u001b[49m\u001b[38;5;28;43mself\u001b[39;49m\u001b[43m,\u001b[49m\u001b[43m \u001b[49m\u001b[43mname\u001b[49m\u001b[43m)\u001b[49m\n",
      "\u001b[1;31mAttributeError\u001b[0m: 'Series' object has no attribute 'year'"
     ]
    }
   ],
   "source": [
    "data['yr_built'] = pd.to_datetime( data['yr_built']).dt.year"
   ]
  },
  {
   "cell_type": "markdown",
   "metadata": {
    "ExecuteTime": {
     "end_time": "2021-02-27T20:15:46.046829Z",
     "start_time": "2021-02-27T20:15:46.020380Z"
    },
    "heading_collapsed": true
   },
   "source": [
    "## 7. Modifique o TIPO a Coluna “yr_renovated” para DATE"
   ]
  },
  {
   "cell_type": "code",
   "execution_count": 81,
   "metadata": {
    "ExecuteTime": {
     "end_time": "2022-09-11T20:41:05.460133Z",
     "start_time": "2022-09-11T20:41:05.394055Z"
    },
    "hidden": true
   },
   "outputs": [],
   "source": [
    "\n",
    "data['yr_renovated'] = data['yr_renovated'].apply(lambda linha: pd.to_datetime('1900-01-01', format='%Y-%m-%d') if linha == 0 else pd.to_datetime(linha,format='%Y'))"
   ]
  },
  {
   "cell_type": "code",
   "execution_count": 82,
   "metadata": {
    "ExecuteTime": {
     "end_time": "2022-09-11T20:41:07.211436Z",
     "start_time": "2022-09-11T20:41:07.192483Z"
    },
    "hidden": true
   },
   "outputs": [
    {
     "data": {
      "text/plain": [
       "id                         int64\n",
       "date              datetime64[ns]\n",
       "price                    float64\n",
       "bedrooms                   int64\n",
       "bathrooms                float64\n",
       "sqft_living                int64\n",
       "sqft_lot                   int64\n",
       "floors                   float64\n",
       "waterfront                 int64\n",
       "view                       int64\n",
       "condition                  int64\n",
       "grade                      int64\n",
       "sqft_above                 int64\n",
       "sqft_basement              int64\n",
       "yr_built          datetime64[ns]\n",
       "yr_renovated      datetime64[ns]\n",
       "zipcode                    int64\n",
       "lat                      float64\n",
       "long                     float64\n",
       "condition_type            object\n",
       "house_age                 object\n",
       "dormitory_type            object\n",
       "dtype: object"
      ]
     },
     "execution_count": 82,
     "metadata": {},
     "output_type": "execute_result"
    }
   ],
   "source": [
    "data.dtypes"
   ]
  },
  {
   "cell_type": "markdown",
   "metadata": {
    "heading_collapsed": true,
    "hidden": true
   },
   "source": [
    "### Meigarom"
   ]
  },
  {
   "cell_type": "code",
   "execution_count": 128,
   "metadata": {
    "ExecuteTime": {
     "end_time": "2022-09-11T15:21:51.985753Z",
     "start_time": "2022-09-11T15:21:51.915942Z"
    },
    "hidden": true
   },
   "outputs": [
    {
     "ename": "TypeError",
     "evalue": "'>' not supported between instances of 'Timestamp' and 'int'",
     "output_type": "error",
     "traceback": [
      "\u001b[1;31m---------------------------------------------------------------------------\u001b[0m",
      "\u001b[1;31mTypeError\u001b[0m                                 Traceback (most recent call last)",
      "Input \u001b[1;32mIn [128]\u001b[0m, in \u001b[0;36m<cell line: 1>\u001b[1;34m()\u001b[0m\n\u001b[1;32m----> 1\u001b[0m data[\u001b[38;5;124m'\u001b[39m\u001b[38;5;124myr_renovated\u001b[39m\u001b[38;5;124m'\u001b[39m] \u001b[38;5;241m=\u001b[39m \u001b[43mdata\u001b[49m\u001b[43m[\u001b[49m\u001b[38;5;124;43m'\u001b[39;49m\u001b[38;5;124;43myr_renovated\u001b[39;49m\u001b[38;5;124;43m'\u001b[39;49m\u001b[43m]\u001b[49m\u001b[38;5;241;43m.\u001b[39;49m\u001b[43mapply\u001b[49m\u001b[43m(\u001b[49m\u001b[43m \u001b[49m\u001b[38;5;28;43;01mlambda\u001b[39;49;00m\u001b[43m \u001b[49m\u001b[43mx\u001b[49m\u001b[43m:\u001b[49m\u001b[43m \u001b[49m\u001b[43mpd\u001b[49m\u001b[38;5;241;43m.\u001b[39;49m\u001b[43mto_datetime\u001b[49m\u001b[43m(\u001b[49m\u001b[43m \u001b[49m\u001b[43mx\u001b[49m\u001b[43m,\u001b[49m\u001b[43m \u001b[49m\u001b[38;5;28;43mformat\u001b[39;49m\u001b[38;5;241;43m=\u001b[39;49m\u001b[38;5;124;43m'\u001b[39;49m\u001b[38;5;124;43m%\u001b[39;49m\u001b[38;5;124;43mY\u001b[39;49m\u001b[38;5;124;43m'\u001b[39;49m\u001b[43m)\u001b[49m\u001b[43m \u001b[49m\u001b[38;5;28;43;01mif\u001b[39;49;00m\u001b[43m \u001b[49m\u001b[43mx\u001b[49m\u001b[43m \u001b[49m\u001b[38;5;241;43m>\u001b[39;49m\u001b[43m \u001b[49m\u001b[38;5;241;43m0\u001b[39;49m\u001b[43m \u001b[49m\u001b[38;5;28;43;01melse\u001b[39;49;00m\u001b[43m \u001b[49m\u001b[43mx\u001b[49m\u001b[43m \u001b[49m\u001b[43m)\u001b[49m\n",
      "File \u001b[1;32m~\\anaconda3\\lib\\site-packages\\pandas\\core\\series.py:4433\u001b[0m, in \u001b[0;36mSeries.apply\u001b[1;34m(self, func, convert_dtype, args, **kwargs)\u001b[0m\n\u001b[0;32m   4323\u001b[0m \u001b[38;5;28;01mdef\u001b[39;00m \u001b[38;5;21mapply\u001b[39m(\n\u001b[0;32m   4324\u001b[0m     \u001b[38;5;28mself\u001b[39m,\n\u001b[0;32m   4325\u001b[0m     func: AggFuncType,\n\u001b[1;32m   (...)\u001b[0m\n\u001b[0;32m   4328\u001b[0m     \u001b[38;5;241m*\u001b[39m\u001b[38;5;241m*\u001b[39mkwargs,\n\u001b[0;32m   4329\u001b[0m ) \u001b[38;5;241m-\u001b[39m\u001b[38;5;241m>\u001b[39m DataFrame \u001b[38;5;241m|\u001b[39m Series:\n\u001b[0;32m   4330\u001b[0m     \u001b[38;5;124;03m\"\"\"\u001b[39;00m\n\u001b[0;32m   4331\u001b[0m \u001b[38;5;124;03m    Invoke function on values of Series.\u001b[39;00m\n\u001b[0;32m   4332\u001b[0m \n\u001b[1;32m   (...)\u001b[0m\n\u001b[0;32m   4431\u001b[0m \u001b[38;5;124;03m    dtype: float64\u001b[39;00m\n\u001b[0;32m   4432\u001b[0m \u001b[38;5;124;03m    \"\"\"\u001b[39;00m\n\u001b[1;32m-> 4433\u001b[0m     \u001b[38;5;28;01mreturn\u001b[39;00m \u001b[43mSeriesApply\u001b[49m\u001b[43m(\u001b[49m\u001b[38;5;28;43mself\u001b[39;49m\u001b[43m,\u001b[49m\u001b[43m \u001b[49m\u001b[43mfunc\u001b[49m\u001b[43m,\u001b[49m\u001b[43m \u001b[49m\u001b[43mconvert_dtype\u001b[49m\u001b[43m,\u001b[49m\u001b[43m \u001b[49m\u001b[43margs\u001b[49m\u001b[43m,\u001b[49m\u001b[43m \u001b[49m\u001b[43mkwargs\u001b[49m\u001b[43m)\u001b[49m\u001b[38;5;241;43m.\u001b[39;49m\u001b[43mapply\u001b[49m\u001b[43m(\u001b[49m\u001b[43m)\u001b[49m\n",
      "File \u001b[1;32m~\\anaconda3\\lib\\site-packages\\pandas\\core\\apply.py:1082\u001b[0m, in \u001b[0;36mSeriesApply.apply\u001b[1;34m(self)\u001b[0m\n\u001b[0;32m   1078\u001b[0m \u001b[38;5;28;01mif\u001b[39;00m \u001b[38;5;28misinstance\u001b[39m(\u001b[38;5;28mself\u001b[39m\u001b[38;5;241m.\u001b[39mf, \u001b[38;5;28mstr\u001b[39m):\n\u001b[0;32m   1079\u001b[0m     \u001b[38;5;66;03m# if we are a string, try to dispatch\u001b[39;00m\n\u001b[0;32m   1080\u001b[0m     \u001b[38;5;28;01mreturn\u001b[39;00m \u001b[38;5;28mself\u001b[39m\u001b[38;5;241m.\u001b[39mapply_str()\n\u001b[1;32m-> 1082\u001b[0m \u001b[38;5;28;01mreturn\u001b[39;00m \u001b[38;5;28;43mself\u001b[39;49m\u001b[38;5;241;43m.\u001b[39;49m\u001b[43mapply_standard\u001b[49m\u001b[43m(\u001b[49m\u001b[43m)\u001b[49m\n",
      "File \u001b[1;32m~\\anaconda3\\lib\\site-packages\\pandas\\core\\apply.py:1137\u001b[0m, in \u001b[0;36mSeriesApply.apply_standard\u001b[1;34m(self)\u001b[0m\n\u001b[0;32m   1131\u001b[0m         values \u001b[38;5;241m=\u001b[39m obj\u001b[38;5;241m.\u001b[39mastype(\u001b[38;5;28mobject\u001b[39m)\u001b[38;5;241m.\u001b[39m_values\n\u001b[0;32m   1132\u001b[0m         \u001b[38;5;66;03m# error: Argument 2 to \"map_infer\" has incompatible type\u001b[39;00m\n\u001b[0;32m   1133\u001b[0m         \u001b[38;5;66;03m# \"Union[Callable[..., Any], str, List[Union[Callable[..., Any], str]],\u001b[39;00m\n\u001b[0;32m   1134\u001b[0m         \u001b[38;5;66;03m# Dict[Hashable, Union[Union[Callable[..., Any], str],\u001b[39;00m\n\u001b[0;32m   1135\u001b[0m         \u001b[38;5;66;03m# List[Union[Callable[..., Any], str]]]]]\"; expected\u001b[39;00m\n\u001b[0;32m   1136\u001b[0m         \u001b[38;5;66;03m# \"Callable[[Any], Any]\"\u001b[39;00m\n\u001b[1;32m-> 1137\u001b[0m         mapped \u001b[38;5;241m=\u001b[39m \u001b[43mlib\u001b[49m\u001b[38;5;241;43m.\u001b[39;49m\u001b[43mmap_infer\u001b[49m\u001b[43m(\u001b[49m\n\u001b[0;32m   1138\u001b[0m \u001b[43m            \u001b[49m\u001b[43mvalues\u001b[49m\u001b[43m,\u001b[49m\n\u001b[0;32m   1139\u001b[0m \u001b[43m            \u001b[49m\u001b[43mf\u001b[49m\u001b[43m,\u001b[49m\u001b[43m  \u001b[49m\u001b[38;5;66;43;03m# type: ignore[arg-type]\u001b[39;49;00m\n\u001b[0;32m   1140\u001b[0m \u001b[43m            \u001b[49m\u001b[43mconvert\u001b[49m\u001b[38;5;241;43m=\u001b[39;49m\u001b[38;5;28;43mself\u001b[39;49m\u001b[38;5;241;43m.\u001b[39;49m\u001b[43mconvert_dtype\u001b[49m\u001b[43m,\u001b[49m\n\u001b[0;32m   1141\u001b[0m \u001b[43m        \u001b[49m\u001b[43m)\u001b[49m\n\u001b[0;32m   1143\u001b[0m \u001b[38;5;28;01mif\u001b[39;00m \u001b[38;5;28mlen\u001b[39m(mapped) \u001b[38;5;129;01mand\u001b[39;00m \u001b[38;5;28misinstance\u001b[39m(mapped[\u001b[38;5;241m0\u001b[39m], ABCSeries):\n\u001b[0;32m   1144\u001b[0m     \u001b[38;5;66;03m# GH#43986 Need to do list(mapped) in order to get treated as nested\u001b[39;00m\n\u001b[0;32m   1145\u001b[0m     \u001b[38;5;66;03m#  See also GH#25959 regarding EA support\u001b[39;00m\n\u001b[0;32m   1146\u001b[0m     \u001b[38;5;28;01mreturn\u001b[39;00m obj\u001b[38;5;241m.\u001b[39m_constructor_expanddim(\u001b[38;5;28mlist\u001b[39m(mapped), index\u001b[38;5;241m=\u001b[39mobj\u001b[38;5;241m.\u001b[39mindex)\n",
      "File \u001b[1;32m~\\anaconda3\\lib\\site-packages\\pandas\\_libs\\lib.pyx:2870\u001b[0m, in \u001b[0;36mpandas._libs.lib.map_infer\u001b[1;34m()\u001b[0m\n",
      "Input \u001b[1;32mIn [128]\u001b[0m, in \u001b[0;36m<lambda>\u001b[1;34m(x)\u001b[0m\n\u001b[1;32m----> 1\u001b[0m data[\u001b[38;5;124m'\u001b[39m\u001b[38;5;124myr_renovated\u001b[39m\u001b[38;5;124m'\u001b[39m] \u001b[38;5;241m=\u001b[39m data[\u001b[38;5;124m'\u001b[39m\u001b[38;5;124myr_renovated\u001b[39m\u001b[38;5;124m'\u001b[39m]\u001b[38;5;241m.\u001b[39mapply( \u001b[38;5;28;01mlambda\u001b[39;00m x: pd\u001b[38;5;241m.\u001b[39mto_datetime( x, \u001b[38;5;28mformat\u001b[39m\u001b[38;5;241m=\u001b[39m\u001b[38;5;124m'\u001b[39m\u001b[38;5;124m%\u001b[39m\u001b[38;5;124mY\u001b[39m\u001b[38;5;124m'\u001b[39m) \u001b[38;5;28;01mif\u001b[39;00m \u001b[43mx\u001b[49m\u001b[43m \u001b[49m\u001b[38;5;241;43m>\u001b[39;49m\u001b[43m \u001b[49m\u001b[38;5;241;43m0\u001b[39;49m \u001b[38;5;28;01melse\u001b[39;00m x )\n",
      "\u001b[1;31mTypeError\u001b[0m: '>' not supported between instances of 'Timestamp' and 'int'"
     ]
    }
   ],
   "source": [
    "data['yr_renovated'] = data['yr_renovated'].apply( lambda x: pd.to_datetime( x, format='%Y') if x > 0 else x )"
   ]
  },
  {
   "cell_type": "markdown",
   "metadata": {
    "ExecuteTime": {
     "end_time": "2021-02-27T20:15:46.046829Z",
     "start_time": "2021-02-27T20:15:46.020380Z"
    },
    "heading_collapsed": true
   },
   "source": [
    "## 8. Qual a data mais antiga de construção de um imóvel?"
   ]
  },
  {
   "cell_type": "code",
   "execution_count": 84,
   "metadata": {
    "ExecuteTime": {
     "end_time": "2022-09-11T20:41:24.586325Z",
     "start_time": "2022-09-11T20:41:24.569344Z"
    },
    "hidden": true
   },
   "outputs": [
    {
     "data": {
      "text/plain": [
       "1900"
      ]
     },
     "execution_count": 84,
     "metadata": {},
     "output_type": "execute_result"
    }
   ],
   "source": [
    "construcao_mais_antiga = data['yr_built'].min().year\n",
    "construcao_mais_antiga"
   ]
  },
  {
   "cell_type": "markdown",
   "metadata": {
    "heading_collapsed": true,
    "hidden": true
   },
   "source": [
    "### Meigarom"
   ]
  },
  {
   "cell_type": "code",
   "execution_count": 34,
   "metadata": {
    "ExecuteTime": {
     "end_time": "2022-09-11T14:43:43.793224Z",
     "start_time": "2022-09-11T14:43:43.782253Z"
    },
    "hidden": true
   },
   "outputs": [
    {
     "name": "stdout",
     "output_type": "stream",
     "text": [
      "The oldest house is 1900 years old\n"
     ]
    }
   ],
   "source": [
    "min_date = data['yr_built'].min().year\n",
    "print( 'The oldest house is {} years old'.format( min_date ) )"
   ]
  },
  {
   "cell_type": "markdown",
   "metadata": {
    "ExecuteTime": {
     "end_time": "2021-02-27T20:15:46.046829Z",
     "start_time": "2021-02-27T20:15:46.020380Z"
    },
    "heading_collapsed": true
   },
   "source": [
    "## 9. Qual a data mais antiga de renovação de um imóvel?"
   ]
  },
  {
   "cell_type": "code",
   "execution_count": 92,
   "metadata": {
    "ExecuteTime": {
     "end_time": "2022-09-11T20:49:22.947103Z",
     "start_time": "2022-09-11T20:49:22.667803Z"
    },
    "hidden": true
   },
   "outputs": [
    {
     "data": {
      "text/plain": [
       "1934"
      ]
     },
     "execution_count": 92,
     "metadata": {},
     "output_type": "execute_result"
    }
   ],
   "source": [
    "anos_renovacao = []\n",
    "for ano in data['yr_renovated']:\n",
    "    if ano != 0:\n",
    "        anos_renovacao.append(ano)\n",
    "\n",
    "anos_renovacao.sort()\n",
    "renovacao_mais_antiga = anos_renovacao[0].year\n",
    "renovacao_mais_antiga\n",
    "#antiga = data['yr_built'].sort_values().reset_index(drop=True)[0]\n",
    "#antiga"
   ]
  },
  {
   "cell_type": "markdown",
   "metadata": {
    "heading_collapsed": true,
    "hidden": true
   },
   "source": [
    "### Meigarom"
   ]
  },
  {
   "cell_type": "code",
   "execution_count": 38,
   "metadata": {
    "ExecuteTime": {
     "end_time": "2022-09-11T14:48:26.755587Z",
     "start_time": "2022-09-11T14:48:26.670813Z"
    },
    "hidden": true
   },
   "outputs": [
    {
     "ename": "TypeError",
     "evalue": "'>' not supported between instances of 'Timestamp' and 'int'",
     "output_type": "error",
     "traceback": [
      "\u001b[1;31m---------------------------------------------------------------------------\u001b[0m",
      "\u001b[1;31mTypeError\u001b[0m                                 Traceback (most recent call last)",
      "Input \u001b[1;32mIn [38]\u001b[0m, in \u001b[0;36m<cell line: 4>\u001b[1;34m()\u001b[0m\n\u001b[0;32m      1\u001b[0m \u001b[38;5;66;03m### Meigarom# Estrategia\u001b[39;00m\n\u001b[0;32m      2\u001b[0m \u001b[38;5;66;03m# 1. Filtrar todas as linhas diferentes de ZERO ( imóveis que nao foram reformados )\u001b[39;00m\n\u001b[0;32m      3\u001b[0m \u001b[38;5;66;03m# 2. Encontrar a data mínima\u001b[39;00m\n\u001b[1;32m----> 4\u001b[0m df \u001b[38;5;241m=\u001b[39m data[\u001b[43mdata\u001b[49m\u001b[43m[\u001b[49m\u001b[38;5;124;43m'\u001b[39;49m\u001b[38;5;124;43myr_renovated\u001b[39;49m\u001b[38;5;124;43m'\u001b[39;49m\u001b[43m]\u001b[49m\u001b[43m \u001b[49m\u001b[38;5;241;43m>\u001b[39;49m\u001b[43m \u001b[49m\u001b[38;5;241;43m0\u001b[39;49m][\u001b[38;5;124m'\u001b[39m\u001b[38;5;124myr_renovated\u001b[39m\u001b[38;5;124m'\u001b[39m]\n\u001b[0;32m      6\u001b[0m \u001b[38;5;28mprint\u001b[39m( \u001b[38;5;124m'\u001b[39m\u001b[38;5;124mThe oldest renovated house is \u001b[39m\u001b[38;5;132;01m{}\u001b[39;00m\u001b[38;5;124m years old\u001b[39m\u001b[38;5;124m'\u001b[39m\u001b[38;5;241m.\u001b[39mformat( df\u001b[38;5;241m.\u001b[39mmin() ) )\n",
      "File \u001b[1;32m~\\anaconda3\\lib\\site-packages\\pandas\\core\\ops\\common.py:70\u001b[0m, in \u001b[0;36m_unpack_zerodim_and_defer.<locals>.new_method\u001b[1;34m(self, other)\u001b[0m\n\u001b[0;32m     66\u001b[0m             \u001b[38;5;28;01mreturn\u001b[39;00m \u001b[38;5;28mNotImplemented\u001b[39m\n\u001b[0;32m     68\u001b[0m other \u001b[38;5;241m=\u001b[39m item_from_zerodim(other)\n\u001b[1;32m---> 70\u001b[0m \u001b[38;5;28;01mreturn\u001b[39;00m \u001b[43mmethod\u001b[49m\u001b[43m(\u001b[49m\u001b[38;5;28;43mself\u001b[39;49m\u001b[43m,\u001b[49m\u001b[43m \u001b[49m\u001b[43mother\u001b[49m\u001b[43m)\u001b[49m\n",
      "File \u001b[1;32m~\\anaconda3\\lib\\site-packages\\pandas\\core\\arraylike.py:56\u001b[0m, in \u001b[0;36mOpsMixin.__gt__\u001b[1;34m(self, other)\u001b[0m\n\u001b[0;32m     54\u001b[0m \u001b[38;5;129m@unpack_zerodim_and_defer\u001b[39m(\u001b[38;5;124m\"\u001b[39m\u001b[38;5;124m__gt__\u001b[39m\u001b[38;5;124m\"\u001b[39m)\n\u001b[0;32m     55\u001b[0m \u001b[38;5;28;01mdef\u001b[39;00m \u001b[38;5;21m__gt__\u001b[39m(\u001b[38;5;28mself\u001b[39m, other):\n\u001b[1;32m---> 56\u001b[0m     \u001b[38;5;28;01mreturn\u001b[39;00m \u001b[38;5;28;43mself\u001b[39;49m\u001b[38;5;241;43m.\u001b[39;49m\u001b[43m_cmp_method\u001b[49m\u001b[43m(\u001b[49m\u001b[43mother\u001b[49m\u001b[43m,\u001b[49m\u001b[43m \u001b[49m\u001b[43moperator\u001b[49m\u001b[38;5;241;43m.\u001b[39;49m\u001b[43mgt\u001b[49m\u001b[43m)\u001b[49m\n",
      "File \u001b[1;32m~\\anaconda3\\lib\\site-packages\\pandas\\core\\series.py:5623\u001b[0m, in \u001b[0;36mSeries._cmp_method\u001b[1;34m(self, other, op)\u001b[0m\n\u001b[0;32m   5620\u001b[0m rvalues \u001b[38;5;241m=\u001b[39m extract_array(other, extract_numpy\u001b[38;5;241m=\u001b[39m\u001b[38;5;28;01mTrue\u001b[39;00m, extract_range\u001b[38;5;241m=\u001b[39m\u001b[38;5;28;01mTrue\u001b[39;00m)\n\u001b[0;32m   5622\u001b[0m \u001b[38;5;28;01mwith\u001b[39;00m np\u001b[38;5;241m.\u001b[39merrstate(\u001b[38;5;28mall\u001b[39m\u001b[38;5;241m=\u001b[39m\u001b[38;5;124m\"\u001b[39m\u001b[38;5;124mignore\u001b[39m\u001b[38;5;124m\"\u001b[39m):\n\u001b[1;32m-> 5623\u001b[0m     res_values \u001b[38;5;241m=\u001b[39m \u001b[43mops\u001b[49m\u001b[38;5;241;43m.\u001b[39;49m\u001b[43mcomparison_op\u001b[49m\u001b[43m(\u001b[49m\u001b[43mlvalues\u001b[49m\u001b[43m,\u001b[49m\u001b[43m \u001b[49m\u001b[43mrvalues\u001b[49m\u001b[43m,\u001b[49m\u001b[43m \u001b[49m\u001b[43mop\u001b[49m\u001b[43m)\u001b[49m\n\u001b[0;32m   5625\u001b[0m \u001b[38;5;28;01mreturn\u001b[39;00m \u001b[38;5;28mself\u001b[39m\u001b[38;5;241m.\u001b[39m_construct_result(res_values, name\u001b[38;5;241m=\u001b[39mres_name)\n",
      "File \u001b[1;32m~\\anaconda3\\lib\\site-packages\\pandas\\core\\ops\\array_ops.py:283\u001b[0m, in \u001b[0;36mcomparison_op\u001b[1;34m(left, right, op)\u001b[0m\n\u001b[0;32m    280\u001b[0m     \u001b[38;5;28;01mreturn\u001b[39;00m invalid_comparison(lvalues, rvalues, op)\n\u001b[0;32m    282\u001b[0m \u001b[38;5;28;01melif\u001b[39;00m is_object_dtype(lvalues\u001b[38;5;241m.\u001b[39mdtype) \u001b[38;5;129;01mor\u001b[39;00m \u001b[38;5;28misinstance\u001b[39m(rvalues, \u001b[38;5;28mstr\u001b[39m):\n\u001b[1;32m--> 283\u001b[0m     res_values \u001b[38;5;241m=\u001b[39m \u001b[43mcomp_method_OBJECT_ARRAY\u001b[49m\u001b[43m(\u001b[49m\u001b[43mop\u001b[49m\u001b[43m,\u001b[49m\u001b[43m \u001b[49m\u001b[43mlvalues\u001b[49m\u001b[43m,\u001b[49m\u001b[43m \u001b[49m\u001b[43mrvalues\u001b[49m\u001b[43m)\u001b[49m\n\u001b[0;32m    285\u001b[0m \u001b[38;5;28;01melse\u001b[39;00m:\n\u001b[0;32m    286\u001b[0m     res_values \u001b[38;5;241m=\u001b[39m _na_arithmetic_op(lvalues, rvalues, op, is_cmp\u001b[38;5;241m=\u001b[39m\u001b[38;5;28;01mTrue\u001b[39;00m)\n",
      "File \u001b[1;32m~\\anaconda3\\lib\\site-packages\\pandas\\core\\ops\\array_ops.py:73\u001b[0m, in \u001b[0;36mcomp_method_OBJECT_ARRAY\u001b[1;34m(op, x, y)\u001b[0m\n\u001b[0;32m     71\u001b[0m     result \u001b[38;5;241m=\u001b[39m libops\u001b[38;5;241m.\u001b[39mvec_compare(x\u001b[38;5;241m.\u001b[39mravel(), y\u001b[38;5;241m.\u001b[39mravel(), op)\n\u001b[0;32m     72\u001b[0m \u001b[38;5;28;01melse\u001b[39;00m:\n\u001b[1;32m---> 73\u001b[0m     result \u001b[38;5;241m=\u001b[39m \u001b[43mlibops\u001b[49m\u001b[38;5;241;43m.\u001b[39;49m\u001b[43mscalar_compare\u001b[49m\u001b[43m(\u001b[49m\u001b[43mx\u001b[49m\u001b[38;5;241;43m.\u001b[39;49m\u001b[43mravel\u001b[49m\u001b[43m(\u001b[49m\u001b[43m)\u001b[49m\u001b[43m,\u001b[49m\u001b[43m \u001b[49m\u001b[43my\u001b[49m\u001b[43m,\u001b[49m\u001b[43m \u001b[49m\u001b[43mop\u001b[49m\u001b[43m)\u001b[49m\n\u001b[0;32m     74\u001b[0m \u001b[38;5;28;01mreturn\u001b[39;00m result\u001b[38;5;241m.\u001b[39mreshape(x\u001b[38;5;241m.\u001b[39mshape)\n",
      "File \u001b[1;32m~\\anaconda3\\lib\\site-packages\\pandas\\_libs\\ops.pyx:107\u001b[0m, in \u001b[0;36mpandas._libs.ops.scalar_compare\u001b[1;34m()\u001b[0m\n",
      "\u001b[1;31mTypeError\u001b[0m: '>' not supported between instances of 'Timestamp' and 'int'"
     ]
    }
   ],
   "source": [
    "### Meigarom# Estrategia\n",
    "# 1. Filtrar todas as linhas diferentes de ZERO ( imóveis que nao foram reformados )\n",
    "# 2. Encontrar a data mínima\n",
    "df = data[data['yr_renovated'] > 0]['yr_renovated']\n",
    "\n",
    "print( 'The oldest renovated house is {} years old'.format( df.min() ) )"
   ]
  },
  {
   "cell_type": "markdown",
   "metadata": {
    "ExecuteTime": {
     "end_time": "2021-02-27T20:15:46.046829Z",
     "start_time": "2021-02-27T20:15:46.020380Z"
    }
   },
   "source": [
    "## 10. Quantos imóveis tem 2 andares?"
   ]
  },
  {
   "cell_type": "code",
   "execution_count": 43,
   "metadata": {
    "ExecuteTime": {
     "end_time": "2022-09-11T19:55:53.992129Z",
     "start_time": "2022-09-11T19:55:53.977165Z"
    }
   },
   "outputs": [
    {
     "data": {
      "text/plain": [
       "8241"
      ]
     },
     "execution_count": 43,
     "metadata": {},
     "output_type": "execute_result"
    }
   ],
   "source": [
    "dois_andares = data.loc[data['floors']==2, 'id'].count()\n",
    "dois_andares"
   ]
  },
  {
   "cell_type": "markdown",
   "metadata": {
    "heading_collapsed": true
   },
   "source": [
    "### Meigarom"
   ]
  },
  {
   "cell_type": "code",
   "execution_count": 15,
   "metadata": {
    "ExecuteTime": {
     "end_time": "2021-02-27T21:21:04.941127Z",
     "start_time": "2021-02-27T21:21:04.935635Z"
    },
    "hidden": true
   },
   "outputs": [
    {
     "name": "stdout",
     "output_type": "stream",
     "text": [
      "The number of houses with 2 floors is: 8241\n"
     ]
    }
   ],
   "source": [
    "### Meigarom# Estrategia:\n",
    "# 1. Filtrar todoso os imóveis com 2 andares\n",
    "# 2. Contar o número de linhas\n",
    "#\n",
    "houses = data[data['floors'] == 2].shape[0]\n",
    "\n",
    "print( 'The number of houses with 2 floors is: {}'.format( houses ) )"
   ]
  },
  {
   "cell_type": "markdown",
   "metadata": {
    "ExecuteTime": {
     "end_time": "2021-02-27T20:15:46.046829Z",
     "start_time": "2021-02-27T20:15:46.020380Z"
    }
   },
   "source": [
    "## 11. Quantos imóveis estão com a condição igual a “regular” ?"
   ]
  },
  {
   "cell_type": "code",
   "execution_count": 44,
   "metadata": {
    "ExecuteTime": {
     "end_time": "2022-09-11T19:55:57.308958Z",
     "start_time": "2022-09-11T19:55:57.295992Z"
    }
   },
   "outputs": [
    {
     "data": {
      "text/plain": [
       "19710"
      ]
     },
     "execution_count": 44,
     "metadata": {},
     "output_type": "execute_result"
    }
   ],
   "source": [
    "regular_qty = data.loc[data['condition_type']=='regular', 'id'].count()\n",
    "regular_qty"
   ]
  },
  {
   "cell_type": "markdown",
   "metadata": {
    "heading_collapsed": true
   },
   "source": [
    "### Meigarom"
   ]
  },
  {
   "cell_type": "code",
   "execution_count": null,
   "metadata": {
    "hidden": true
   },
   "outputs": [],
   "source": []
  },
  {
   "cell_type": "code",
   "execution_count": 16,
   "metadata": {
    "ExecuteTime": {
     "end_time": "2021-02-27T21:21:05.696708Z",
     "start_time": "2021-02-27T21:21:05.689645Z"
    },
    "hidden": true
   },
   "outputs": [
    {
     "name": "stdout",
     "output_type": "stream",
     "text": [
      "Number of Houses in \"regular\" condition is: 19710\n"
     ]
    }
   ],
   "source": [
    "### Meigarom# Estrategia\n",
    "# 1. Filtrar todos os apartamentos com \"condition_type\" igual a \"regular\"\n",
    "# 2. Contar o número de imóveis sob essa condição\n",
    "#\n",
    "houses = data[data['conditional_type'] == 'regular'].shape[0]\n",
    "\n",
    "print( 'Number of Houses in \"regular\" condition is: {}'.format( houses ) )"
   ]
  },
  {
   "cell_type": "markdown",
   "metadata": {
    "ExecuteTime": {
     "end_time": "2021-02-27T20:15:46.046829Z",
     "start_time": "2021-02-27T20:15:46.020380Z"
    }
   },
   "source": [
    "## 12. Quantos imóveis estão com a condição igual a “bad”e possuem “vista para água” ?"
   ]
  },
  {
   "cell_type": "code",
   "execution_count": 93,
   "metadata": {
    "ExecuteTime": {
     "end_time": "2022-09-11T20:50:15.311058Z",
     "start_time": "2022-09-11T20:50:15.288109Z"
    }
   },
   "outputs": [
    {
     "data": {
      "text/plain": [
       "2"
      ]
     },
     "execution_count": 93,
     "metadata": {},
     "output_type": "execute_result"
    }
   ],
   "source": [
    "bad_and_vista = data.loc[((data['condition_type']=='bad') & (data['waterfront'] == 1)), 'id'].count()\n",
    "bad_and_vista"
   ]
  },
  {
   "cell_type": "markdown",
   "metadata": {
    "heading_collapsed": true
   },
   "source": [
    "### Meigarom"
   ]
  },
  {
   "cell_type": "code",
   "execution_count": 17,
   "metadata": {
    "ExecuteTime": {
     "end_time": "2021-02-27T21:21:07.294954Z",
     "start_time": "2021-02-27T21:21:07.288643Z"
    },
    "hidden": true
   },
   "outputs": [
    {
     "name": "stdout",
     "output_type": "stream",
     "text": [
      "Number of Houses with water view and bad condition: 2\n"
     ]
    }
   ],
   "source": [
    "### Meigarom# Estrategia:\n",
    "# 1. Filtrar as colunas \"conditional_type\" igual a \"bad\" e \"waterfront\" igual a 1\n",
    "# 2. Contar o número de linhas\n",
    "houses = data[(data['conditional_type'] == 'bad') & (data['waterfront'] == 1)].shape[0]\n",
    "print( \"Number of Houses with water view and bad condition: {}\".format( houses ) )"
   ]
  },
  {
   "cell_type": "markdown",
   "metadata": {
    "ExecuteTime": {
     "end_time": "2021-02-27T20:15:46.046829Z",
     "start_time": "2021-02-27T20:15:46.020380Z"
    }
   },
   "source": [
    "## 13. Quantos imóveis estão com a condição igual a “good” e são “new_house”?"
   ]
  },
  {
   "cell_type": "code",
   "execution_count": 94,
   "metadata": {
    "ExecuteTime": {
     "end_time": "2022-09-11T20:50:17.461848Z",
     "start_time": "2022-09-11T20:50:17.440905Z"
    }
   },
   "outputs": [
    {
     "data": {
      "text/plain": [
       "1701"
      ]
     },
     "execution_count": 94,
     "metadata": {},
     "output_type": "execute_result"
    }
   ],
   "source": [
    "good_and_new = data.loc[((data['condition_type']=='good') & (data['house_age'] == 'new_house')), 'id'].count()\n",
    "good_and_new"
   ]
  },
  {
   "cell_type": "markdown",
   "metadata": {
    "heading_collapsed": true
   },
   "source": [
    "### Meigarom"
   ]
  },
  {
   "cell_type": "code",
   "execution_count": 18,
   "metadata": {
    "ExecuteTime": {
     "end_time": "2021-02-27T21:21:07.623250Z",
     "start_time": "2021-02-27T21:21:07.615830Z"
    },
    "hidden": true
   },
   "outputs": [
    {
     "name": "stdout",
     "output_type": "stream",
     "text": [
      "Number of new house with good conditional type is: 1701\n"
     ]
    }
   ],
   "source": [
    "### Meigarom# Estrategia:\n",
    "# 1. Filtrar as colunas \"conditional_type\" igual a \"good\" e \"house_age\" equals to \"new_house\"\n",
    "# 2. Contar o número de linhas\n",
    "houses = data[(data['conditional_type'] == 'good') & (data['house_age'] == \"new_house\")].shape[0]\n",
    "print( \"Number of new house with good conditional type is: {}\".format( houses ) )"
   ]
  },
  {
   "cell_type": "markdown",
   "metadata": {
    "ExecuteTime": {
     "end_time": "2021-02-27T20:15:46.046829Z",
     "start_time": "2021-02-27T20:15:46.020380Z"
    }
   },
   "source": [
    "## 14. Qual o valor do imóvel mais caro do tipo “studio” ?"
   ]
  },
  {
   "cell_type": "code",
   "execution_count": 95,
   "metadata": {
    "ExecuteTime": {
     "end_time": "2022-09-11T20:50:20.556351Z",
     "start_time": "2022-09-11T20:50:20.540394Z"
    }
   },
   "outputs": [
    {
     "data": {
      "text/plain": [
       "1247000.0"
      ]
     },
     "execution_count": 95,
     "metadata": {},
     "output_type": "execute_result"
    }
   ],
   "source": [
    "studio_mais_caro = data.loc[data['dormitory_type'] == 'studio', 'price'].max()\n",
    "studio_mais_caro"
   ]
  },
  {
   "cell_type": "markdown",
   "metadata": {
    "heading_collapsed": true
   },
   "source": [
    "### Meigarom"
   ]
  },
  {
   "cell_type": "code",
   "execution_count": 19,
   "metadata": {
    "ExecuteTime": {
     "end_time": "2021-02-27T21:21:07.900460Z",
     "start_time": "2021-02-27T21:21:07.894823Z"
    },
    "hidden": true
   },
   "outputs": [
    {
     "name": "stdout",
     "output_type": "stream",
     "text": [
      "Most expensive studio house: $1247000.0\n"
     ]
    }
   ],
   "source": [
    "### Meigarom# Estrategia:\n",
    "# 1. Filtrar as colunas \"dormitory_type\" igual a \"studio\"\n",
    "# 2. Encontrar o máximo valor da coluna \"price\"\n",
    "max_studio_price = data[data['dormitory_type'] == 'studio']['price'].max()\n",
    "print( \"Most expensive studio house: ${}\".format( max_studio_price ) )"
   ]
  },
  {
   "cell_type": "markdown",
   "metadata": {
    "ExecuteTime": {
     "end_time": "2021-02-27T20:15:46.046829Z",
     "start_time": "2021-02-27T20:15:46.020380Z"
    }
   },
   "source": [
    "## 15. Quantos imóveis do tipo “apartment” foram reformados em 2015 ?"
   ]
  },
  {
   "cell_type": "code",
   "execution_count": 102,
   "metadata": {
    "ExecuteTime": {
     "end_time": "2022-09-11T20:54:19.409762Z",
     "start_time": "2022-09-11T20:54:19.393801Z"
    }
   },
   "outputs": [
    {
     "data": {
      "text/plain": [
       "0"
      ]
     },
     "execution_count": 102,
     "metadata": {},
     "output_type": "execute_result"
    }
   ],
   "source": [
    "mask_type = data['dormitory_type'] == 'apartment' \n",
    "mask_yr_renovated = data['yr_renovated'] == pd.to_datetime('2015-01-01')\n",
    "apartment_renovated = data.loc[mask_type & mask_yr_renovated, 'id'].count()\n",
    "apartment_renovated"
   ]
  },
  {
   "cell_type": "markdown",
   "metadata": {},
   "source": [
    "### Meigarom"
   ]
  },
  {
   "cell_type": "code",
   "execution_count": 39,
   "metadata": {
    "ExecuteTime": {
     "end_time": "2021-02-27T21:30:59.763973Z",
     "start_time": "2021-02-27T21:30:59.758203Z"
    }
   },
   "outputs": [
    {
     "name": "stdout",
     "output_type": "stream",
     "text": [
      "Number of reformed house in 2015: 0\n"
     ]
    }
   ],
   "source": [
    "### Meigarom# Estrategia:\n",
    "# 1. Filtrar as colunas \"dormitory_type\" igual a \"apartament\" e \"yr_renovated\" equals to \"2015-01-01\"\n",
    "# 2. Contar o número de linhas\n",
    "houses = data[(data['dormitory_type'] == 'apartament') & \n",
    "              (data['yr_renovated'] == 2015 )].shape[0]\n",
    "\n",
    "print( \"Number of reformed house in 2015: {}\".format( houses ) )"
   ]
  },
  {
   "cell_type": "markdown",
   "metadata": {
    "ExecuteTime": {
     "end_time": "2021-02-27T20:15:46.046829Z",
     "start_time": "2021-02-27T20:15:46.020380Z"
    }
   },
   "source": [
    "## 16. Qual o maior número de quartos que um imóveis do tipo “house” possui ?"
   ]
  },
  {
   "cell_type": "code",
   "execution_count": 52,
   "metadata": {
    "ExecuteTime": {
     "end_time": "2022-09-11T19:57:57.807664Z",
     "start_time": "2022-09-11T19:57:57.787719Z"
    }
   },
   "outputs": [
    {
     "data": {
      "text/plain": [
       "33"
      ]
     },
     "execution_count": 52,
     "metadata": {},
     "output_type": "execute_result"
    }
   ],
   "source": [
    "max_house_bedrooms = data.loc[data['dormitory_type']=='house', 'bedrooms'].max()\n",
    "max_house_bedrooms"
   ]
  },
  {
   "cell_type": "markdown",
   "metadata": {},
   "source": [
    "### Meigarom"
   ]
  },
  {
   "cell_type": "code",
   "execution_count": 31,
   "metadata": {
    "ExecuteTime": {
     "end_time": "2021-02-27T21:29:10.495226Z",
     "start_time": "2021-02-27T21:29:10.488202Z"
    }
   },
   "outputs": [
    {
     "name": "stdout",
     "output_type": "stream",
     "text": [
      "Max number of bedrooms from a house: 33\n"
     ]
    }
   ],
   "source": [
    "### Meigarom# Estrategia:\n",
    "# 1. Filtrar as colunas \"dormitory type\" igual a \"house\"\n",
    "# 2. Encontrar o maior valor da coluna bedrooms\n",
    "b = data[data['dormitory_type'] == 'house']['bedrooms'].max()\n",
    "\n",
    "print( \"Max number of bedrooms from a house: {}\".format( b ) )"
   ]
  },
  {
   "cell_type": "markdown",
   "metadata": {
    "ExecuteTime": {
     "end_time": "2021-02-27T20:15:46.046829Z",
     "start_time": "2021-02-27T20:15:46.020380Z"
    }
   },
   "source": [
    "## 17. Quantos imóveis “new_house” foram reformados no ano de 2014?"
   ]
  },
  {
   "cell_type": "code",
   "execution_count": 105,
   "metadata": {
    "ExecuteTime": {
     "end_time": "2022-09-11T20:55:42.818476Z",
     "start_time": "2022-09-11T20:55:42.802517Z"
    }
   },
   "outputs": [
    {
     "data": {
      "text/plain": [
       "91"
      ]
     },
     "execution_count": 105,
     "metadata": {},
     "output_type": "execute_result"
    }
   ],
   "source": [
    "new_house_renovated = data.loc[((data['house_age'] == 'new_house')& (data['yr_renovated'] == pd.to_datetime('2014-01-01'))), 'id'].count()\n",
    "new_house_renovated"
   ]
  },
  {
   "cell_type": "markdown",
   "metadata": {
    "heading_collapsed": true
   },
   "source": [
    "### Meigarom"
   ]
  },
  {
   "cell_type": "code",
   "execution_count": 54,
   "metadata": {
    "ExecuteTime": {
     "end_time": "2022-09-11T19:58:07.277165Z",
     "start_time": "2022-09-11T19:58:07.254224Z"
    },
    "hidden": true
   },
   "outputs": [
    {
     "name": "stdout",
     "output_type": "stream",
     "text": [
      "Number of reformed house in 2014: 91\n"
     ]
    }
   ],
   "source": [
    "### Meigarom# Estrategia:\n",
    "# 1. Filtrar as colunas \"dormitory_type\" igual a \"apartament\" e \"yr_renovated\" equals to \"2015-01-01\"\n",
    "# 2. Contar o número de linhas\n",
    "houses = data[(data['house_age'] == 'new_house') & \n",
    "              (data['yr_renovated'] == 2014 )].shape[0]\n",
    "\n",
    "print( \"Number of reformed house in 2014: {}\".format( houses ) )"
   ]
  },
  {
   "cell_type": "markdown",
   "metadata": {
    "ExecuteTime": {
     "end_time": "2021-02-27T20:15:46.046829Z",
     "start_time": "2021-02-27T20:15:46.020380Z"
    }
   },
   "source": [
    "## 18. Selecione as colunas: “id”, “date”, “price”, “floors”, “zipcode” pelo método:\n",
    "    -- Direto pelo nome das colunas\n",
    "    -- Pelos índices\n",
    "    -- Pelos índices das linhas e o nome das colunas\n",
    "    -- Índices Booleanos"
   ]
  },
  {
   "cell_type": "code",
   "execution_count": 62,
   "metadata": {
    "ExecuteTime": {
     "end_time": "2022-09-11T20:03:37.109679Z",
     "start_time": "2022-09-11T20:03:37.092717Z"
    },
    "code_folding": []
   },
   "outputs": [
    {
     "data": {
      "text/html": [
       "<div>\n",
       "<style scoped>\n",
       "    .dataframe tbody tr th:only-of-type {\n",
       "        vertical-align: middle;\n",
       "    }\n",
       "\n",
       "    .dataframe tbody tr th {\n",
       "        vertical-align: top;\n",
       "    }\n",
       "\n",
       "    .dataframe thead th {\n",
       "        text-align: right;\n",
       "    }\n",
       "</style>\n",
       "<table border=\"1\" class=\"dataframe\">\n",
       "  <thead>\n",
       "    <tr style=\"text-align: right;\">\n",
       "      <th></th>\n",
       "      <th>id</th>\n",
       "      <th>date</th>\n",
       "      <th>price</th>\n",
       "      <th>floors</th>\n",
       "      <th>zipcode</th>\n",
       "    </tr>\n",
       "  </thead>\n",
       "  <tbody>\n",
       "    <tr>\n",
       "      <th>0</th>\n",
       "      <td>7129300520</td>\n",
       "      <td>2014-10-13</td>\n",
       "      <td>221900.00</td>\n",
       "      <td>1.00</td>\n",
       "      <td>98178</td>\n",
       "    </tr>\n",
       "    <tr>\n",
       "      <th>1</th>\n",
       "      <td>6414100192</td>\n",
       "      <td>2014-12-09</td>\n",
       "      <td>538000.00</td>\n",
       "      <td>2.00</td>\n",
       "      <td>98125</td>\n",
       "    </tr>\n",
       "    <tr>\n",
       "      <th>2</th>\n",
       "      <td>5631500400</td>\n",
       "      <td>2015-02-25</td>\n",
       "      <td>180000.00</td>\n",
       "      <td>1.00</td>\n",
       "      <td>98028</td>\n",
       "    </tr>\n",
       "    <tr>\n",
       "      <th>3</th>\n",
       "      <td>2487200875</td>\n",
       "      <td>2014-12-09</td>\n",
       "      <td>604000.00</td>\n",
       "      <td>1.00</td>\n",
       "      <td>98136</td>\n",
       "    </tr>\n",
       "    <tr>\n",
       "      <th>4</th>\n",
       "      <td>1954400510</td>\n",
       "      <td>2015-02-18</td>\n",
       "      <td>510000.00</td>\n",
       "      <td>1.00</td>\n",
       "      <td>98074</td>\n",
       "    </tr>\n",
       "  </tbody>\n",
       "</table>\n",
       "</div>"
      ],
      "text/plain": [
       "           id       date     price  floors  zipcode\n",
       "0  7129300520 2014-10-13 221900.00    1.00    98178\n",
       "1  6414100192 2014-12-09 538000.00    2.00    98125\n",
       "2  5631500400 2015-02-25 180000.00    1.00    98028\n",
       "3  2487200875 2014-12-09 604000.00    1.00    98136\n",
       "4  1954400510 2015-02-18 510000.00    1.00    98074"
      ]
     },
     "execution_count": 62,
     "metadata": {},
     "output_type": "execute_result"
    }
   ],
   "source": [
    "selecionadas = data.loc[:,['id', 'date', 'price', 'floors', 'zipcode']]\n",
    "selecionadas.head()"
   ]
  },
  {
   "cell_type": "markdown",
   "metadata": {
    "heading_collapsed": true
   },
   "source": [
    "### Meigarom"
   ]
  },
  {
   "cell_type": "code",
   "execution_count": null,
   "metadata": {
    "hidden": true
   },
   "outputs": [],
   "source": []
  },
  {
   "cell_type": "code",
   "execution_count": 41,
   "metadata": {
    "ExecuteTime": {
     "end_time": "2021-02-27T21:35:10.424504Z",
     "start_time": "2021-02-27T21:35:10.420864Z"
    },
    "hidden": true
   },
   "outputs": [
    {
     "data": {
      "text/plain": [
       "Index(['id', 'date', 'price', 'bedrooms', 'bathrooms', 'sqft_living',\n",
       "       'sqft_lot', 'floors', 'waterfront', 'view', 'condition', 'grade',\n",
       "       'sqft_above', 'sqft_basement', 'yr_built', 'yr_renovated', 'zipcode',\n",
       "       'lat', 'long', 'house_age', 'dormitory_type', 'conditional_type'],\n",
       "      dtype='object')"
      ]
     },
     "execution_count": 41,
     "metadata": {},
     "output_type": "execute_result"
    }
   ],
   "source": [
    "data.columns"
   ]
  },
  {
   "cell_type": "code",
   "execution_count": 45,
   "metadata": {
    "ExecuteTime": {
     "end_time": "2021-02-27T21:36:50.269711Z",
     "start_time": "2021-02-27T21:36:50.263832Z"
    },
    "hidden": true
   },
   "outputs": [],
   "source": [
    "### 1. Nome das colunas\n",
    "df1 = data[['id', 'date', 'price', 'floors', 'zipcode']]\n",
    "\n",
    "### 2. Índices\n",
    "df2 = data.iloc[:, [0, 1, 2, 7, 16]]\n",
    "\n",
    "### 3. Índices das linhas e nome das colunas\n",
    "df3 = data.loc[:, ['id', 'date', 'price', 'floors', 'zipcode']] "
   ]
  },
  {
   "cell_type": "markdown",
   "metadata": {
    "ExecuteTime": {
     "end_time": "2021-02-27T20:15:46.046829Z",
     "start_time": "2021-02-27T20:15:46.020380Z"
    }
   },
   "source": [
    "## 19. Salve um arquivo .csv com somente as colunas do item 10 ao 17."
   ]
  },
  {
   "cell_type": "code",
   "execution_count": 64,
   "metadata": {
    "ExecuteTime": {
     "end_time": "2022-09-11T20:04:48.339790Z",
     "start_time": "2022-09-11T20:04:48.300894Z"
    }
   },
   "outputs": [
    {
     "data": {
      "text/html": [
       "<div>\n",
       "<style scoped>\n",
       "    .dataframe tbody tr th:only-of-type {\n",
       "        vertical-align: middle;\n",
       "    }\n",
       "\n",
       "    .dataframe tbody tr th {\n",
       "        vertical-align: top;\n",
       "    }\n",
       "\n",
       "    .dataframe thead th {\n",
       "        text-align: right;\n",
       "    }\n",
       "</style>\n",
       "<table border=\"1\" class=\"dataframe\">\n",
       "  <thead>\n",
       "    <tr style=\"text-align: right;\">\n",
       "      <th></th>\n",
       "      <th>id</th>\n",
       "      <th>date</th>\n",
       "      <th>price</th>\n",
       "      <th>bedrooms</th>\n",
       "      <th>bathrooms</th>\n",
       "      <th>sqft_living</th>\n",
       "      <th>sqft_lot</th>\n",
       "      <th>floors</th>\n",
       "      <th>waterfront</th>\n",
       "      <th>view</th>\n",
       "      <th>condition</th>\n",
       "      <th>grade</th>\n",
       "      <th>sqft_above</th>\n",
       "      <th>sqft_basement</th>\n",
       "      <th>yr_built</th>\n",
       "      <th>yr_renovated</th>\n",
       "      <th>zipcode</th>\n",
       "      <th>lat</th>\n",
       "      <th>long</th>\n",
       "      <th>condition_type</th>\n",
       "      <th>house_age</th>\n",
       "      <th>dormitory_type</th>\n",
       "    </tr>\n",
       "  </thead>\n",
       "  <tbody>\n",
       "    <tr>\n",
       "      <th>10</th>\n",
       "      <td>1736800520</td>\n",
       "      <td>2015-04-03</td>\n",
       "      <td>662500.00</td>\n",
       "      <td>3</td>\n",
       "      <td>2.50</td>\n",
       "      <td>3560</td>\n",
       "      <td>9796</td>\n",
       "      <td>1.00</td>\n",
       "      <td>0</td>\n",
       "      <td>0</td>\n",
       "      <td>3</td>\n",
       "      <td>8</td>\n",
       "      <td>1860</td>\n",
       "      <td>1700</td>\n",
       "      <td>1965</td>\n",
       "      <td>0</td>\n",
       "      <td>98007</td>\n",
       "      <td>47.60</td>\n",
       "      <td>-122.14</td>\n",
       "      <td>regular</td>\n",
       "      <td>new_house</td>\n",
       "      <td>house</td>\n",
       "    </tr>\n",
       "    <tr>\n",
       "      <th>11</th>\n",
       "      <td>9212900260</td>\n",
       "      <td>2014-05-27</td>\n",
       "      <td>468000.00</td>\n",
       "      <td>2</td>\n",
       "      <td>1.00</td>\n",
       "      <td>1160</td>\n",
       "      <td>6000</td>\n",
       "      <td>1.00</td>\n",
       "      <td>0</td>\n",
       "      <td>0</td>\n",
       "      <td>4</td>\n",
       "      <td>7</td>\n",
       "      <td>860</td>\n",
       "      <td>300</td>\n",
       "      <td>1942</td>\n",
       "      <td>0</td>\n",
       "      <td>98115</td>\n",
       "      <td>47.69</td>\n",
       "      <td>-122.29</td>\n",
       "      <td>regular</td>\n",
       "      <td>new_house</td>\n",
       "      <td>apartment</td>\n",
       "    </tr>\n",
       "    <tr>\n",
       "      <th>12</th>\n",
       "      <td>114101516</td>\n",
       "      <td>2014-05-28</td>\n",
       "      <td>310000.00</td>\n",
       "      <td>3</td>\n",
       "      <td>1.00</td>\n",
       "      <td>1430</td>\n",
       "      <td>19901</td>\n",
       "      <td>1.50</td>\n",
       "      <td>0</td>\n",
       "      <td>0</td>\n",
       "      <td>4</td>\n",
       "      <td>7</td>\n",
       "      <td>1430</td>\n",
       "      <td>0</td>\n",
       "      <td>1927</td>\n",
       "      <td>0</td>\n",
       "      <td>98028</td>\n",
       "      <td>47.76</td>\n",
       "      <td>-122.23</td>\n",
       "      <td>regular</td>\n",
       "      <td>new_house</td>\n",
       "      <td>house</td>\n",
       "    </tr>\n",
       "    <tr>\n",
       "      <th>13</th>\n",
       "      <td>6054650070</td>\n",
       "      <td>2014-10-07</td>\n",
       "      <td>400000.00</td>\n",
       "      <td>3</td>\n",
       "      <td>1.75</td>\n",
       "      <td>1370</td>\n",
       "      <td>9680</td>\n",
       "      <td>1.00</td>\n",
       "      <td>0</td>\n",
       "      <td>0</td>\n",
       "      <td>4</td>\n",
       "      <td>7</td>\n",
       "      <td>1370</td>\n",
       "      <td>0</td>\n",
       "      <td>1977</td>\n",
       "      <td>0</td>\n",
       "      <td>98074</td>\n",
       "      <td>47.61</td>\n",
       "      <td>-122.05</td>\n",
       "      <td>regular</td>\n",
       "      <td>new_house</td>\n",
       "      <td>house</td>\n",
       "    </tr>\n",
       "    <tr>\n",
       "      <th>14</th>\n",
       "      <td>1175000570</td>\n",
       "      <td>2015-03-12</td>\n",
       "      <td>530000.00</td>\n",
       "      <td>5</td>\n",
       "      <td>2.00</td>\n",
       "      <td>1810</td>\n",
       "      <td>4850</td>\n",
       "      <td>1.50</td>\n",
       "      <td>0</td>\n",
       "      <td>0</td>\n",
       "      <td>3</td>\n",
       "      <td>7</td>\n",
       "      <td>1810</td>\n",
       "      <td>0</td>\n",
       "      <td>1900</td>\n",
       "      <td>0</td>\n",
       "      <td>98107</td>\n",
       "      <td>47.67</td>\n",
       "      <td>-122.39</td>\n",
       "      <td>regular</td>\n",
       "      <td>new_house</td>\n",
       "      <td>house</td>\n",
       "    </tr>\n",
       "    <tr>\n",
       "      <th>15</th>\n",
       "      <td>9297300055</td>\n",
       "      <td>2015-01-24</td>\n",
       "      <td>650000.00</td>\n",
       "      <td>4</td>\n",
       "      <td>3.00</td>\n",
       "      <td>2950</td>\n",
       "      <td>5000</td>\n",
       "      <td>2.00</td>\n",
       "      <td>0</td>\n",
       "      <td>3</td>\n",
       "      <td>3</td>\n",
       "      <td>9</td>\n",
       "      <td>1980</td>\n",
       "      <td>970</td>\n",
       "      <td>1979</td>\n",
       "      <td>0</td>\n",
       "      <td>98126</td>\n",
       "      <td>47.57</td>\n",
       "      <td>-122.38</td>\n",
       "      <td>regular</td>\n",
       "      <td>new_house</td>\n",
       "      <td>house</td>\n",
       "    </tr>\n",
       "    <tr>\n",
       "      <th>16</th>\n",
       "      <td>1875500060</td>\n",
       "      <td>2014-07-31</td>\n",
       "      <td>395000.00</td>\n",
       "      <td>3</td>\n",
       "      <td>2.00</td>\n",
       "      <td>1890</td>\n",
       "      <td>14040</td>\n",
       "      <td>2.00</td>\n",
       "      <td>0</td>\n",
       "      <td>0</td>\n",
       "      <td>3</td>\n",
       "      <td>7</td>\n",
       "      <td>1890</td>\n",
       "      <td>0</td>\n",
       "      <td>1994</td>\n",
       "      <td>0</td>\n",
       "      <td>98019</td>\n",
       "      <td>47.73</td>\n",
       "      <td>-121.96</td>\n",
       "      <td>regular</td>\n",
       "      <td>new_house</td>\n",
       "      <td>house</td>\n",
       "    </tr>\n",
       "    <tr>\n",
       "      <th>17</th>\n",
       "      <td>6865200140</td>\n",
       "      <td>2014-05-29</td>\n",
       "      <td>485000.00</td>\n",
       "      <td>4</td>\n",
       "      <td>1.00</td>\n",
       "      <td>1600</td>\n",
       "      <td>4300</td>\n",
       "      <td>1.50</td>\n",
       "      <td>0</td>\n",
       "      <td>0</td>\n",
       "      <td>4</td>\n",
       "      <td>7</td>\n",
       "      <td>1600</td>\n",
       "      <td>0</td>\n",
       "      <td>1916</td>\n",
       "      <td>0</td>\n",
       "      <td>98103</td>\n",
       "      <td>47.66</td>\n",
       "      <td>-122.34</td>\n",
       "      <td>regular</td>\n",
       "      <td>new_house</td>\n",
       "      <td>house</td>\n",
       "    </tr>\n",
       "    <tr>\n",
       "      <th>18</th>\n",
       "      <td>16000397</td>\n",
       "      <td>2014-12-05</td>\n",
       "      <td>189000.00</td>\n",
       "      <td>2</td>\n",
       "      <td>1.00</td>\n",
       "      <td>1200</td>\n",
       "      <td>9850</td>\n",
       "      <td>1.00</td>\n",
       "      <td>0</td>\n",
       "      <td>0</td>\n",
       "      <td>4</td>\n",
       "      <td>7</td>\n",
       "      <td>1200</td>\n",
       "      <td>0</td>\n",
       "      <td>1921</td>\n",
       "      <td>0</td>\n",
       "      <td>98002</td>\n",
       "      <td>47.31</td>\n",
       "      <td>-122.21</td>\n",
       "      <td>regular</td>\n",
       "      <td>new_house</td>\n",
       "      <td>apartment</td>\n",
       "    </tr>\n",
       "  </tbody>\n",
       "</table>\n",
       "</div>"
      ],
      "text/plain": [
       "            id       date     price  bedrooms  bathrooms  sqft_living  \\\n",
       "10  1736800520 2015-04-03 662500.00         3       2.50         3560   \n",
       "11  9212900260 2014-05-27 468000.00         2       1.00         1160   \n",
       "12   114101516 2014-05-28 310000.00         3       1.00         1430   \n",
       "13  6054650070 2014-10-07 400000.00         3       1.75         1370   \n",
       "14  1175000570 2015-03-12 530000.00         5       2.00         1810   \n",
       "15  9297300055 2015-01-24 650000.00         4       3.00         2950   \n",
       "16  1875500060 2014-07-31 395000.00         3       2.00         1890   \n",
       "17  6865200140 2014-05-29 485000.00         4       1.00         1600   \n",
       "18    16000397 2014-12-05 189000.00         2       1.00         1200   \n",
       "\n",
       "    sqft_lot  floors  waterfront  view  condition  grade  sqft_above  \\\n",
       "10      9796    1.00           0     0          3      8        1860   \n",
       "11      6000    1.00           0     0          4      7         860   \n",
       "12     19901    1.50           0     0          4      7        1430   \n",
       "13      9680    1.00           0     0          4      7        1370   \n",
       "14      4850    1.50           0     0          3      7        1810   \n",
       "15      5000    2.00           0     3          3      9        1980   \n",
       "16     14040    2.00           0     0          3      7        1890   \n",
       "17      4300    1.50           0     0          4      7        1600   \n",
       "18      9850    1.00           0     0          4      7        1200   \n",
       "\n",
       "    sqft_basement  yr_built  yr_renovated  zipcode   lat    long  \\\n",
       "10           1700      1965             0    98007 47.60 -122.14   \n",
       "11            300      1942             0    98115 47.69 -122.29   \n",
       "12              0      1927             0    98028 47.76 -122.23   \n",
       "13              0      1977             0    98074 47.61 -122.05   \n",
       "14              0      1900             0    98107 47.67 -122.39   \n",
       "15            970      1979             0    98126 47.57 -122.38   \n",
       "16              0      1994             0    98019 47.73 -121.96   \n",
       "17              0      1916             0    98103 47.66 -122.34   \n",
       "18              0      1921             0    98002 47.31 -122.21   \n",
       "\n",
       "   condition_type  house_age dormitory_type  \n",
       "10        regular  new_house          house  \n",
       "11        regular  new_house      apartment  \n",
       "12        regular  new_house          house  \n",
       "13        regular  new_house          house  \n",
       "14        regular  new_house          house  \n",
       "15        regular  new_house          house  \n",
       "16        regular  new_house          house  \n",
       "17        regular  new_house          house  \n",
       "18        regular  new_house      apartment  "
      ]
     },
     "execution_count": 64,
     "metadata": {},
     "output_type": "execute_result"
    }
   ],
   "source": [
    "selecionadas_csv = data.loc[10:18,:]\n",
    "selecionadas_csv"
   ]
  },
  {
   "cell_type": "code",
   "execution_count": 65,
   "metadata": {
    "ExecuteTime": {
     "end_time": "2022-09-11T20:05:38.241814Z",
     "start_time": "2022-09-11T20:05:38.121176Z"
    }
   },
   "outputs": [],
   "source": [
    "selecionadas_csv.to_csv('relatorio2.csv', index=False)"
   ]
  },
  {
   "cell_type": "markdown",
   "metadata": {
    "heading_collapsed": true
   },
   "source": [
    "### Meigarom"
   ]
  },
  {
   "cell_type": "code",
   "execution_count": 47,
   "metadata": {
    "ExecuteTime": {
     "end_time": "2021-02-27T21:37:50.261741Z",
     "start_time": "2021-02-27T21:37:50.259913Z"
    },
    "hidden": true
   },
   "outputs": [],
   "source": [
    "#data[['house_age', 'dormitory_type', 'conditional_type']].to_csv( 'exercicio18.csv' )"
   ]
  }
 ],
 "metadata": {
  "kernelspec": {
   "display_name": "Python 3 (ipykernel)",
   "language": "python",
   "name": "python3"
  },
  "language_info": {
   "codemirror_mode": {
    "name": "ipython",
    "version": 3
   },
   "file_extension": ".py",
   "mimetype": "text/x-python",
   "name": "python",
   "nbconvert_exporter": "python",
   "pygments_lexer": "ipython3",
   "version": "3.9.12"
  }
 },
 "nbformat": 4,
 "nbformat_minor": 4
}
