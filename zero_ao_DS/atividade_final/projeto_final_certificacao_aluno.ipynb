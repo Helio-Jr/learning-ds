{
 "cells": [
  {
   "cell_type": "markdown",
   "id": "2947e631",
   "metadata": {
    "id": "2947e631"
   },
   "source": [
    "# RESOLUÇÃO DO PROJETO DE CERTIFICAÇÃO"
   ]
  },
  {
   "cell_type": "markdown",
   "id": "b9d40a5c",
   "metadata": {
    "heading_collapsed": true,
    "id": "b9d40a5c"
   },
   "source": [
    "## Contexto do Problema"
   ]
  },
  {
   "cell_type": "markdown",
   "id": "ca987b85",
   "metadata": {
    "hidden": true,
    "id": "ca987b85"
   },
   "source": [
    "O investidor James Bauer gostaria de diversificar seus negócios e começar a investir em imóveis. Ele definiu que compraria imóveis na cidade de Nova York, nos Estados Unidos. Por ser um dos locais mais caros para se viver no País, ele acredita que obterá um retorno satisfatório de seus investimentos caso loque imóveis na cidade. Como todas as suas decisões são tomadas com base em dados, ele contratou você, cientista de dados, para ajudá-lo nessa empreitada.\n",
    "\n",
    "James Bauer planeja inicialmente locar os imóveis adquiridos e por isso ele definiu que irá utilizar a plataforma Airbnb para esse fim. Para isso, ele lhe entregou uma base de dados públicos da empresa, contendo os dados do comportamento dos hosts e de seus imóveis.\n",
    "\n",
    "Lembrando que o contexto, pessoas e perguntas são completamente fictícios e existem somente na minha imaginação."
   ]
  },
  {
   "cell_type": "markdown",
   "id": "165cc088",
   "metadata": {
    "heading_collapsed": true,
    "id": "165cc088"
   },
   "source": [
    "## O Desafio"
   ]
  },
  {
   "cell_type": "markdown",
   "id": "670773fa",
   "metadata": {
    "hidden": true,
    "id": "670773fa"
   },
   "source": [
    "James Bauer o contratou para realizar o estudo da base de dados fornecida e ajudá-lo com a escolha das regiões onde há maior locação e maiores preços, e que fiquem em regiões favoráveis da cidade de Nova York, pois ele acredita que essas características irão ajudá-lo a recuperar o dinheiro investido na aquisição desses imóveis mais rapidamente. Além disso, James Bauer pretende \n",
    "\n",
    "Dessa forma, seu trabalho é realizar uma análise exploratória e responder às seguintes perguntas feitas pelo Sr. James Bauer:\n",
    "\n",
    "1. Qual o `id` do imóvel com o aluguel (diária) mais caro da base de dados?\n",
    "2. Qual o `id` do imóvel com o aluguel (diária) mais barato da base de dados?\n",
    "3. Qual o `id` do imóvel que foi mais locado da base de dados?\n",
    "4. Qual o `id` do imóvel que ficou mais tempo com o anúncio disponível, em\n",
    "dias, para locação na base de dados?\n",
    "5. Qual o `id` do imóvel que ficou menos tempo com o anúncio disponível, em\n",
    "dias, para locação na base de dados?\n",
    "6. O imóvel com o maior valor de aluguel (diária) da base de dados é o imóvel\n",
    "que possui mais avaliações na base de dados?\n",
    "7. O imóvel que possui a menor quantidade mínima de diárias para locação é\n",
    "também o imóvel que possui o aluguel mais caro?\n",
    "8. Qual é a média do número mínimo de diárias para locação de um imóvel? \n",
    "9. Qual é o `id` do imóvel com a menor quantidade mínima de diárias para locação da base de dados?\n",
    "10. Qual é o `id` do host que possui o imóvel mais alugado na base de dados?\n",
    "11. Qual é o `id` do host que possui o imóvel menos alugado na base de dados?\n",
    "12. Qual é o `id` do host que possui o imóvel com mais avaliações na base de\n",
    "dados?\n",
    "13. Qual é o `id` do host que possui a maior quantidade de imóveis cadastrados\n",
    "na base de dados?\n",
    "14. Qual o `id` do host que possui o imóvel com a última avaliação feita na base\n",
    "de dados?\n",
    "15. Qual o `id` do host que possui mais imóveis ativos dentro da base de dados?\n",
    "16. O host que possui mais imóveis é o host que também possui mais\n",
    "avaliações?\n",
    "17. Qual é a categoria que mais possui imóveis dentro da base de dados?\n",
    "18. Qual é a categoria que menos possui imóveis dentro da base de dados?\n",
    "19. A região de Manhattan é a região que mais possui imóveis ativos para\n",
    "locação, da categoria `Private room`?\n",
    "20. Qual a categoria de imóvel que possui a maior média de tempo de\n",
    "disponibilidade para serem locados da região do `Bronx`? Considere somente\n",
    "imóveis ativos\n",
    "21. Qual a categoria de imóvel ativo que possui o maior valor de aluguel (diária)\n",
    "na região de `Manhattan`?\n",
    "22. A categoria de imóvel `Private Room` é a categoria que fica mais tempo\n",
    "disponível para locação?\n",
    "23. Qual a categoria de imóvel que fica mais tempo disponível, na média, para\n",
    "locação?\n",
    "24. A categoria de imóvel que fica menos tempo disponível, na média, para\n",
    "locação é a categoria que possui, em média, o menor aluguel (diária)?\n",
    "25. A categoria de imóvel `Entire home/apt` é a categoria que possui, na média, o\n",
    "maior valor de aluguel?\n",
    "26. A categoria de imóvel `Entire home/apt` é a categoria que possui, na média,\n",
    "menos locações?\n",
    "27. A categoria de imóvel `Private Room` na região de `Manhattan`, na média, é\n",
    "a categoria que possui o menor valor (diária) de locação, comparado as\n",
    "outras categorias na mesma região?\n",
    "28. Qual a região que possui a maior quantidade de imóveis?\n",
    "29. Qual a região que possui a menor quantidade de imóveis?\n",
    "30. A região que possui a maior quantidade de imóveis é também a região que\n",
    "possui os imóveis mais locados?\n",
    "31. Qual a região que possui a menor quantidade de imóveis locados dentro da\n",
    "base de dados?\n",
    "32. A região de `Manhattan` é a região que possui, na média, os maiores\n",
    "aluguéis (diárias) dentro da base de dados?\n",
    "33. A região de `Queens` é a região que possui, na média, os menores aluguéis\n",
    "(diárias) dentro da base de dados?\n",
    "34. Qual a região que possui, na média, os imóveis com os menores aluguéis\n",
    "dentro da base de dados?\n",
    "35. Qual a região que possui os imóveis que ficam, na média, menos tempo\n",
    "disponíveis para aluguel? Ou seja, são alugados mais rápidos na média?\n",
    "36. Qual o bairro possui a maior quantidade de imóveis ativos para locação?\n",
    "37. Qual o bairro possui a menor quantidade de imóveis ativos para locação?\n",
    "38. Qual bairro está o imóvel com o maior valor de aluguel?\n",
    "39. Qual bairro está o imóvel com o menor valor de aluguel?\n",
    "40. Qual região que possui o bairro com mais imóveis ativos disponíveis para\n",
    "locação?\n",
    "41. Qual região que possui o bairro com menos imóveis ativos disponíveis para\n",
    "locação?\n",
    "42. O Bairro `Upper West Side`, na região de `Manhattan`, é o bairro que possui,\n",
    "na média, o maior aluguel dentro da base de dados?\n",
    "43. Qual é o bairro que possui, na média, o aluguel mais caro da base de dados?\n",
    "44. Qual o id do imóvel que possui a melhor rentabilidade da base de dados?\n",
    "Levando em consideração o aluguel mais caro e imóvel mais rápido de\n",
    "alugar? Utilize somente os imóveis que estejam ativos e que possuam pelo\n",
    "menos uma avaliação. Utilize a seguinte fórmula para verificar qual o melhor\n",
    "imóvel:\n",
    "\n",
    "$$ 𝑟𝑒𝑛𝑡𝑎𝑏𝑖𝑙𝑖𝑑𝑎𝑑𝑒 = \\frac{𝑝𝑟𝑖𝑐𝑒 * (𝑚𝑖𝑛𝑖𝑚𝑢𝑚\\_𝑛𝑖𝑔ℎ𝑡𝑠 + 1) *  n𝑢𝑚𝑏𝑒𝑟\\_𝑜𝑓\\_𝑟𝑒𝑣𝑖𝑒𝑤𝑠}{ \\sqrt{𝑎𝑣𝑎𝑖𝑙𝑎𝑏𝑖𝑙𝑖𝑡𝑦_365}} $$\n",
    "\n",
    "45. Qual a região em que fica o melhor bairro para se adquirir um imóvel, visando\n",
    "a melhor rentabilidade média? Utilize como métrica o índice criado na\n",
    "questão anterior.\n",
    "46. Qual a região em que fica o pior bairro para se adquirir um imóvel, visando a melhor rentabilidade média? Utilize como métrica o índice criado na questão 44.\n",
    "47. Levando em conta o bairro encontrado na questão anterior, verifique qual é o\n",
    "`id` do imóvel ativo que possui a pior rentabilidade desse bairro\n",
    "48. Levando em conta o bairro da questão 45, verifique qual o `id` do imóvel ativo que possui a melhor rentabilidade desse bairro\n",
    "49. Caso eu, investidor, compre o imóvel da questão anterior com um\n",
    "investimento de U$ 1.000.000,00, quantas vezes eu teria que locá-lo para ter\n",
    "o retorno do investimento feito? Utilize a fórmula abaixo para calcular o tempo\n",
    "de retorno do investimento:\n",
    "\n",
    "$$ 𝑟𝑒𝑡𝑢𝑟𝑛_𝑖𝑛𝑣𝑒𝑠𝑡𝑚𝑒𝑛𝑡 = \\frac{𝑖𝑛𝑣𝑒𝑠𝑡𝑚𝑒𝑛𝑡}{𝑝𝑟𝑖𝑐𝑒 * (𝑚𝑖𝑛𝑖𝑚𝑢𝑚\\_𝑛𝑖𝑔ℎ𝑡𝑠 + 1)} $$\n",
    "\n",
    "50. Se eu desejasse comprar um imóvel que esteja ativo e com pelo menos uma avaliação em um dos bairros abaixo, qual seria o `id` do imóvel com a melhor rentabilidade dentre esses bairros? Utilize o índice calculado na questão 44.\n",
    "  * East Harlem\n",
    "  * Harlem\n",
    "  * Midtown\n",
    "  * Morningside Heights\n",
    "  * Upper West Side\n",
    "  * Upper East Side"
   ]
  },
  {
   "cell_type": "markdown",
   "id": "d0240178",
   "metadata": {
    "heading_collapsed": true,
    "id": "d0240178"
   },
   "source": [
    "## Os Dados"
   ]
  },
  {
   "cell_type": "markdown",
   "id": "31be0f41",
   "metadata": {
    "hidden": true,
    "id": "31be0f41"
   },
   "source": [
    "O conjunto de dados que representam o contexto está disponível na plataforma do Kaggle. O link para acesso aos dados :\n",
    "\n",
    "https://www.kaggle.com/datasets/dgomonov/new-york-city-airbnb-open-data\n"
   ]
  },
  {
   "cell_type": "markdown",
   "id": "a3a41c2a",
   "metadata": {
    "id": "a3a41c2a"
   },
   "source": [
    "## Solução do Desafio"
   ]
  },
  {
   "cell_type": "markdown",
   "id": "26f68b40",
   "metadata": {
    "heading_collapsed": true,
    "id": "26f68b40"
   },
   "source": [
    "### Imports de Bibliotecas"
   ]
  },
  {
   "cell_type": "code",
   "execution_count": 75,
   "id": "89188b73",
   "metadata": {
    "ExecuteTime": {
     "end_time": "2022-04-27T19:05:40.949559Z",
     "start_time": "2022-04-27T19:05:40.946604Z"
    },
    "hidden": true,
    "id": "89188b73"
   },
   "outputs": [],
   "source": [
    "# Inserção de Imagens\n",
    "from IPython.display import Image"
   ]
  },
  {
   "cell_type": "code",
   "execution_count": 76,
   "id": "d9d0e9f9",
   "metadata": {
    "hidden": true,
    "id": "d9d0e9f9"
   },
   "outputs": [],
   "source": [
    "import pandas as pd\n",
    "import numpy as np"
   ]
  },
  {
   "cell_type": "markdown",
   "id": "d75baf0d",
   "metadata": {
    "heading_collapsed": true,
    "id": "d75baf0d"
   },
   "source": [
    "### Leitura do Arquivo"
   ]
  },
  {
   "cell_type": "code",
   "execution_count": 77,
   "id": "40c14a9c",
   "metadata": {
    "hidden": true,
    "id": "40c14a9c"
   },
   "outputs": [
    {
     "data": {
      "text/html": [
       "<div>\n",
       "<style scoped>\n",
       "    .dataframe tbody tr th:only-of-type {\n",
       "        vertical-align: middle;\n",
       "    }\n",
       "\n",
       "    .dataframe tbody tr th {\n",
       "        vertical-align: top;\n",
       "    }\n",
       "\n",
       "    .dataframe thead th {\n",
       "        text-align: right;\n",
       "    }\n",
       "</style>\n",
       "<table border=\"1\" class=\"dataframe\">\n",
       "  <thead>\n",
       "    <tr style=\"text-align: right;\">\n",
       "      <th></th>\n",
       "      <th>id</th>\n",
       "      <th>name</th>\n",
       "      <th>host_id</th>\n",
       "      <th>host_name</th>\n",
       "      <th>neighbourhood_group</th>\n",
       "      <th>neighbourhood</th>\n",
       "      <th>latitude</th>\n",
       "      <th>longitude</th>\n",
       "      <th>room_type</th>\n",
       "      <th>price</th>\n",
       "      <th>minimum_nights</th>\n",
       "      <th>number_of_reviews</th>\n",
       "      <th>last_review</th>\n",
       "      <th>reviews_per_month</th>\n",
       "      <th>calculated_host_listings_count</th>\n",
       "      <th>availability_365</th>\n",
       "    </tr>\n",
       "  </thead>\n",
       "  <tbody>\n",
       "    <tr>\n",
       "      <th>0</th>\n",
       "      <td>2539</td>\n",
       "      <td>Clean &amp; quiet apt home by the park</td>\n",
       "      <td>2787</td>\n",
       "      <td>John</td>\n",
       "      <td>Brooklyn</td>\n",
       "      <td>Kensington</td>\n",
       "      <td>40.64749</td>\n",
       "      <td>-73.97237</td>\n",
       "      <td>Private room</td>\n",
       "      <td>149</td>\n",
       "      <td>1</td>\n",
       "      <td>9</td>\n",
       "      <td>2018-10-19</td>\n",
       "      <td>0.21</td>\n",
       "      <td>6</td>\n",
       "      <td>365</td>\n",
       "    </tr>\n",
       "    <tr>\n",
       "      <th>1</th>\n",
       "      <td>2595</td>\n",
       "      <td>Skylit Midtown Castle</td>\n",
       "      <td>2845</td>\n",
       "      <td>Jennifer</td>\n",
       "      <td>Manhattan</td>\n",
       "      <td>Midtown</td>\n",
       "      <td>40.75362</td>\n",
       "      <td>-73.98377</td>\n",
       "      <td>Entire home/apt</td>\n",
       "      <td>225</td>\n",
       "      <td>1</td>\n",
       "      <td>45</td>\n",
       "      <td>2019-05-21</td>\n",
       "      <td>0.38</td>\n",
       "      <td>2</td>\n",
       "      <td>355</td>\n",
       "    </tr>\n",
       "    <tr>\n",
       "      <th>2</th>\n",
       "      <td>3647</td>\n",
       "      <td>THE VILLAGE OF HARLEM....NEW YORK !</td>\n",
       "      <td>4632</td>\n",
       "      <td>Elisabeth</td>\n",
       "      <td>Manhattan</td>\n",
       "      <td>Harlem</td>\n",
       "      <td>40.80902</td>\n",
       "      <td>-73.94190</td>\n",
       "      <td>Private room</td>\n",
       "      <td>150</td>\n",
       "      <td>3</td>\n",
       "      <td>0</td>\n",
       "      <td>NaN</td>\n",
       "      <td>NaN</td>\n",
       "      <td>1</td>\n",
       "      <td>365</td>\n",
       "    </tr>\n",
       "    <tr>\n",
       "      <th>3</th>\n",
       "      <td>3831</td>\n",
       "      <td>Cozy Entire Floor of Brownstone</td>\n",
       "      <td>4869</td>\n",
       "      <td>LisaRoxanne</td>\n",
       "      <td>Brooklyn</td>\n",
       "      <td>Clinton Hill</td>\n",
       "      <td>40.68514</td>\n",
       "      <td>-73.95976</td>\n",
       "      <td>Entire home/apt</td>\n",
       "      <td>89</td>\n",
       "      <td>1</td>\n",
       "      <td>270</td>\n",
       "      <td>2019-07-05</td>\n",
       "      <td>4.64</td>\n",
       "      <td>1</td>\n",
       "      <td>194</td>\n",
       "    </tr>\n",
       "    <tr>\n",
       "      <th>4</th>\n",
       "      <td>5022</td>\n",
       "      <td>Entire Apt: Spacious Studio/Loft by central park</td>\n",
       "      <td>7192</td>\n",
       "      <td>Laura</td>\n",
       "      <td>Manhattan</td>\n",
       "      <td>East Harlem</td>\n",
       "      <td>40.79851</td>\n",
       "      <td>-73.94399</td>\n",
       "      <td>Entire home/apt</td>\n",
       "      <td>80</td>\n",
       "      <td>10</td>\n",
       "      <td>9</td>\n",
       "      <td>2018-11-19</td>\n",
       "      <td>0.10</td>\n",
       "      <td>1</td>\n",
       "      <td>0</td>\n",
       "    </tr>\n",
       "  </tbody>\n",
       "</table>\n",
       "</div>"
      ],
      "text/plain": [
       "     id                                              name  host_id  \\\n",
       "0  2539                Clean & quiet apt home by the park     2787   \n",
       "1  2595                             Skylit Midtown Castle     2845   \n",
       "2  3647               THE VILLAGE OF HARLEM....NEW YORK !     4632   \n",
       "3  3831                   Cozy Entire Floor of Brownstone     4869   \n",
       "4  5022  Entire Apt: Spacious Studio/Loft by central park     7192   \n",
       "\n",
       "     host_name neighbourhood_group neighbourhood  latitude  longitude  \\\n",
       "0         John            Brooklyn    Kensington  40.64749  -73.97237   \n",
       "1     Jennifer           Manhattan       Midtown  40.75362  -73.98377   \n",
       "2    Elisabeth           Manhattan        Harlem  40.80902  -73.94190   \n",
       "3  LisaRoxanne            Brooklyn  Clinton Hill  40.68514  -73.95976   \n",
       "4        Laura           Manhattan   East Harlem  40.79851  -73.94399   \n",
       "\n",
       "         room_type  price  minimum_nights  number_of_reviews last_review  \\\n",
       "0     Private room    149               1                  9  2018-10-19   \n",
       "1  Entire home/apt    225               1                 45  2019-05-21   \n",
       "2     Private room    150               3                  0         NaN   \n",
       "3  Entire home/apt     89               1                270  2019-07-05   \n",
       "4  Entire home/apt     80              10                  9  2018-11-19   \n",
       "\n",
       "   reviews_per_month  calculated_host_listings_count  availability_365  \n",
       "0               0.21                               6               365  \n",
       "1               0.38                               2               355  \n",
       "2                NaN                               1               365  \n",
       "3               4.64                               1               194  \n",
       "4               0.10                               1                 0  "
      ]
     },
     "execution_count": 77,
     "metadata": {},
     "output_type": "execute_result"
    }
   ],
   "source": [
    "df = pd.read_csv('AB_NYC_2019.csv')\n",
    "df.head()"
   ]
  },
  {
   "cell_type": "markdown",
   "id": "b3aa724b",
   "metadata": {
    "heading_collapsed": true,
    "id": "b3aa724b"
   },
   "source": [
    "### Entendimento dos dados"
   ]
  },
  {
   "cell_type": "code",
   "execution_count": 78,
   "id": "19a57165-3472-42f2-8bb8-bd7a6a14d289",
   "metadata": {},
   "outputs": [
    {
     "data": {
      "text/plain": [
       "id                                  int64\n",
       "name                               object\n",
       "host_id                             int64\n",
       "host_name                          object\n",
       "neighbourhood_group                object\n",
       "neighbourhood                      object\n",
       "latitude                          float64\n",
       "longitude                         float64\n",
       "room_type                          object\n",
       "price                               int64\n",
       "minimum_nights                      int64\n",
       "number_of_reviews                   int64\n",
       "last_review                        object\n",
       "reviews_per_month                 float64\n",
       "calculated_host_listings_count      int64\n",
       "availability_365                    int64\n",
       "dtype: object"
      ]
     },
     "execution_count": 78,
     "metadata": {},
     "output_type": "execute_result"
    }
   ],
   "source": [
    "df.dtypes"
   ]
  },
  {
   "cell_type": "code",
   "execution_count": 79,
   "id": "07bb3021",
   "metadata": {
    "hidden": true,
    "id": "07bb3021"
   },
   "outputs": [
    {
     "data": {
      "text/plain": [
       "(48895, 16)"
      ]
     },
     "execution_count": 79,
     "metadata": {},
     "output_type": "execute_result"
    }
   ],
   "source": [
    "df.shape"
   ]
  },
  {
   "cell_type": "markdown",
   "id": "ec656f3e",
   "metadata": {
    "heading_collapsed": true,
    "id": "ec656f3e"
   },
   "source": [
    "### Tratamento dos Dados Faltantes"
   ]
  },
  {
   "cell_type": "code",
   "execution_count": 91,
   "id": "47ac440f-e1d5-4cb9-9654-2aabd202add7",
   "metadata": {},
   "outputs": [],
   "source": [
    "df['reviews_per_month'] = df['reviews_per_month'].fillna(0)\n",
    "df['last_review'] = df['last_review'].fillna('1900-01-01')\n",
    "df['name'] = df['name'].fillna('Unknown')\n",
    "df['host_name'] = df['host_name'].fillna('Unknown')\n",
    "df['last_review'] = pd.to_datetime(df['last_review'])\n",
    "df['price_by_night'] = df[['price', 'minimum_nights']].apply(lambda x: x['price']/x['minimum_nights'], axis = 1)\n",
    "df['time_available'] = df[['calculated_host_listings_count', 'availability_365']].apply(lambda x: x['calculated_host_listings_count']*x['availability_365'], axis = 1)"
   ]
  },
  {
   "cell_type": "code",
   "execution_count": 92,
   "id": "6fccbdd4-4a98-467a-9080-caba652005aa",
   "metadata": {},
   "outputs": [
    {
     "data": {
      "text/html": [
       "<div>\n",
       "<style scoped>\n",
       "    .dataframe tbody tr th:only-of-type {\n",
       "        vertical-align: middle;\n",
       "    }\n",
       "\n",
       "    .dataframe tbody tr th {\n",
       "        vertical-align: top;\n",
       "    }\n",
       "\n",
       "    .dataframe thead th {\n",
       "        text-align: right;\n",
       "    }\n",
       "</style>\n",
       "<table border=\"1\" class=\"dataframe\">\n",
       "  <thead>\n",
       "    <tr style=\"text-align: right;\">\n",
       "      <th></th>\n",
       "      <th>id</th>\n",
       "      <th>name</th>\n",
       "      <th>host_id</th>\n",
       "      <th>host_name</th>\n",
       "      <th>neighbourhood_group</th>\n",
       "      <th>neighbourhood</th>\n",
       "      <th>latitude</th>\n",
       "      <th>longitude</th>\n",
       "      <th>room_type</th>\n",
       "      <th>price</th>\n",
       "      <th>minimum_nights</th>\n",
       "      <th>number_of_reviews</th>\n",
       "      <th>last_review</th>\n",
       "      <th>reviews_per_month</th>\n",
       "      <th>calculated_host_listings_count</th>\n",
       "      <th>availability_365</th>\n",
       "      <th>price_by_night</th>\n",
       "      <th>time_available</th>\n",
       "    </tr>\n",
       "  </thead>\n",
       "  <tbody>\n",
       "    <tr>\n",
       "      <th>0</th>\n",
       "      <td>2539</td>\n",
       "      <td>Clean &amp; quiet apt home by the park</td>\n",
       "      <td>2787</td>\n",
       "      <td>John</td>\n",
       "      <td>Brooklyn</td>\n",
       "      <td>Kensington</td>\n",
       "      <td>40.64749</td>\n",
       "      <td>-73.97237</td>\n",
       "      <td>Private room</td>\n",
       "      <td>149</td>\n",
       "      <td>1</td>\n",
       "      <td>9</td>\n",
       "      <td>2018-10-19</td>\n",
       "      <td>0.21</td>\n",
       "      <td>6</td>\n",
       "      <td>365</td>\n",
       "      <td>149.0</td>\n",
       "      <td>2190</td>\n",
       "    </tr>\n",
       "    <tr>\n",
       "      <th>1</th>\n",
       "      <td>2595</td>\n",
       "      <td>Skylit Midtown Castle</td>\n",
       "      <td>2845</td>\n",
       "      <td>Jennifer</td>\n",
       "      <td>Manhattan</td>\n",
       "      <td>Midtown</td>\n",
       "      <td>40.75362</td>\n",
       "      <td>-73.98377</td>\n",
       "      <td>Entire home/apt</td>\n",
       "      <td>225</td>\n",
       "      <td>1</td>\n",
       "      <td>45</td>\n",
       "      <td>2019-05-21</td>\n",
       "      <td>0.38</td>\n",
       "      <td>2</td>\n",
       "      <td>355</td>\n",
       "      <td>225.0</td>\n",
       "      <td>710</td>\n",
       "    </tr>\n",
       "    <tr>\n",
       "      <th>2</th>\n",
       "      <td>3647</td>\n",
       "      <td>THE VILLAGE OF HARLEM....NEW YORK !</td>\n",
       "      <td>4632</td>\n",
       "      <td>Elisabeth</td>\n",
       "      <td>Manhattan</td>\n",
       "      <td>Harlem</td>\n",
       "      <td>40.80902</td>\n",
       "      <td>-73.94190</td>\n",
       "      <td>Private room</td>\n",
       "      <td>150</td>\n",
       "      <td>3</td>\n",
       "      <td>0</td>\n",
       "      <td>1900-01-01</td>\n",
       "      <td>0.00</td>\n",
       "      <td>1</td>\n",
       "      <td>365</td>\n",
       "      <td>50.0</td>\n",
       "      <td>365</td>\n",
       "    </tr>\n",
       "    <tr>\n",
       "      <th>3</th>\n",
       "      <td>3831</td>\n",
       "      <td>Cozy Entire Floor of Brownstone</td>\n",
       "      <td>4869</td>\n",
       "      <td>LisaRoxanne</td>\n",
       "      <td>Brooklyn</td>\n",
       "      <td>Clinton Hill</td>\n",
       "      <td>40.68514</td>\n",
       "      <td>-73.95976</td>\n",
       "      <td>Entire home/apt</td>\n",
       "      <td>89</td>\n",
       "      <td>1</td>\n",
       "      <td>270</td>\n",
       "      <td>2019-07-05</td>\n",
       "      <td>4.64</td>\n",
       "      <td>1</td>\n",
       "      <td>194</td>\n",
       "      <td>89.0</td>\n",
       "      <td>194</td>\n",
       "    </tr>\n",
       "    <tr>\n",
       "      <th>4</th>\n",
       "      <td>5022</td>\n",
       "      <td>Entire Apt: Spacious Studio/Loft by central park</td>\n",
       "      <td>7192</td>\n",
       "      <td>Laura</td>\n",
       "      <td>Manhattan</td>\n",
       "      <td>East Harlem</td>\n",
       "      <td>40.79851</td>\n",
       "      <td>-73.94399</td>\n",
       "      <td>Entire home/apt</td>\n",
       "      <td>80</td>\n",
       "      <td>10</td>\n",
       "      <td>9</td>\n",
       "      <td>2018-11-19</td>\n",
       "      <td>0.10</td>\n",
       "      <td>1</td>\n",
       "      <td>0</td>\n",
       "      <td>8.0</td>\n",
       "      <td>0</td>\n",
       "    </tr>\n",
       "  </tbody>\n",
       "</table>\n",
       "</div>"
      ],
      "text/plain": [
       "     id                                              name  host_id  \\\n",
       "0  2539                Clean & quiet apt home by the park     2787   \n",
       "1  2595                             Skylit Midtown Castle     2845   \n",
       "2  3647               THE VILLAGE OF HARLEM....NEW YORK !     4632   \n",
       "3  3831                   Cozy Entire Floor of Brownstone     4869   \n",
       "4  5022  Entire Apt: Spacious Studio/Loft by central park     7192   \n",
       "\n",
       "     host_name neighbourhood_group neighbourhood  latitude  longitude  \\\n",
       "0         John            Brooklyn    Kensington  40.64749  -73.97237   \n",
       "1     Jennifer           Manhattan       Midtown  40.75362  -73.98377   \n",
       "2    Elisabeth           Manhattan        Harlem  40.80902  -73.94190   \n",
       "3  LisaRoxanne            Brooklyn  Clinton Hill  40.68514  -73.95976   \n",
       "4        Laura           Manhattan   East Harlem  40.79851  -73.94399   \n",
       "\n",
       "         room_type  price  minimum_nights  number_of_reviews last_review  \\\n",
       "0     Private room    149               1                  9  2018-10-19   \n",
       "1  Entire home/apt    225               1                 45  2019-05-21   \n",
       "2     Private room    150               3                  0  1900-01-01   \n",
       "3  Entire home/apt     89               1                270  2019-07-05   \n",
       "4  Entire home/apt     80              10                  9  2018-11-19   \n",
       "\n",
       "   reviews_per_month  calculated_host_listings_count  availability_365  \\\n",
       "0               0.21                               6               365   \n",
       "1               0.38                               2               355   \n",
       "2               0.00                               1               365   \n",
       "3               4.64                               1               194   \n",
       "4               0.10                               1                 0   \n",
       "\n",
       "   price_by_night  time_available  \n",
       "0           149.0            2190  \n",
       "1           225.0             710  \n",
       "2            50.0             365  \n",
       "3            89.0             194  \n",
       "4             8.0               0  "
      ]
     },
     "execution_count": 92,
     "metadata": {},
     "output_type": "execute_result"
    }
   ],
   "source": [
    "df.head()"
   ]
  },
  {
   "cell_type": "markdown",
   "id": "457887b6",
   "metadata": {
    "heading_collapsed": true,
    "id": "457887b6"
   },
   "source": [
    "### Levantamento de Hipóteses"
   ]
  },
  {
   "cell_type": "markdown",
   "id": "6b894e90",
   "metadata": {
    "hidden": true,
    "id": "6b894e90"
   },
   "source": [
    "Uma hipótese geralmente é um comportamento conhecido ou não conhecido do negócio que checamos a sua validade com os dados. É através do levantamento de hipóteses que conseguimos gerar insights valiosos para os outros times. Lembrando que um insight é uma informação acionável e que ou gera surpresa por ser desconhecida, ou quebra algum paradigma com relação ao comportamento de negócios.\n",
    "\n",
    "Existem algumas técnicas de levantamento de hipóteses. A mais simples delas, que será a que utilizaremos nesse desafio, é nos colocarmos no lugar do \"dono da empresa\" e nos perguntar situações que temos como certas ou que temos como dúvida. Por exemplo:\n",
    "\n",
    "**Hipótese 1:** A região com maior média de preço é Manhattan.\n",
    "\n",
    "**Hipótese 2:** Em média, alugueis de uma casa completa são no mínimo 3x mais caros que alugueis de apenas um quarto.\n",
    "\n",
    "**Hipótese 3:** Imóveis com mais de um dia mínimo são mais avaliados.\n",
    "\n",
    "**Hipótese 4:** \n",
    "\n",
    "**Hipótese 5:**\n",
    "\n",
    "Crie 5 hipóteses para te ajudar a explorar melhor a nossa base de dados:"
   ]
  },
  {
   "cell_type": "markdown",
   "id": "39e245b5",
   "metadata": {
    "ExecuteTime": {
     "end_time": "2022-04-27T12:50:51.849307Z",
     "start_time": "2022-04-27T12:50:51.836035Z"
    },
    "hidden": true,
    "id": "39e245b5"
   },
   "source": [
    "**Regiões de Nova York**"
   ]
  },
  {
   "cell_type": "code",
   "execution_count": 93,
   "id": "ec3de246",
   "metadata": {
    "ExecuteTime": {
     "end_time": "2022-04-27T18:41:22.689744Z",
     "start_time": "2022-04-27T18:41:22.684735Z"
    },
    "hidden": true,
    "hide_input": true,
    "id": "ec3de246",
    "outputId": "6159ab86-87b0-44e5-eb71-d0711503c19e"
   },
   "outputs": [
    {
     "data": {
      "image/png": "[encoded data removed]",
      "text/plain": [
       "<IPython.core.display.Image object>"
      ]
     },
     "execution_count": 93,
     "metadata": {},
     "output_type": "execute_result"
    }
   ],
   "source": [
    "Image('regions_nyc1.png')"
   ]
  },
  {
   "cell_type": "markdown",
   "id": "c5a23d49",
   "metadata": {
    "id": "c5a23d49"
   },
   "source": [
    "### Exploração dos Dados"
   ]
  },
  {
   "cell_type": "markdown",
   "id": "2da8b03d",
   "metadata": {
    "heading_collapsed": true,
    "id": "2da8b03d"
   },
   "source": [
    "#### Testando as Hipóteses"
   ]
  },
  {
   "cell_type": "markdown",
   "id": "ae35076e",
   "metadata": {
    "heading_collapsed": true,
    "hidden": true,
    "id": "ae35076e"
   },
   "source": [
    "##### Hipótese 1: A região com maior média de preço é Manhattan."
   ]
  },
  {
   "cell_type": "code",
   "execution_count": 94,
   "id": "de529808",
   "metadata": {
    "hidden": true,
    "id": "de529808"
   },
   "outputs": [
    {
     "data": {
      "text/html": [
       "<div>\n",
       "<style scoped>\n",
       "    .dataframe tbody tr th:only-of-type {\n",
       "        vertical-align: middle;\n",
       "    }\n",
       "\n",
       "    .dataframe tbody tr th {\n",
       "        vertical-align: top;\n",
       "    }\n",
       "\n",
       "    .dataframe thead th {\n",
       "        text-align: right;\n",
       "    }\n",
       "</style>\n",
       "<table border=\"1\" class=\"dataframe\">\n",
       "  <thead>\n",
       "    <tr style=\"text-align: right;\">\n",
       "      <th></th>\n",
       "      <th>neighbourhood_group</th>\n",
       "      <th>price</th>\n",
       "    </tr>\n",
       "  </thead>\n",
       "  <tbody>\n",
       "    <tr>\n",
       "      <th>0</th>\n",
       "      <td>Manhattan</td>\n",
       "      <td>196.875814</td>\n",
       "    </tr>\n",
       "    <tr>\n",
       "      <th>1</th>\n",
       "      <td>Brooklyn</td>\n",
       "      <td>124.383207</td>\n",
       "    </tr>\n",
       "    <tr>\n",
       "      <th>2</th>\n",
       "      <td>Staten Island</td>\n",
       "      <td>114.812332</td>\n",
       "    </tr>\n",
       "    <tr>\n",
       "      <th>3</th>\n",
       "      <td>Queens</td>\n",
       "      <td>99.517649</td>\n",
       "    </tr>\n",
       "    <tr>\n",
       "      <th>4</th>\n",
       "      <td>Bronx</td>\n",
       "      <td>87.496792</td>\n",
       "    </tr>\n",
       "  </tbody>\n",
       "</table>\n",
       "</div>"
      ],
      "text/plain": [
       "  neighbourhood_group       price\n",
       "0           Manhattan  196.875814\n",
       "1            Brooklyn  124.383207\n",
       "2       Staten Island  114.812332\n",
       "3              Queens   99.517649\n",
       "4               Bronx   87.496792"
      ]
     },
     "execution_count": 94,
     "metadata": {},
     "output_type": "execute_result"
    }
   ],
   "source": [
    "df_agrouped = df[['neighbourhood_group', 'price']].groupby('neighbourhood_group').mean().sort_values('price', ascending = False).reset_index()\n",
    "df_agrouped"
   ]
  },
  {
   "cell_type": "markdown",
   "id": "9334e56d-0ee6-434a-8d46-5c731c49fd56",
   "metadata": {
    "hidden": true,
    "id": "b45446e9"
   },
   "source": [
    "Hipótese confirmada.\n"
   ]
  },
  {
   "cell_type": "markdown",
   "id": "8906e9b3",
   "metadata": {
    "heading_collapsed": true,
    "hidden": true,
    "id": "8906e9b3"
   },
   "source": [
    "##### Hipótese 2: Em média, alugueis de uma casa completa são no mínimo 3x mais caros que alugueis de apenas um quarto privado."
   ]
  },
  {
   "cell_type": "code",
   "execution_count": 95,
   "id": "9d7d859e",
   "metadata": {
    "hidden": true,
    "id": "9d7d859e"
   },
   "outputs": [
    {
     "data": {
      "text/html": [
       "<div>\n",
       "<style scoped>\n",
       "    .dataframe tbody tr th:only-of-type {\n",
       "        vertical-align: middle;\n",
       "    }\n",
       "\n",
       "    .dataframe tbody tr th {\n",
       "        vertical-align: top;\n",
       "    }\n",
       "\n",
       "    .dataframe thead th {\n",
       "        text-align: right;\n",
       "    }\n",
       "</style>\n",
       "<table border=\"1\" class=\"dataframe\">\n",
       "  <thead>\n",
       "    <tr style=\"text-align: right;\">\n",
       "      <th></th>\n",
       "      <th>room_type</th>\n",
       "      <th>price</th>\n",
       "    </tr>\n",
       "  </thead>\n",
       "  <tbody>\n",
       "    <tr>\n",
       "      <th>0</th>\n",
       "      <td>Entire home/apt</td>\n",
       "      <td>211.794246</td>\n",
       "    </tr>\n",
       "    <tr>\n",
       "      <th>1</th>\n",
       "      <td>Private room</td>\n",
       "      <td>89.780973</td>\n",
       "    </tr>\n",
       "    <tr>\n",
       "      <th>2</th>\n",
       "      <td>Shared room</td>\n",
       "      <td>70.127586</td>\n",
       "    </tr>\n",
       "  </tbody>\n",
       "</table>\n",
       "</div>"
      ],
      "text/plain": [
       "         room_type       price\n",
       "0  Entire home/apt  211.794246\n",
       "1     Private room   89.780973\n",
       "2      Shared room   70.127586"
      ]
     },
     "execution_count": 95,
     "metadata": {},
     "output_type": "execute_result"
    }
   ],
   "source": [
    "df_agrouped = df[['room_type', 'price']].groupby('room_type').mean().sort_values('price', ascending = False).reset_index()\n",
    "df_agrouped"
   ]
  },
  {
   "cell_type": "markdown",
   "id": "8202d690-72ac-48d0-bcb7-11c9d93d7707",
   "metadata": {
    "hidden": true,
    "id": "c48b2029"
   },
   "source": [
    "Hipótese inválida. Entretanto, pode-se notar que o aluguel de quartos privados são em médias menos que a metade do preço de um imóvel completo."
   ]
  },
  {
   "cell_type": "markdown",
   "id": "6a910dee",
   "metadata": {
    "heading_collapsed": true,
    "hidden": true,
    "id": "6a910dee"
   },
   "source": [
    "##### Hipótese 3: Imóveis com mais de um dia mínimo são mais avaliados."
   ]
  },
  {
   "cell_type": "code",
   "execution_count": 96,
   "id": "bc9d6950",
   "metadata": {
    "hidden": true,
    "id": "bc9d6950"
   },
   "outputs": [
    {
     "data": {
      "text/html": [
       "<div>\n",
       "<style scoped>\n",
       "    .dataframe tbody tr th:only-of-type {\n",
       "        vertical-align: middle;\n",
       "    }\n",
       "\n",
       "    .dataframe tbody tr th {\n",
       "        vertical-align: top;\n",
       "    }\n",
       "\n",
       "    .dataframe thead th {\n",
       "        text-align: right;\n",
       "    }\n",
       "</style>\n",
       "<table border=\"1\" class=\"dataframe\">\n",
       "  <thead>\n",
       "    <tr style=\"text-align: right;\">\n",
       "      <th></th>\n",
       "      <th>minimum_nights</th>\n",
       "      <th>number_of_reviews</th>\n",
       "    </tr>\n",
       "  </thead>\n",
       "  <tbody>\n",
       "    <tr>\n",
       "      <th>0</th>\n",
       "      <td>1250</td>\n",
       "      <td>2.000000</td>\n",
       "    </tr>\n",
       "    <tr>\n",
       "      <th>1</th>\n",
       "      <td>1000</td>\n",
       "      <td>0.000000</td>\n",
       "    </tr>\n",
       "    <tr>\n",
       "      <th>2</th>\n",
       "      <td>999</td>\n",
       "      <td>8.666667</td>\n",
       "    </tr>\n",
       "    <tr>\n",
       "      <th>3</th>\n",
       "      <td>500</td>\n",
       "      <td>8.000000</td>\n",
       "    </tr>\n",
       "    <tr>\n",
       "      <th>4</th>\n",
       "      <td>480</td>\n",
       "      <td>0.000000</td>\n",
       "    </tr>\n",
       "    <tr>\n",
       "      <th>...</th>\n",
       "      <td>...</td>\n",
       "      <td>...</td>\n",
       "    </tr>\n",
       "    <tr>\n",
       "      <th>104</th>\n",
       "      <td>5</td>\n",
       "      <td>16.246539</td>\n",
       "    </tr>\n",
       "    <tr>\n",
       "      <th>105</th>\n",
       "      <td>4</td>\n",
       "      <td>21.674841</td>\n",
       "    </tr>\n",
       "    <tr>\n",
       "      <th>106</th>\n",
       "      <td>3</td>\n",
       "      <td>25.974747</td>\n",
       "    </tr>\n",
       "    <tr>\n",
       "      <th>107</th>\n",
       "      <td>2</td>\n",
       "      <td>29.884319</td>\n",
       "    </tr>\n",
       "    <tr>\n",
       "      <th>108</th>\n",
       "      <td>1</td>\n",
       "      <td>29.141824</td>\n",
       "    </tr>\n",
       "  </tbody>\n",
       "</table>\n",
       "<p>109 rows × 2 columns</p>\n",
       "</div>"
      ],
      "text/plain": [
       "     minimum_nights  number_of_reviews\n",
       "0              1250           2.000000\n",
       "1              1000           0.000000\n",
       "2               999           8.666667\n",
       "3               500           8.000000\n",
       "4               480           0.000000\n",
       "..              ...                ...\n",
       "104               5          16.246539\n",
       "105               4          21.674841\n",
       "106               3          25.974747\n",
       "107               2          29.884319\n",
       "108               1          29.141824\n",
       "\n",
       "[109 rows x 2 columns]"
      ]
     },
     "execution_count": 96,
     "metadata": {},
     "output_type": "execute_result"
    }
   ],
   "source": [
    "df_agrouped = df[['minimum_nights', 'number_of_reviews']].groupby('minimum_nights').mean().sort_values('minimum_nights', ascending = False).reset_index()\n",
    "df_agrouped"
   ]
  },
  {
   "cell_type": "markdown",
   "id": "28adc720",
   "metadata": {
    "heading_collapsed": true,
    "hidden": true,
    "id": "28adc720"
   },
   "source": [
    "##### Hipótese 4: "
   ]
  },
  {
   "cell_type": "code",
   "execution_count": null,
   "id": "24191a93",
   "metadata": {
    "hidden": true,
    "id": "24191a93"
   },
   "outputs": [],
   "source": []
  },
  {
   "cell_type": "markdown",
   "id": "1d0e3007",
   "metadata": {
    "heading_collapsed": true,
    "hidden": true,
    "id": "1d0e3007"
   },
   "source": [
    "##### Hipótese 5: "
   ]
  },
  {
   "cell_type": "code",
   "execution_count": null,
   "id": "849442ac",
   "metadata": {
    "hidden": true,
    "id": "849442ac"
   },
   "outputs": [],
   "source": []
  },
  {
   "cell_type": "markdown",
   "id": "c10ee88a",
   "metadata": {
    "id": "c10ee88a"
   },
   "source": [
    "#### Respondendo as Perguntas do Investidor"
   ]
  },
  {
   "cell_type": "markdown",
   "id": "9e8c1898",
   "metadata": {
    "heading_collapsed": true,
    "id": "9e8c1898"
   },
   "source": [
    "##### 1. Qual o `id` do imóvel com o aluguel (diária) mais caro da base de dados?"
   ]
  },
  {
   "cell_type": "code",
   "execution_count": 97,
   "id": "997412b7",
   "metadata": {
    "hidden": true,
    "id": "997412b7"
   },
   "outputs": [
    {
     "data": {
      "text/html": [
       "<div>\n",
       "<style scoped>\n",
       "    .dataframe tbody tr th:only-of-type {\n",
       "        vertical-align: middle;\n",
       "    }\n",
       "\n",
       "    .dataframe tbody tr th {\n",
       "        vertical-align: top;\n",
       "    }\n",
       "\n",
       "    .dataframe thead th {\n",
       "        text-align: right;\n",
       "    }\n",
       "</style>\n",
       "<table border=\"1\" class=\"dataframe\">\n",
       "  <thead>\n",
       "    <tr style=\"text-align: right;\">\n",
       "      <th></th>\n",
       "      <th>id</th>\n",
       "      <th>name</th>\n",
       "      <th>host_id</th>\n",
       "      <th>host_name</th>\n",
       "      <th>neighbourhood_group</th>\n",
       "      <th>neighbourhood</th>\n",
       "      <th>latitude</th>\n",
       "      <th>longitude</th>\n",
       "      <th>room_type</th>\n",
       "      <th>price</th>\n",
       "      <th>minimum_nights</th>\n",
       "      <th>number_of_reviews</th>\n",
       "      <th>last_review</th>\n",
       "      <th>reviews_per_month</th>\n",
       "      <th>calculated_host_listings_count</th>\n",
       "      <th>availability_365</th>\n",
       "      <th>price_by_night</th>\n",
       "      <th>time_available</th>\n",
       "    </tr>\n",
       "  </thead>\n",
       "  <tbody>\n",
       "    <tr>\n",
       "      <th>4377</th>\n",
       "      <td>2953058</td>\n",
       "      <td>Film Location</td>\n",
       "      <td>1177497</td>\n",
       "      <td>Jessica</td>\n",
       "      <td>Brooklyn</td>\n",
       "      <td>Clinton Hill</td>\n",
       "      <td>40.69137</td>\n",
       "      <td>-73.96723</td>\n",
       "      <td>Entire home/apt</td>\n",
       "      <td>8000</td>\n",
       "      <td>1</td>\n",
       "      <td>1</td>\n",
       "      <td>2016-09-15</td>\n",
       "      <td>0.03</td>\n",
       "      <td>11</td>\n",
       "      <td>365</td>\n",
       "      <td>8000.0</td>\n",
       "      <td>4015</td>\n",
       "    </tr>\n",
       "  </tbody>\n",
       "</table>\n",
       "</div>"
      ],
      "text/plain": [
       "           id           name  host_id host_name neighbourhood_group  \\\n",
       "4377  2953058  Film Location  1177497   Jessica            Brooklyn   \n",
       "\n",
       "     neighbourhood  latitude  longitude        room_type  price  \\\n",
       "4377  Clinton Hill  40.69137  -73.96723  Entire home/apt   8000   \n",
       "\n",
       "      minimum_nights  number_of_reviews last_review  reviews_per_month  \\\n",
       "4377               1                  1  2016-09-15               0.03   \n",
       "\n",
       "      calculated_host_listings_count  availability_365  price_by_night  \\\n",
       "4377                              11               365          8000.0   \n",
       "\n",
       "      time_available  \n",
       "4377            4015  "
      ]
     },
     "execution_count": 97,
     "metadata": {},
     "output_type": "execute_result"
    }
   ],
   "source": [
    "preco_max = df[df['price_by_night'] == np.max(df['price_by_night'])]\n",
    "preco_max"
   ]
  },
  {
   "cell_type": "markdown",
   "id": "9ebd9552",
   "metadata": {
    "heading_collapsed": true,
    "id": "9ebd9552"
   },
   "source": [
    "##### 2. Qual o `id` do imóvel com o aluguel (diária) mais barato da base de dados?"
   ]
  },
  {
   "cell_type": "code",
   "execution_count": 98,
   "id": "079f9c1e",
   "metadata": {
    "hidden": true,
    "id": "079f9c1e"
   },
   "outputs": [
    {
     "data": {
      "text/html": [
       "<div>\n",
       "<style scoped>\n",
       "    .dataframe tbody tr th:only-of-type {\n",
       "        vertical-align: middle;\n",
       "    }\n",
       "\n",
       "    .dataframe tbody tr th {\n",
       "        vertical-align: top;\n",
       "    }\n",
       "\n",
       "    .dataframe thead th {\n",
       "        text-align: right;\n",
       "    }\n",
       "</style>\n",
       "<table border=\"1\" class=\"dataframe\">\n",
       "  <thead>\n",
       "    <tr style=\"text-align: right;\">\n",
       "      <th></th>\n",
       "      <th>id</th>\n",
       "      <th>name</th>\n",
       "      <th>host_id</th>\n",
       "      <th>host_name</th>\n",
       "      <th>neighbourhood_group</th>\n",
       "      <th>neighbourhood</th>\n",
       "      <th>latitude</th>\n",
       "      <th>longitude</th>\n",
       "      <th>room_type</th>\n",
       "      <th>price</th>\n",
       "      <th>minimum_nights</th>\n",
       "      <th>number_of_reviews</th>\n",
       "      <th>last_review</th>\n",
       "      <th>reviews_per_month</th>\n",
       "      <th>calculated_host_listings_count</th>\n",
       "      <th>availability_365</th>\n",
       "      <th>price_by_night</th>\n",
       "      <th>time_available</th>\n",
       "    </tr>\n",
       "  </thead>\n",
       "  <tbody>\n",
       "    <tr>\n",
       "      <th>23161</th>\n",
       "      <td>18750597</td>\n",
       "      <td>Huge Brooklyn Brownstone Living, Close to it all.</td>\n",
       "      <td>8993084</td>\n",
       "      <td>Kimberly</td>\n",
       "      <td>Brooklyn</td>\n",
       "      <td>Bedford-Stuyvesant</td>\n",
       "      <td>40.69023</td>\n",
       "      <td>-73.95428</td>\n",
       "      <td>Private room</td>\n",
       "      <td>0</td>\n",
       "      <td>4</td>\n",
       "      <td>1</td>\n",
       "      <td>2018-01-06</td>\n",
       "      <td>0.05</td>\n",
       "      <td>4</td>\n",
       "      <td>28</td>\n",
       "      <td>0.0</td>\n",
       "      <td>112</td>\n",
       "    </tr>\n",
       "    <tr>\n",
       "      <th>25433</th>\n",
       "      <td>20333471</td>\n",
       "      <td>★Hostel Style Room | Ideal Traveling Buddies★</td>\n",
       "      <td>131697576</td>\n",
       "      <td>Anisha</td>\n",
       "      <td>Bronx</td>\n",
       "      <td>East Morrisania</td>\n",
       "      <td>40.83296</td>\n",
       "      <td>-73.88668</td>\n",
       "      <td>Private room</td>\n",
       "      <td>0</td>\n",
       "      <td>2</td>\n",
       "      <td>55</td>\n",
       "      <td>2019-06-24</td>\n",
       "      <td>2.56</td>\n",
       "      <td>4</td>\n",
       "      <td>127</td>\n",
       "      <td>0.0</td>\n",
       "      <td>508</td>\n",
       "    </tr>\n",
       "    <tr>\n",
       "      <th>25634</th>\n",
       "      <td>20523843</td>\n",
       "      <td>MARTIAL LOFT 3: REDEMPTION (upstairs, 2nd room)</td>\n",
       "      <td>15787004</td>\n",
       "      <td>Martial Loft</td>\n",
       "      <td>Brooklyn</td>\n",
       "      <td>Bushwick</td>\n",
       "      <td>40.69467</td>\n",
       "      <td>-73.92433</td>\n",
       "      <td>Private room</td>\n",
       "      <td>0</td>\n",
       "      <td>2</td>\n",
       "      <td>16</td>\n",
       "      <td>2019-05-18</td>\n",
       "      <td>0.71</td>\n",
       "      <td>5</td>\n",
       "      <td>0</td>\n",
       "      <td>0.0</td>\n",
       "      <td>0</td>\n",
       "    </tr>\n",
       "    <tr>\n",
       "      <th>25753</th>\n",
       "      <td>20608117</td>\n",
       "      <td>Sunny, Quiet Room in Greenpoint</td>\n",
       "      <td>1641537</td>\n",
       "      <td>Lauren</td>\n",
       "      <td>Brooklyn</td>\n",
       "      <td>Greenpoint</td>\n",
       "      <td>40.72462</td>\n",
       "      <td>-73.94072</td>\n",
       "      <td>Private room</td>\n",
       "      <td>0</td>\n",
       "      <td>2</td>\n",
       "      <td>12</td>\n",
       "      <td>2017-10-27</td>\n",
       "      <td>0.53</td>\n",
       "      <td>2</td>\n",
       "      <td>0</td>\n",
       "      <td>0.0</td>\n",
       "      <td>0</td>\n",
       "    </tr>\n",
       "    <tr>\n",
       "      <th>25778</th>\n",
       "      <td>20624541</td>\n",
       "      <td>Modern apartment in the heart of Williamsburg</td>\n",
       "      <td>10132166</td>\n",
       "      <td>Aymeric</td>\n",
       "      <td>Brooklyn</td>\n",
       "      <td>Williamsburg</td>\n",
       "      <td>40.70838</td>\n",
       "      <td>-73.94645</td>\n",
       "      <td>Entire home/apt</td>\n",
       "      <td>0</td>\n",
       "      <td>5</td>\n",
       "      <td>3</td>\n",
       "      <td>2018-01-02</td>\n",
       "      <td>0.15</td>\n",
       "      <td>1</td>\n",
       "      <td>73</td>\n",
       "      <td>0.0</td>\n",
       "      <td>73</td>\n",
       "    </tr>\n",
       "    <tr>\n",
       "      <th>25794</th>\n",
       "      <td>20639628</td>\n",
       "      <td>Spacious comfortable master bedroom with nice ...</td>\n",
       "      <td>86327101</td>\n",
       "      <td>Adeyemi</td>\n",
       "      <td>Brooklyn</td>\n",
       "      <td>Bedford-Stuyvesant</td>\n",
       "      <td>40.68173</td>\n",
       "      <td>-73.91342</td>\n",
       "      <td>Private room</td>\n",
       "      <td>0</td>\n",
       "      <td>1</td>\n",
       "      <td>93</td>\n",
       "      <td>2019-06-15</td>\n",
       "      <td>4.28</td>\n",
       "      <td>6</td>\n",
       "      <td>176</td>\n",
       "      <td>0.0</td>\n",
       "      <td>1056</td>\n",
       "    </tr>\n",
       "    <tr>\n",
       "      <th>25795</th>\n",
       "      <td>20639792</td>\n",
       "      <td>Contemporary bedroom in brownstone with nice view</td>\n",
       "      <td>86327101</td>\n",
       "      <td>Adeyemi</td>\n",
       "      <td>Brooklyn</td>\n",
       "      <td>Bedford-Stuyvesant</td>\n",
       "      <td>40.68279</td>\n",
       "      <td>-73.91170</td>\n",
       "      <td>Private room</td>\n",
       "      <td>0</td>\n",
       "      <td>1</td>\n",
       "      <td>95</td>\n",
       "      <td>2019-06-21</td>\n",
       "      <td>4.37</td>\n",
       "      <td>6</td>\n",
       "      <td>232</td>\n",
       "      <td>0.0</td>\n",
       "      <td>1392</td>\n",
       "    </tr>\n",
       "    <tr>\n",
       "      <th>25796</th>\n",
       "      <td>20639914</td>\n",
       "      <td>Cozy yet spacious private brownstone bedroom</td>\n",
       "      <td>86327101</td>\n",
       "      <td>Adeyemi</td>\n",
       "      <td>Brooklyn</td>\n",
       "      <td>Bedford-Stuyvesant</td>\n",
       "      <td>40.68258</td>\n",
       "      <td>-73.91284</td>\n",
       "      <td>Private room</td>\n",
       "      <td>0</td>\n",
       "      <td>1</td>\n",
       "      <td>95</td>\n",
       "      <td>2019-06-23</td>\n",
       "      <td>4.35</td>\n",
       "      <td>6</td>\n",
       "      <td>222</td>\n",
       "      <td>0.0</td>\n",
       "      <td>1332</td>\n",
       "    </tr>\n",
       "    <tr>\n",
       "      <th>26259</th>\n",
       "      <td>20933849</td>\n",
       "      <td>the best you can find</td>\n",
       "      <td>13709292</td>\n",
       "      <td>Qiuchi</td>\n",
       "      <td>Manhattan</td>\n",
       "      <td>Murray Hill</td>\n",
       "      <td>40.75091</td>\n",
       "      <td>-73.97597</td>\n",
       "      <td>Entire home/apt</td>\n",
       "      <td>0</td>\n",
       "      <td>3</td>\n",
       "      <td>0</td>\n",
       "      <td>1900-01-01</td>\n",
       "      <td>0.00</td>\n",
       "      <td>1</td>\n",
       "      <td>0</td>\n",
       "      <td>0.0</td>\n",
       "      <td>0</td>\n",
       "    </tr>\n",
       "    <tr>\n",
       "      <th>26841</th>\n",
       "      <td>21291569</td>\n",
       "      <td>Coliving in Brooklyn! Modern design / Shared room</td>\n",
       "      <td>101970559</td>\n",
       "      <td>Sergii</td>\n",
       "      <td>Brooklyn</td>\n",
       "      <td>Bushwick</td>\n",
       "      <td>40.69211</td>\n",
       "      <td>-73.90670</td>\n",
       "      <td>Shared room</td>\n",
       "      <td>0</td>\n",
       "      <td>30</td>\n",
       "      <td>2</td>\n",
       "      <td>2019-06-22</td>\n",
       "      <td>0.11</td>\n",
       "      <td>6</td>\n",
       "      <td>333</td>\n",
       "      <td>0.0</td>\n",
       "      <td>1998</td>\n",
       "    </tr>\n",
       "    <tr>\n",
       "      <th>26866</th>\n",
       "      <td>21304320</td>\n",
       "      <td>Best Coliving space ever! Shared room.</td>\n",
       "      <td>101970559</td>\n",
       "      <td>Sergii</td>\n",
       "      <td>Brooklyn</td>\n",
       "      <td>Bushwick</td>\n",
       "      <td>40.69166</td>\n",
       "      <td>-73.90928</td>\n",
       "      <td>Shared room</td>\n",
       "      <td>0</td>\n",
       "      <td>30</td>\n",
       "      <td>5</td>\n",
       "      <td>2019-05-24</td>\n",
       "      <td>0.26</td>\n",
       "      <td>6</td>\n",
       "      <td>139</td>\n",
       "      <td>0.0</td>\n",
       "      <td>834</td>\n",
       "    </tr>\n",
       "  </tbody>\n",
       "</table>\n",
       "</div>"
      ],
      "text/plain": [
       "             id                                               name    host_id  \\\n",
       "23161  18750597  Huge Brooklyn Brownstone Living, Close to it all.    8993084   \n",
       "25433  20333471      ★Hostel Style Room | Ideal Traveling Buddies★  131697576   \n",
       "25634  20523843    MARTIAL LOFT 3: REDEMPTION (upstairs, 2nd room)   15787004   \n",
       "25753  20608117                    Sunny, Quiet Room in Greenpoint    1641537   \n",
       "25778  20624541      Modern apartment in the heart of Williamsburg   10132166   \n",
       "25794  20639628  Spacious comfortable master bedroom with nice ...   86327101   \n",
       "25795  20639792  Contemporary bedroom in brownstone with nice view   86327101   \n",
       "25796  20639914       Cozy yet spacious private brownstone bedroom   86327101   \n",
       "26259  20933849                              the best you can find   13709292   \n",
       "26841  21291569  Coliving in Brooklyn! Modern design / Shared room  101970559   \n",
       "26866  21304320             Best Coliving space ever! Shared room.  101970559   \n",
       "\n",
       "          host_name neighbourhood_group       neighbourhood  latitude  \\\n",
       "23161      Kimberly            Brooklyn  Bedford-Stuyvesant  40.69023   \n",
       "25433        Anisha               Bronx     East Morrisania  40.83296   \n",
       "25634  Martial Loft            Brooklyn            Bushwick  40.69467   \n",
       "25753        Lauren            Brooklyn          Greenpoint  40.72462   \n",
       "25778       Aymeric            Brooklyn        Williamsburg  40.70838   \n",
       "25794       Adeyemi            Brooklyn  Bedford-Stuyvesant  40.68173   \n",
       "25795       Adeyemi            Brooklyn  Bedford-Stuyvesant  40.68279   \n",
       "25796       Adeyemi            Brooklyn  Bedford-Stuyvesant  40.68258   \n",
       "26259        Qiuchi           Manhattan         Murray Hill  40.75091   \n",
       "26841        Sergii            Brooklyn            Bushwick  40.69211   \n",
       "26866        Sergii            Brooklyn            Bushwick  40.69166   \n",
       "\n",
       "       longitude        room_type  price  minimum_nights  number_of_reviews  \\\n",
       "23161  -73.95428     Private room      0               4                  1   \n",
       "25433  -73.88668     Private room      0               2                 55   \n",
       "25634  -73.92433     Private room      0               2                 16   \n",
       "25753  -73.94072     Private room      0               2                 12   \n",
       "25778  -73.94645  Entire home/apt      0               5                  3   \n",
       "25794  -73.91342     Private room      0               1                 93   \n",
       "25795  -73.91170     Private room      0               1                 95   \n",
       "25796  -73.91284     Private room      0               1                 95   \n",
       "26259  -73.97597  Entire home/apt      0               3                  0   \n",
       "26841  -73.90670      Shared room      0              30                  2   \n",
       "26866  -73.90928      Shared room      0              30                  5   \n",
       "\n",
       "      last_review  reviews_per_month  calculated_host_listings_count  \\\n",
       "23161  2018-01-06               0.05                               4   \n",
       "25433  2019-06-24               2.56                               4   \n",
       "25634  2019-05-18               0.71                               5   \n",
       "25753  2017-10-27               0.53                               2   \n",
       "25778  2018-01-02               0.15                               1   \n",
       "25794  2019-06-15               4.28                               6   \n",
       "25795  2019-06-21               4.37                               6   \n",
       "25796  2019-06-23               4.35                               6   \n",
       "26259  1900-01-01               0.00                               1   \n",
       "26841  2019-06-22               0.11                               6   \n",
       "26866  2019-05-24               0.26                               6   \n",
       "\n",
       "       availability_365  price_by_night  time_available  \n",
       "23161                28             0.0             112  \n",
       "25433               127             0.0             508  \n",
       "25634                 0             0.0               0  \n",
       "25753                 0             0.0               0  \n",
       "25778                73             0.0              73  \n",
       "25794               176             0.0            1056  \n",
       "25795               232             0.0            1392  \n",
       "25796               222             0.0            1332  \n",
       "26259                 0             0.0               0  \n",
       "26841               333             0.0            1998  \n",
       "26866               139             0.0             834  "
      ]
     },
     "execution_count": 98,
     "metadata": {},
     "output_type": "execute_result"
    }
   ],
   "source": [
    "preco_min = df[df['price_by_night'] == np.min(df['price_by_night'])]\n",
    "preco_min"
   ]
  },
  {
   "cell_type": "markdown",
   "id": "41f0586c",
   "metadata": {
    "heading_collapsed": true,
    "id": "41f0586c"
   },
   "source": [
    "##### 3. Qual o `id`  do imóvel que foi mais locado da base de dados?"
   ]
  },
  {
   "cell_type": "code",
   "execution_count": 99,
   "id": "17d83fec",
   "metadata": {
    "hidden": true,
    "id": "17d83fec"
   },
   "outputs": [
    {
     "data": {
      "text/html": [
       "<div>\n",
       "<style scoped>\n",
       "    .dataframe tbody tr th:only-of-type {\n",
       "        vertical-align: middle;\n",
       "    }\n",
       "\n",
       "    .dataframe tbody tr th {\n",
       "        vertical-align: top;\n",
       "    }\n",
       "\n",
       "    .dataframe thead th {\n",
       "        text-align: right;\n",
       "    }\n",
       "</style>\n",
       "<table border=\"1\" class=\"dataframe\">\n",
       "  <thead>\n",
       "    <tr style=\"text-align: right;\">\n",
       "      <th></th>\n",
       "      <th>id</th>\n",
       "      <th>name</th>\n",
       "      <th>host_id</th>\n",
       "      <th>host_name</th>\n",
       "      <th>neighbourhood_group</th>\n",
       "      <th>neighbourhood</th>\n",
       "      <th>latitude</th>\n",
       "      <th>longitude</th>\n",
       "      <th>room_type</th>\n",
       "      <th>price</th>\n",
       "      <th>minimum_nights</th>\n",
       "      <th>number_of_reviews</th>\n",
       "      <th>last_review</th>\n",
       "      <th>reviews_per_month</th>\n",
       "      <th>calculated_host_listings_count</th>\n",
       "      <th>availability_365</th>\n",
       "      <th>price_by_night</th>\n",
       "      <th>time_available</th>\n",
       "    </tr>\n",
       "  </thead>\n",
       "  <tbody>\n",
       "    <tr>\n",
       "      <th>11759</th>\n",
       "      <td>9145202</td>\n",
       "      <td>Room near JFK Queen Bed</td>\n",
       "      <td>47621202</td>\n",
       "      <td>Dona</td>\n",
       "      <td>Queens</td>\n",
       "      <td>Jamaica</td>\n",
       "      <td>40.6673</td>\n",
       "      <td>-73.76831</td>\n",
       "      <td>Private room</td>\n",
       "      <td>47</td>\n",
       "      <td>1</td>\n",
       "      <td>629</td>\n",
       "      <td>2019-07-05</td>\n",
       "      <td>14.58</td>\n",
       "      <td>2</td>\n",
       "      <td>333</td>\n",
       "      <td>47.0</td>\n",
       "      <td>666</td>\n",
       "    </tr>\n",
       "  </tbody>\n",
       "</table>\n",
       "</div>"
      ],
      "text/plain": [
       "            id                     name   host_id host_name  \\\n",
       "11759  9145202  Room near JFK Queen Bed  47621202      Dona   \n",
       "\n",
       "      neighbourhood_group neighbourhood  latitude  longitude     room_type  \\\n",
       "11759              Queens       Jamaica   40.6673  -73.76831  Private room   \n",
       "\n",
       "       price  minimum_nights  number_of_reviews last_review  \\\n",
       "11759     47               1                629  2019-07-05   \n",
       "\n",
       "       reviews_per_month  calculated_host_listings_count  availability_365  \\\n",
       "11759              14.58                               2               333   \n",
       "\n",
       "       price_by_night  time_available  \n",
       "11759            47.0             666  "
      ]
     },
     "execution_count": 99,
     "metadata": {},
     "output_type": "execute_result"
    }
   ],
   "source": [
    "max_reviews = df[df['number_of_reviews'] == np.max(df['number_of_reviews'])]\n",
    "max_reviews"
   ]
  },
  {
   "cell_type": "markdown",
   "id": "48d40ea0",
   "metadata": {
    "heading_collapsed": true,
    "id": "48d40ea0"
   },
   "source": [
    "##### 4. Qual o `id`  do imóvel que ficou mais tempo com o anúncio disponível, em dias, para locação na base de dados?"
   ]
  },
  {
   "cell_type": "code",
   "execution_count": 100,
   "id": "5adec473",
   "metadata": {
    "hidden": true,
    "id": "5adec473"
   },
   "outputs": [
    {
     "data": {
      "text/html": [
       "<div>\n",
       "<style scoped>\n",
       "    .dataframe tbody tr th:only-of-type {\n",
       "        vertical-align: middle;\n",
       "    }\n",
       "\n",
       "    .dataframe tbody tr th {\n",
       "        vertical-align: top;\n",
       "    }\n",
       "\n",
       "    .dataframe thead th {\n",
       "        text-align: right;\n",
       "    }\n",
       "</style>\n",
       "<table border=\"1\" class=\"dataframe\">\n",
       "  <thead>\n",
       "    <tr style=\"text-align: right;\">\n",
       "      <th></th>\n",
       "      <th>id</th>\n",
       "      <th>name</th>\n",
       "      <th>host_id</th>\n",
       "      <th>host_name</th>\n",
       "      <th>neighbourhood_group</th>\n",
       "      <th>neighbourhood</th>\n",
       "      <th>latitude</th>\n",
       "      <th>longitude</th>\n",
       "      <th>room_type</th>\n",
       "      <th>price</th>\n",
       "      <th>minimum_nights</th>\n",
       "      <th>number_of_reviews</th>\n",
       "      <th>last_review</th>\n",
       "      <th>reviews_per_month</th>\n",
       "      <th>calculated_host_listings_count</th>\n",
       "      <th>availability_365</th>\n",
       "      <th>price_by_night</th>\n",
       "      <th>time_available</th>\n",
       "    </tr>\n",
       "  </thead>\n",
       "  <tbody>\n",
       "    <tr>\n",
       "      <th>41747</th>\n",
       "      <td>32466179</td>\n",
       "      <td>Sonder | The Nash |  Classic 1BR + Fitness Center</td>\n",
       "      <td>219517861</td>\n",
       "      <td>Sonder (NYC)</td>\n",
       "      <td>Manhattan</td>\n",
       "      <td>Murray Hill</td>\n",
       "      <td>40.74898</td>\n",
       "      <td>-73.97534</td>\n",
       "      <td>Entire home/apt</td>\n",
       "      <td>202</td>\n",
       "      <td>29</td>\n",
       "      <td>0</td>\n",
       "      <td>1900-01-01</td>\n",
       "      <td>0.0</td>\n",
       "      <td>327</td>\n",
       "      <td>365</td>\n",
       "      <td>6.965517</td>\n",
       "      <td>119355</td>\n",
       "    </tr>\n",
       "    <tr>\n",
       "      <th>43233</th>\n",
       "      <td>33528090</td>\n",
       "      <td>Sonder | 21 Chelsea | Vibrant 1BR + Rooftop</td>\n",
       "      <td>219517861</td>\n",
       "      <td>Sonder (NYC)</td>\n",
       "      <td>Manhattan</td>\n",
       "      <td>Chelsea</td>\n",
       "      <td>40.74250</td>\n",
       "      <td>-73.99443</td>\n",
       "      <td>Entire home/apt</td>\n",
       "      <td>260</td>\n",
       "      <td>29</td>\n",
       "      <td>0</td>\n",
       "      <td>1900-01-01</td>\n",
       "      <td>0.0</td>\n",
       "      <td>327</td>\n",
       "      <td>365</td>\n",
       "      <td>8.965517</td>\n",
       "      <td>119355</td>\n",
       "    </tr>\n",
       "    <tr>\n",
       "      <th>43522</th>\n",
       "      <td>33708600</td>\n",
       "      <td>Sonder | The Biltmore | Chic 1BR + City View</td>\n",
       "      <td>219517861</td>\n",
       "      <td>Sonder (NYC)</td>\n",
       "      <td>Manhattan</td>\n",
       "      <td>Theater District</td>\n",
       "      <td>40.76008</td>\n",
       "      <td>-73.98721</td>\n",
       "      <td>Entire home/apt</td>\n",
       "      <td>227</td>\n",
       "      <td>29</td>\n",
       "      <td>0</td>\n",
       "      <td>1900-01-01</td>\n",
       "      <td>0.0</td>\n",
       "      <td>327</td>\n",
       "      <td>365</td>\n",
       "      <td>7.827586</td>\n",
       "      <td>119355</td>\n",
       "    </tr>\n",
       "    <tr>\n",
       "      <th>44326</th>\n",
       "      <td>34177117</td>\n",
       "      <td>Sonder | The Biltmore | 1BR</td>\n",
       "      <td>219517861</td>\n",
       "      <td>Sonder (NYC)</td>\n",
       "      <td>Manhattan</td>\n",
       "      <td>Theater District</td>\n",
       "      <td>40.76118</td>\n",
       "      <td>-73.98635</td>\n",
       "      <td>Entire home/apt</td>\n",
       "      <td>699</td>\n",
       "      <td>29</td>\n",
       "      <td>0</td>\n",
       "      <td>1900-01-01</td>\n",
       "      <td>0.0</td>\n",
       "      <td>327</td>\n",
       "      <td>365</td>\n",
       "      <td>24.103448</td>\n",
       "      <td>119355</td>\n",
       "    </tr>\n",
       "    <tr>\n",
       "      <th>44373</th>\n",
       "      <td>34202946</td>\n",
       "      <td>Sonder | 21 Chelsea | Stunning 1BR + Rooftop</td>\n",
       "      <td>219517861</td>\n",
       "      <td>Sonder (NYC)</td>\n",
       "      <td>Manhattan</td>\n",
       "      <td>Chelsea</td>\n",
       "      <td>40.74285</td>\n",
       "      <td>-73.99595</td>\n",
       "      <td>Entire home/apt</td>\n",
       "      <td>277</td>\n",
       "      <td>29</td>\n",
       "      <td>0</td>\n",
       "      <td>1900-01-01</td>\n",
       "      <td>0.0</td>\n",
       "      <td>327</td>\n",
       "      <td>365</td>\n",
       "      <td>9.551724</td>\n",
       "      <td>119355</td>\n",
       "    </tr>\n",
       "    <tr>\n",
       "      <th>44424</th>\n",
       "      <td>34213482</td>\n",
       "      <td>Sonder | The Nash | Relaxed 1BR + Fitness Center</td>\n",
       "      <td>219517861</td>\n",
       "      <td>Sonder (NYC)</td>\n",
       "      <td>Manhattan</td>\n",
       "      <td>Murray Hill</td>\n",
       "      <td>40.74883</td>\n",
       "      <td>-73.97520</td>\n",
       "      <td>Entire home/apt</td>\n",
       "      <td>200</td>\n",
       "      <td>29</td>\n",
       "      <td>0</td>\n",
       "      <td>1900-01-01</td>\n",
       "      <td>0.0</td>\n",
       "      <td>327</td>\n",
       "      <td>365</td>\n",
       "      <td>6.896552</td>\n",
       "      <td>119355</td>\n",
       "    </tr>\n",
       "    <tr>\n",
       "      <th>44615</th>\n",
       "      <td>34323565</td>\n",
       "      <td>Sonder | 21 Chelsea | Vibrant Studio + Rooftop</td>\n",
       "      <td>219517861</td>\n",
       "      <td>Sonder (NYC)</td>\n",
       "      <td>Manhattan</td>\n",
       "      <td>Chelsea</td>\n",
       "      <td>40.74229</td>\n",
       "      <td>-73.99590</td>\n",
       "      <td>Entire home/apt</td>\n",
       "      <td>209</td>\n",
       "      <td>29</td>\n",
       "      <td>0</td>\n",
       "      <td>1900-01-01</td>\n",
       "      <td>0.0</td>\n",
       "      <td>327</td>\n",
       "      <td>365</td>\n",
       "      <td>7.206897</td>\n",
       "      <td>119355</td>\n",
       "    </tr>\n",
       "    <tr>\n",
       "      <th>45167</th>\n",
       "      <td>34570839</td>\n",
       "      <td>Sonder | 21 Chelsea | Quaint 1BR + Rooftop</td>\n",
       "      <td>219517861</td>\n",
       "      <td>Sonder (NYC)</td>\n",
       "      <td>Manhattan</td>\n",
       "      <td>Chelsea</td>\n",
       "      <td>40.74305</td>\n",
       "      <td>-73.99415</td>\n",
       "      <td>Entire home/apt</td>\n",
       "      <td>254</td>\n",
       "      <td>29</td>\n",
       "      <td>0</td>\n",
       "      <td>1900-01-01</td>\n",
       "      <td>0.0</td>\n",
       "      <td>327</td>\n",
       "      <td>365</td>\n",
       "      <td>8.758621</td>\n",
       "      <td>119355</td>\n",
       "    </tr>\n",
       "    <tr>\n",
       "      <th>45955</th>\n",
       "      <td>35005829</td>\n",
       "      <td>Sonder | The Nash | Vibrant 1BR + Grilling Area</td>\n",
       "      <td>219517861</td>\n",
       "      <td>Sonder (NYC)</td>\n",
       "      <td>Manhattan</td>\n",
       "      <td>Murray Hill</td>\n",
       "      <td>40.74725</td>\n",
       "      <td>-73.97607</td>\n",
       "      <td>Entire home/apt</td>\n",
       "      <td>202</td>\n",
       "      <td>29</td>\n",
       "      <td>0</td>\n",
       "      <td>1900-01-01</td>\n",
       "      <td>0.0</td>\n",
       "      <td>327</td>\n",
       "      <td>365</td>\n",
       "      <td>6.965517</td>\n",
       "      <td>119355</td>\n",
       "    </tr>\n",
       "    <tr>\n",
       "      <th>45956</th>\n",
       "      <td>35005862</td>\n",
       "      <td>Sonder | 21 Chelsea | Classic 1BR + Rooftop</td>\n",
       "      <td>219517861</td>\n",
       "      <td>Sonder (NYC)</td>\n",
       "      <td>Manhattan</td>\n",
       "      <td>Chelsea</td>\n",
       "      <td>40.74288</td>\n",
       "      <td>-73.99438</td>\n",
       "      <td>Entire home/apt</td>\n",
       "      <td>275</td>\n",
       "      <td>29</td>\n",
       "      <td>0</td>\n",
       "      <td>1900-01-01</td>\n",
       "      <td>0.0</td>\n",
       "      <td>327</td>\n",
       "      <td>365</td>\n",
       "      <td>9.482759</td>\n",
       "      <td>119355</td>\n",
       "    </tr>\n",
       "  </tbody>\n",
       "</table>\n",
       "</div>"
      ],
      "text/plain": [
       "             id                                               name    host_id  \\\n",
       "41747  32466179  Sonder | The Nash |  Classic 1BR + Fitness Center  219517861   \n",
       "43233  33528090        Sonder | 21 Chelsea | Vibrant 1BR + Rooftop  219517861   \n",
       "43522  33708600       Sonder | The Biltmore | Chic 1BR + City View  219517861   \n",
       "44326  34177117                        Sonder | The Biltmore | 1BR  219517861   \n",
       "44373  34202946       Sonder | 21 Chelsea | Stunning 1BR + Rooftop  219517861   \n",
       "44424  34213482   Sonder | The Nash | Relaxed 1BR + Fitness Center  219517861   \n",
       "44615  34323565     Sonder | 21 Chelsea | Vibrant Studio + Rooftop  219517861   \n",
       "45167  34570839         Sonder | 21 Chelsea | Quaint 1BR + Rooftop  219517861   \n",
       "45955  35005829    Sonder | The Nash | Vibrant 1BR + Grilling Area  219517861   \n",
       "45956  35005862        Sonder | 21 Chelsea | Classic 1BR + Rooftop  219517861   \n",
       "\n",
       "          host_name neighbourhood_group     neighbourhood  latitude  \\\n",
       "41747  Sonder (NYC)           Manhattan       Murray Hill  40.74898   \n",
       "43233  Sonder (NYC)           Manhattan           Chelsea  40.74250   \n",
       "43522  Sonder (NYC)           Manhattan  Theater District  40.76008   \n",
       "44326  Sonder (NYC)           Manhattan  Theater District  40.76118   \n",
       "44373  Sonder (NYC)           Manhattan           Chelsea  40.74285   \n",
       "44424  Sonder (NYC)           Manhattan       Murray Hill  40.74883   \n",
       "44615  Sonder (NYC)           Manhattan           Chelsea  40.74229   \n",
       "45167  Sonder (NYC)           Manhattan           Chelsea  40.74305   \n",
       "45955  Sonder (NYC)           Manhattan       Murray Hill  40.74725   \n",
       "45956  Sonder (NYC)           Manhattan           Chelsea  40.74288   \n",
       "\n",
       "       longitude        room_type  price  minimum_nights  number_of_reviews  \\\n",
       "41747  -73.97534  Entire home/apt    202              29                  0   \n",
       "43233  -73.99443  Entire home/apt    260              29                  0   \n",
       "43522  -73.98721  Entire home/apt    227              29                  0   \n",
       "44326  -73.98635  Entire home/apt    699              29                  0   \n",
       "44373  -73.99595  Entire home/apt    277              29                  0   \n",
       "44424  -73.97520  Entire home/apt    200              29                  0   \n",
       "44615  -73.99590  Entire home/apt    209              29                  0   \n",
       "45167  -73.99415  Entire home/apt    254              29                  0   \n",
       "45955  -73.97607  Entire home/apt    202              29                  0   \n",
       "45956  -73.99438  Entire home/apt    275              29                  0   \n",
       "\n",
       "      last_review  reviews_per_month  calculated_host_listings_count  \\\n",
       "41747  1900-01-01                0.0                             327   \n",
       "43233  1900-01-01                0.0                             327   \n",
       "43522  1900-01-01                0.0                             327   \n",
       "44326  1900-01-01                0.0                             327   \n",
       "44373  1900-01-01                0.0                             327   \n",
       "44424  1900-01-01                0.0                             327   \n",
       "44615  1900-01-01                0.0                             327   \n",
       "45167  1900-01-01                0.0                             327   \n",
       "45955  1900-01-01                0.0                             327   \n",
       "45956  1900-01-01                0.0                             327   \n",
       "\n",
       "       availability_365  price_by_night  time_available  \n",
       "41747               365        6.965517          119355  \n",
       "43233               365        8.965517          119355  \n",
       "43522               365        7.827586          119355  \n",
       "44326               365       24.103448          119355  \n",
       "44373               365        9.551724          119355  \n",
       "44424               365        6.896552          119355  \n",
       "44615               365        7.206897          119355  \n",
       "45167               365        8.758621          119355  \n",
       "45955               365        6.965517          119355  \n",
       "45956               365        9.482759          119355  "
      ]
     },
     "execution_count": 100,
     "metadata": {},
     "output_type": "execute_result"
    }
   ],
   "source": [
    "max_time = df[df['time_available'] == np.max(df['time_available'])]\n",
    "max_time"
   ]
  },
  {
   "cell_type": "code",
   "execution_count": null,
   "id": "1f4da28e",
   "metadata": {
    "hidden": true,
    "id": "1f4da28e"
   },
   "outputs": [],
   "source": []
  },
  {
   "cell_type": "code",
   "execution_count": null,
   "id": "a7ac802e",
   "metadata": {
    "hidden": true,
    "id": "a7ac802e"
   },
   "outputs": [],
   "source": []
  },
  {
   "cell_type": "markdown",
   "id": "42053201",
   "metadata": {
    "heading_collapsed": true,
    "id": "42053201"
   },
   "source": [
    "##### 5. Qual o `id` do imóvel que ficou menos tempo com o anúncio disponível, em dias, para locação na base de dados?"
   ]
  },
  {
   "cell_type": "code",
   "execution_count": null,
   "id": "c9d07f73",
   "metadata": {
    "hidden": true,
    "id": "c9d07f73"
   },
   "outputs": [],
   "source": []
  },
  {
   "cell_type": "code",
   "execution_count": null,
   "id": "fd9df34e",
   "metadata": {
    "hidden": true,
    "id": "fd9df34e"
   },
   "outputs": [],
   "source": []
  },
  {
   "cell_type": "code",
   "execution_count": null,
   "id": "b004fac9",
   "metadata": {
    "hidden": true,
    "id": "b004fac9"
   },
   "outputs": [],
   "source": []
  },
  {
   "cell_type": "markdown",
   "id": "8fe1e6c1",
   "metadata": {
    "heading_collapsed": true,
    "id": "8fe1e6c1"
   },
   "source": [
    "##### 6. O imóvel com o maior valor de aluguel (diária) da base de dados é o imóvel que possui mais avaliações na base de dados?"
   ]
  },
  {
   "cell_type": "code",
   "execution_count": null,
   "id": "5406672d",
   "metadata": {
    "hidden": true,
    "id": "5406672d"
   },
   "outputs": [],
   "source": []
  },
  {
   "cell_type": "code",
   "execution_count": null,
   "id": "4a5ee8ef",
   "metadata": {
    "hidden": true,
    "id": "4a5ee8ef"
   },
   "outputs": [],
   "source": []
  },
  {
   "cell_type": "code",
   "execution_count": null,
   "id": "e0b9a40c",
   "metadata": {
    "hidden": true,
    "id": "e0b9a40c"
   },
   "outputs": [],
   "source": []
  },
  {
   "cell_type": "markdown",
   "id": "9147e329",
   "metadata": {
    "heading_collapsed": true,
    "id": "9147e329"
   },
   "source": [
    "##### 7. O imóvel que possui a menor quantidade mínima de diárias para locação é também o imóvel que possuí o aluguel mais caro?"
   ]
  },
  {
   "cell_type": "code",
   "execution_count": null,
   "id": "557caf1f",
   "metadata": {
    "hidden": true,
    "id": "557caf1f"
   },
   "outputs": [],
   "source": []
  },
  {
   "cell_type": "code",
   "execution_count": null,
   "id": "c66900f8",
   "metadata": {
    "hidden": true,
    "id": "c66900f8"
   },
   "outputs": [],
   "source": []
  },
  {
   "cell_type": "code",
   "execution_count": null,
   "id": "f4f17763",
   "metadata": {
    "hidden": true,
    "id": "f4f17763"
   },
   "outputs": [],
   "source": []
  },
  {
   "cell_type": "markdown",
   "id": "5b61000c",
   "metadata": {
    "heading_collapsed": true,
    "id": "5b61000c"
   },
   "source": [
    "##### 8. Qual é a média do número mínimo de diárias para locação de um imóvel? "
   ]
  },
  {
   "cell_type": "code",
   "execution_count": null,
   "id": "18bb68f4",
   "metadata": {
    "hidden": true,
    "id": "18bb68f4"
   },
   "outputs": [],
   "source": []
  },
  {
   "cell_type": "code",
   "execution_count": null,
   "id": "c3efcccc",
   "metadata": {
    "hidden": true,
    "id": "c3efcccc"
   },
   "outputs": [],
   "source": []
  },
  {
   "cell_type": "code",
   "execution_count": null,
   "id": "1607ce25",
   "metadata": {
    "hidden": true,
    "id": "1607ce25"
   },
   "outputs": [],
   "source": []
  },
  {
   "cell_type": "markdown",
   "id": "7bf14986",
   "metadata": {
    "heading_collapsed": true,
    "id": "7bf14986"
   },
   "source": [
    "##### 9. Qual é o `id` do imóvel com a menor quantidade mínima de diárias para locação da base de dados?"
   ]
  },
  {
   "cell_type": "code",
   "execution_count": null,
   "id": "de5756af",
   "metadata": {
    "hidden": true,
    "id": "de5756af"
   },
   "outputs": [],
   "source": []
  },
  {
   "cell_type": "code",
   "execution_count": null,
   "id": "3e9291ff",
   "metadata": {
    "hidden": true,
    "id": "3e9291ff"
   },
   "outputs": [],
   "source": []
  },
  {
   "cell_type": "code",
   "execution_count": null,
   "id": "c3dc912d",
   "metadata": {
    "hidden": true,
    "id": "c3dc912d"
   },
   "outputs": [],
   "source": []
  },
  {
   "cell_type": "markdown",
   "id": "cecba7a6",
   "metadata": {
    "heading_collapsed": true,
    "id": "cecba7a6"
   },
   "source": [
    "##### 10. Qual é o `id` do host que possui o imóvel mais alugado na base de dados?"
   ]
  },
  {
   "cell_type": "code",
   "execution_count": null,
   "id": "36ff4870",
   "metadata": {
    "hidden": true,
    "id": "36ff4870"
   },
   "outputs": [],
   "source": []
  },
  {
   "cell_type": "code",
   "execution_count": null,
   "id": "6765a27a",
   "metadata": {
    "hidden": true,
    "id": "6765a27a"
   },
   "outputs": [],
   "source": []
  },
  {
   "cell_type": "code",
   "execution_count": null,
   "id": "f7328eed",
   "metadata": {
    "hidden": true,
    "id": "f7328eed"
   },
   "outputs": [],
   "source": []
  },
  {
   "cell_type": "markdown",
   "id": "5fc653c0",
   "metadata": {
    "heading_collapsed": true,
    "id": "5fc653c0"
   },
   "source": [
    "##### 11. Qual é o `id` do host que possui o imóvel menos alugado na base de dados?"
   ]
  },
  {
   "cell_type": "code",
   "execution_count": null,
   "id": "a7ddf7de",
   "metadata": {
    "hidden": true,
    "id": "a7ddf7de"
   },
   "outputs": [],
   "source": []
  },
  {
   "cell_type": "code",
   "execution_count": null,
   "id": "e563249b",
   "metadata": {
    "hidden": true,
    "id": "e563249b"
   },
   "outputs": [],
   "source": []
  },
  {
   "cell_type": "code",
   "execution_count": null,
   "id": "1d87f050",
   "metadata": {
    "hidden": true,
    "id": "1d87f050"
   },
   "outputs": [],
   "source": []
  },
  {
   "cell_type": "markdown",
   "id": "4d4cadff",
   "metadata": {
    "heading_collapsed": true,
    "id": "4d4cadff"
   },
   "source": [
    "##### 12. Qual é o `id` do host que possui o imóvel com mais avaliações na base de dados?"
   ]
  },
  {
   "cell_type": "code",
   "execution_count": null,
   "id": "486848f7",
   "metadata": {
    "hidden": true,
    "id": "486848f7"
   },
   "outputs": [],
   "source": []
  },
  {
   "cell_type": "code",
   "execution_count": null,
   "id": "0aa3b03b",
   "metadata": {
    "hidden": true,
    "id": "0aa3b03b"
   },
   "outputs": [],
   "source": []
  },
  {
   "cell_type": "code",
   "execution_count": null,
   "id": "cea2c76a",
   "metadata": {
    "hidden": true,
    "id": "cea2c76a"
   },
   "outputs": [],
   "source": []
  },
  {
   "cell_type": "markdown",
   "id": "abe48688",
   "metadata": {
    "heading_collapsed": true,
    "id": "abe48688"
   },
   "source": [
    "##### 13. Qual é o `id` do host que possui a maior quantidade de imóveis cadastrados na base de dados?"
   ]
  },
  {
   "cell_type": "code",
   "execution_count": null,
   "id": "f9ac7151",
   "metadata": {
    "hidden": true,
    "id": "f9ac7151"
   },
   "outputs": [],
   "source": []
  },
  {
   "cell_type": "code",
   "execution_count": null,
   "id": "2bd4a498",
   "metadata": {
    "hidden": true,
    "id": "2bd4a498"
   },
   "outputs": [],
   "source": []
  },
  {
   "cell_type": "code",
   "execution_count": null,
   "id": "7fe59a59",
   "metadata": {
    "hidden": true,
    "id": "7fe59a59"
   },
   "outputs": [],
   "source": []
  },
  {
   "cell_type": "markdown",
   "id": "e3ba9d63",
   "metadata": {
    "heading_collapsed": true,
    "id": "e3ba9d63"
   },
   "source": [
    "##### 14. Qual o `id` do host que possui o imóvel com a última avaliação feita na base de dados?"
   ]
  },
  {
   "cell_type": "code",
   "execution_count": null,
   "id": "3e0a5fcc",
   "metadata": {
    "hidden": true,
    "id": "3e0a5fcc"
   },
   "outputs": [],
   "source": []
  },
  {
   "cell_type": "code",
   "execution_count": null,
   "id": "ace788da",
   "metadata": {
    "hidden": true,
    "id": "ace788da"
   },
   "outputs": [],
   "source": []
  },
  {
   "cell_type": "code",
   "execution_count": null,
   "id": "17fe4b7c",
   "metadata": {
    "hidden": true,
    "id": "17fe4b7c"
   },
   "outputs": [],
   "source": []
  },
  {
   "cell_type": "markdown",
   "id": "86c501b6",
   "metadata": {
    "heading_collapsed": true,
    "id": "86c501b6"
   },
   "source": [
    "##### 15. Qual o `id` do host que possui mais imóveis ativos dentro da base de dados?"
   ]
  },
  {
   "cell_type": "code",
   "execution_count": null,
   "id": "026bff68",
   "metadata": {
    "hidden": true,
    "id": "026bff68"
   },
   "outputs": [],
   "source": []
  },
  {
   "cell_type": "code",
   "execution_count": null,
   "id": "d7bf0d1f",
   "metadata": {
    "hidden": true,
    "id": "d7bf0d1f"
   },
   "outputs": [],
   "source": []
  },
  {
   "cell_type": "code",
   "execution_count": null,
   "id": "537e5d3a",
   "metadata": {
    "hidden": true,
    "id": "537e5d3a"
   },
   "outputs": [],
   "source": []
  },
  {
   "cell_type": "markdown",
   "id": "5a7b633d",
   "metadata": {
    "heading_collapsed": true,
    "id": "5a7b633d"
   },
   "source": [
    "##### 16. O host que possui mais imóveis é o host que também possui mais avaliações?"
   ]
  },
  {
   "cell_type": "code",
   "execution_count": null,
   "id": "83d59afa",
   "metadata": {
    "hidden": true,
    "id": "83d59afa"
   },
   "outputs": [],
   "source": []
  },
  {
   "cell_type": "code",
   "execution_count": null,
   "id": "b85dd545",
   "metadata": {
    "hidden": true,
    "id": "b85dd545"
   },
   "outputs": [],
   "source": []
  },
  {
   "cell_type": "code",
   "execution_count": null,
   "id": "60204c34",
   "metadata": {
    "hidden": true,
    "id": "60204c34"
   },
   "outputs": [],
   "source": []
  },
  {
   "cell_type": "markdown",
   "id": "0b5bfcb0",
   "metadata": {
    "heading_collapsed": true,
    "id": "0b5bfcb0"
   },
   "source": [
    "##### 17. Qual é a categoria que mais possui imóveis dentro da base de dados?"
   ]
  },
  {
   "cell_type": "code",
   "execution_count": null,
   "id": "2d31c898",
   "metadata": {
    "hidden": true,
    "id": "2d31c898"
   },
   "outputs": [],
   "source": []
  },
  {
   "cell_type": "code",
   "execution_count": null,
   "id": "4c6d8f96",
   "metadata": {
    "hidden": true,
    "id": "4c6d8f96"
   },
   "outputs": [],
   "source": []
  },
  {
   "cell_type": "code",
   "execution_count": null,
   "id": "c0e37ccc",
   "metadata": {
    "hidden": true,
    "id": "c0e37ccc"
   },
   "outputs": [],
   "source": []
  },
  {
   "cell_type": "markdown",
   "id": "bb3d35c7",
   "metadata": {
    "heading_collapsed": true,
    "id": "bb3d35c7"
   },
   "source": [
    "##### 18. Qual é a categoria que menos possui imóveis dentro da base de dados?"
   ]
  },
  {
   "cell_type": "code",
   "execution_count": null,
   "id": "0673c36a",
   "metadata": {
    "hidden": true,
    "id": "0673c36a"
   },
   "outputs": [],
   "source": []
  },
  {
   "cell_type": "code",
   "execution_count": null,
   "id": "18a806fa",
   "metadata": {
    "hidden": true,
    "id": "18a806fa"
   },
   "outputs": [],
   "source": []
  },
  {
   "cell_type": "code",
   "execution_count": null,
   "id": "7fd95956",
   "metadata": {
    "hidden": true,
    "id": "7fd95956"
   },
   "outputs": [],
   "source": []
  },
  {
   "cell_type": "markdown",
   "id": "4cef54f9",
   "metadata": {
    "heading_collapsed": true,
    "id": "4cef54f9"
   },
   "source": [
    "##### 19. A região de `Manhattan` é a região que mais possui imóveis ativos para locação, da categoria `Private room`?"
   ]
  },
  {
   "cell_type": "code",
   "execution_count": null,
   "id": "b2484524",
   "metadata": {
    "hidden": true,
    "id": "b2484524"
   },
   "outputs": [],
   "source": []
  },
  {
   "cell_type": "code",
   "execution_count": null,
   "id": "73500c83",
   "metadata": {
    "hidden": true,
    "id": "73500c83"
   },
   "outputs": [],
   "source": []
  },
  {
   "cell_type": "code",
   "execution_count": null,
   "id": "e4f562c5",
   "metadata": {
    "hidden": true,
    "id": "e4f562c5"
   },
   "outputs": [],
   "source": []
  },
  {
   "cell_type": "markdown",
   "id": "4924658e",
   "metadata": {
    "id": "4924658e"
   },
   "source": [
    "##### 20. Qual a categoria de imóvel que possui a maior média de tempo de disponibilidade para serem locados da região do `Bronx`? Considere somente imóveis ativos"
   ]
  },
  {
   "cell_type": "code",
   "execution_count": null,
   "id": "2d092a4d",
   "metadata": {
    "id": "2d092a4d"
   },
   "outputs": [],
   "source": []
  },
  {
   "cell_type": "code",
   "execution_count": null,
   "id": "4434b42d",
   "metadata": {
    "id": "4434b42d"
   },
   "outputs": [],
   "source": []
  },
  {
   "cell_type": "code",
   "execution_count": null,
   "id": "76c8239b",
   "metadata": {
    "id": "76c8239b"
   },
   "outputs": [],
   "source": []
  },
  {
   "cell_type": "markdown",
   "id": "83b23931",
   "metadata": {
    "id": "83b23931"
   },
   "source": [
    "##### 21. Qual a categoria de imóvel ativo que possui o maior valor de aluguel (diária) na região de `Manhattan`?"
   ]
  },
  {
   "cell_type": "code",
   "execution_count": null,
   "id": "ae557a31",
   "metadata": {
    "id": "ae557a31"
   },
   "outputs": [],
   "source": []
  },
  {
   "cell_type": "code",
   "execution_count": null,
   "id": "46cc4185",
   "metadata": {
    "id": "46cc4185"
   },
   "outputs": [],
   "source": []
  },
  {
   "cell_type": "code",
   "execution_count": null,
   "id": "9854a1bf",
   "metadata": {
    "id": "9854a1bf"
   },
   "outputs": [],
   "source": []
  },
  {
   "cell_type": "markdown",
   "id": "2f776e18",
   "metadata": {
    "heading_collapsed": true,
    "id": "2f776e18"
   },
   "source": [
    "##### 22. A categoria de imóvel “Private Room“ é a categoria que fica mais tempo disponível para locação?"
   ]
  },
  {
   "cell_type": "code",
   "execution_count": null,
   "id": "2258a825",
   "metadata": {
    "hidden": true,
    "id": "2258a825"
   },
   "outputs": [],
   "source": []
  },
  {
   "cell_type": "code",
   "execution_count": null,
   "id": "272ab7f0",
   "metadata": {
    "hidden": true,
    "id": "272ab7f0"
   },
   "outputs": [],
   "source": []
  },
  {
   "cell_type": "code",
   "execution_count": null,
   "id": "2841e37d",
   "metadata": {
    "hidden": true,
    "id": "2841e37d"
   },
   "outputs": [],
   "source": []
  },
  {
   "cell_type": "markdown",
   "id": "724d3c82",
   "metadata": {
    "heading_collapsed": true,
    "id": "724d3c82"
   },
   "source": [
    "##### 23. Qual a categoria de imóvel que fica mais tempo disponível, na média, para locação?"
   ]
  },
  {
   "cell_type": "code",
   "execution_count": null,
   "id": "80255f7f",
   "metadata": {
    "hidden": true,
    "id": "80255f7f"
   },
   "outputs": [],
   "source": []
  },
  {
   "cell_type": "code",
   "execution_count": null,
   "id": "13b47189",
   "metadata": {
    "hidden": true,
    "id": "13b47189"
   },
   "outputs": [],
   "source": []
  },
  {
   "cell_type": "code",
   "execution_count": null,
   "id": "d729b602",
   "metadata": {
    "hidden": true,
    "id": "d729b602"
   },
   "outputs": [],
   "source": []
  },
  {
   "cell_type": "markdown",
   "id": "3205c88c",
   "metadata": {
    "heading_collapsed": true,
    "id": "3205c88c"
   },
   "source": [
    "##### 24. A categoria de imóvel que fica menos tempo disponível, na média, para locação é a categoria que possuí, em média, o menor aluguel (diária)?"
   ]
  },
  {
   "cell_type": "code",
   "execution_count": null,
   "id": "a6b19656",
   "metadata": {
    "hidden": true,
    "id": "a6b19656"
   },
   "outputs": [],
   "source": []
  },
  {
   "cell_type": "code",
   "execution_count": null,
   "id": "bef91c37",
   "metadata": {
    "hidden": true,
    "id": "bef91c37"
   },
   "outputs": [],
   "source": []
  },
  {
   "cell_type": "code",
   "execution_count": null,
   "id": "db9f36f7",
   "metadata": {
    "hidden": true,
    "id": "db9f36f7"
   },
   "outputs": [],
   "source": []
  },
  {
   "cell_type": "markdown",
   "id": "6a8fa8e3",
   "metadata": {
    "heading_collapsed": true,
    "id": "6a8fa8e3"
   },
   "source": [
    "##### 25. A categoria de imóvel `Entire home/apt` é a categoria que possui, na média, o maior valor de aluguel?"
   ]
  },
  {
   "cell_type": "code",
   "execution_count": null,
   "id": "c2180ebb",
   "metadata": {
    "hidden": true,
    "id": "c2180ebb"
   },
   "outputs": [],
   "source": []
  },
  {
   "cell_type": "code",
   "execution_count": null,
   "id": "3cd41269",
   "metadata": {
    "hidden": true,
    "id": "3cd41269"
   },
   "outputs": [],
   "source": []
  },
  {
   "cell_type": "code",
   "execution_count": null,
   "id": "849c601d",
   "metadata": {
    "hidden": true,
    "id": "849c601d"
   },
   "outputs": [],
   "source": []
  },
  {
   "cell_type": "markdown",
   "id": "5bbe1d09",
   "metadata": {
    "heading_collapsed": true,
    "id": "5bbe1d09"
   },
   "source": [
    "##### 26. A categoria de imóvel `Entire home/apt` é a categoria que possui, na média, menos locações?"
   ]
  },
  {
   "cell_type": "code",
   "execution_count": null,
   "id": "d106fb88",
   "metadata": {
    "hidden": true,
    "id": "d106fb88"
   },
   "outputs": [],
   "source": []
  },
  {
   "cell_type": "code",
   "execution_count": null,
   "id": "0c7ed703",
   "metadata": {
    "hidden": true,
    "id": "0c7ed703"
   },
   "outputs": [],
   "source": []
  },
  {
   "cell_type": "code",
   "execution_count": null,
   "id": "199c1b99",
   "metadata": {
    "hidden": true,
    "id": "199c1b99"
   },
   "outputs": [],
   "source": []
  },
  {
   "cell_type": "markdown",
   "id": "436ac841",
   "metadata": {
    "heading_collapsed": true,
    "id": "436ac841"
   },
   "source": [
    "##### 27. A categoria de imóvel `Private Room` na região de Manhattan, na média, é a categoria que possui o menor valor de locação, comparado as outras categorias na mesma região? "
   ]
  },
  {
   "cell_type": "code",
   "execution_count": null,
   "id": "0ce74590",
   "metadata": {
    "hidden": true,
    "id": "0ce74590"
   },
   "outputs": [],
   "source": []
  },
  {
   "cell_type": "code",
   "execution_count": null,
   "id": "dfd33ef9",
   "metadata": {
    "hidden": true,
    "id": "dfd33ef9"
   },
   "outputs": [],
   "source": []
  },
  {
   "cell_type": "code",
   "execution_count": null,
   "id": "5d139430",
   "metadata": {
    "hidden": true,
    "id": "5d139430"
   },
   "outputs": [],
   "source": []
  },
  {
   "cell_type": "markdown",
   "id": "774378e7",
   "metadata": {
    "heading_collapsed": true,
    "id": "774378e7"
   },
   "source": [
    "##### 28. Qual a região que possui a maior quantidade de imóveis?"
   ]
  },
  {
   "cell_type": "code",
   "execution_count": null,
   "id": "94a14082",
   "metadata": {
    "hidden": true,
    "id": "94a14082"
   },
   "outputs": [],
   "source": []
  },
  {
   "cell_type": "code",
   "execution_count": null,
   "id": "27102299",
   "metadata": {
    "hidden": true,
    "id": "27102299"
   },
   "outputs": [],
   "source": []
  },
  {
   "cell_type": "code",
   "execution_count": null,
   "id": "ad8dc5d3",
   "metadata": {
    "hidden": true,
    "id": "ad8dc5d3"
   },
   "outputs": [],
   "source": []
  },
  {
   "cell_type": "markdown",
   "id": "53abcb8d",
   "metadata": {
    "heading_collapsed": true,
    "id": "53abcb8d"
   },
   "source": [
    "##### 29. Qual a região que possui a menor quantidade de imóveis?"
   ]
  },
  {
   "cell_type": "code",
   "execution_count": null,
   "id": "db39c923",
   "metadata": {
    "hidden": true,
    "id": "db39c923"
   },
   "outputs": [],
   "source": []
  },
  {
   "cell_type": "code",
   "execution_count": null,
   "id": "8933cdeb",
   "metadata": {
    "hidden": true,
    "id": "8933cdeb"
   },
   "outputs": [],
   "source": []
  },
  {
   "cell_type": "code",
   "execution_count": null,
   "id": "5421a345",
   "metadata": {
    "hidden": true,
    "id": "5421a345"
   },
   "outputs": [],
   "source": []
  },
  {
   "cell_type": "markdown",
   "id": "c1ef0c73",
   "metadata": {
    "heading_collapsed": true,
    "id": "c1ef0c73"
   },
   "source": [
    "##### 30. A região que possui a maior quantidade de imóveis é também a região que possui os imóveis mais locados?"
   ]
  },
  {
   "cell_type": "code",
   "execution_count": null,
   "id": "8e80f4a1",
   "metadata": {
    "hidden": true,
    "id": "8e80f4a1"
   },
   "outputs": [],
   "source": []
  },
  {
   "cell_type": "code",
   "execution_count": null,
   "id": "3bbe277c",
   "metadata": {
    "hidden": true,
    "id": "3bbe277c"
   },
   "outputs": [],
   "source": []
  },
  {
   "cell_type": "code",
   "execution_count": null,
   "id": "647aa533",
   "metadata": {
    "hidden": true,
    "id": "647aa533"
   },
   "outputs": [],
   "source": []
  },
  {
   "cell_type": "markdown",
   "id": "80f47100",
   "metadata": {
    "heading_collapsed": true,
    "id": "80f47100"
   },
   "source": [
    "##### 31. Qual a região que possui a menor quantidade de imóveis locados dentro da base de dados?"
   ]
  },
  {
   "cell_type": "code",
   "execution_count": null,
   "id": "943586e9",
   "metadata": {
    "hidden": true,
    "id": "943586e9"
   },
   "outputs": [],
   "source": []
  },
  {
   "cell_type": "code",
   "execution_count": null,
   "id": "694a510b",
   "metadata": {
    "hidden": true,
    "id": "694a510b"
   },
   "outputs": [],
   "source": []
  },
  {
   "cell_type": "code",
   "execution_count": null,
   "id": "eae5f9eb",
   "metadata": {
    "hidden": true,
    "id": "eae5f9eb"
   },
   "outputs": [],
   "source": []
  },
  {
   "cell_type": "markdown",
   "id": "23e9f409",
   "metadata": {
    "heading_collapsed": true,
    "id": "23e9f409"
   },
   "source": [
    "##### 32. A região de `Manhattan` é a região que possui, na média, os maiores aluguéis (diárias) dentro da base de dados?"
   ]
  },
  {
   "cell_type": "code",
   "execution_count": null,
   "id": "edf07278",
   "metadata": {
    "hidden": true,
    "id": "edf07278"
   },
   "outputs": [],
   "source": []
  },
  {
   "cell_type": "code",
   "execution_count": null,
   "id": "dd61bc4f",
   "metadata": {
    "hidden": true,
    "id": "dd61bc4f"
   },
   "outputs": [],
   "source": []
  },
  {
   "cell_type": "code",
   "execution_count": null,
   "id": "1356cf94",
   "metadata": {
    "hidden": true,
    "id": "1356cf94"
   },
   "outputs": [],
   "source": []
  },
  {
   "cell_type": "markdown",
   "id": "6fa1634a",
   "metadata": {
    "id": "6fa1634a"
   },
   "source": [
    "##### 33. A região de `Queens` é a região que possui, na média, os menores aluguéis (diárias) dentro da base de dados?"
   ]
  },
  {
   "cell_type": "code",
   "execution_count": null,
   "id": "1e6c313e",
   "metadata": {
    "id": "1e6c313e"
   },
   "outputs": [],
   "source": []
  },
  {
   "cell_type": "code",
   "execution_count": null,
   "id": "c9ce2f28",
   "metadata": {
    "id": "c9ce2f28"
   },
   "outputs": [],
   "source": []
  },
  {
   "cell_type": "code",
   "execution_count": null,
   "id": "59fa9121",
   "metadata": {
    "id": "59fa9121"
   },
   "outputs": [],
   "source": []
  },
  {
   "cell_type": "markdown",
   "id": "071bf3fb",
   "metadata": {
    "heading_collapsed": true,
    "id": "071bf3fb"
   },
   "source": [
    "##### 34. Qual a região que possui, na média, os imóveis com os menores aluguéis dentro da base de dados?"
   ]
  },
  {
   "cell_type": "code",
   "execution_count": null,
   "id": "ab307750",
   "metadata": {
    "hidden": true,
    "id": "ab307750"
   },
   "outputs": [],
   "source": []
  },
  {
   "cell_type": "code",
   "execution_count": null,
   "id": "63542283",
   "metadata": {
    "hidden": true,
    "id": "63542283"
   },
   "outputs": [],
   "source": []
  },
  {
   "cell_type": "code",
   "execution_count": null,
   "id": "a7ea8187",
   "metadata": {
    "hidden": true,
    "id": "a7ea8187"
   },
   "outputs": [],
   "source": []
  },
  {
   "cell_type": "markdown",
   "id": "3118d788",
   "metadata": {
    "heading_collapsed": true,
    "id": "3118d788"
   },
   "source": [
    "##### 35. Qual a região que possui os imóveis que ficam, na média, menos tempo disponíveis para aluguel? Ou seja, são alugados mais rápidos na média?"
   ]
  },
  {
   "cell_type": "code",
   "execution_count": null,
   "id": "bd42c9c4",
   "metadata": {
    "hidden": true,
    "id": "bd42c9c4"
   },
   "outputs": [],
   "source": []
  },
  {
   "cell_type": "code",
   "execution_count": null,
   "id": "634f3a5d",
   "metadata": {
    "hidden": true,
    "id": "634f3a5d"
   },
   "outputs": [],
   "source": []
  },
  {
   "cell_type": "code",
   "execution_count": null,
   "id": "2bc73cd3",
   "metadata": {
    "hidden": true,
    "id": "2bc73cd3"
   },
   "outputs": [],
   "source": []
  },
  {
   "cell_type": "markdown",
   "id": "76defbd1",
   "metadata": {
    "heading_collapsed": true,
    "id": "76defbd1"
   },
   "source": [
    "##### 36. Qual o bairro possui a maior quantidade de imóveis ativos para locação?"
   ]
  },
  {
   "cell_type": "code",
   "execution_count": null,
   "id": "5deafbfd",
   "metadata": {
    "hidden": true,
    "id": "5deafbfd"
   },
   "outputs": [],
   "source": []
  },
  {
   "cell_type": "code",
   "execution_count": null,
   "id": "91fa947c",
   "metadata": {
    "hidden": true,
    "id": "91fa947c"
   },
   "outputs": [],
   "source": []
  },
  {
   "cell_type": "code",
   "execution_count": null,
   "id": "303230bb",
   "metadata": {
    "hidden": true,
    "id": "303230bb"
   },
   "outputs": [],
   "source": []
  },
  {
   "cell_type": "markdown",
   "id": "29843794",
   "metadata": {
    "heading_collapsed": true,
    "id": "29843794"
   },
   "source": [
    "##### 37. Qual o bairro possui a menor quantidade de imóveis ativos para locação?"
   ]
  },
  {
   "cell_type": "code",
   "execution_count": null,
   "id": "a4806389",
   "metadata": {
    "hidden": true,
    "id": "a4806389"
   },
   "outputs": [],
   "source": []
  },
  {
   "cell_type": "code",
   "execution_count": null,
   "id": "694284ca",
   "metadata": {
    "hidden": true,
    "id": "694284ca"
   },
   "outputs": [],
   "source": []
  },
  {
   "cell_type": "code",
   "execution_count": null,
   "id": "46d76a3a",
   "metadata": {
    "hidden": true,
    "id": "46d76a3a"
   },
   "outputs": [],
   "source": []
  },
  {
   "cell_type": "markdown",
   "id": "78c54d15",
   "metadata": {
    "heading_collapsed": true,
    "id": "78c54d15"
   },
   "source": [
    "##### 38. Qual bairro está o imóvel com o maior valor de aluguel?"
   ]
  },
  {
   "cell_type": "code",
   "execution_count": null,
   "id": "0d67fdbb",
   "metadata": {
    "hidden": true,
    "id": "0d67fdbb"
   },
   "outputs": [],
   "source": []
  },
  {
   "cell_type": "code",
   "execution_count": null,
   "id": "0d853f9b",
   "metadata": {
    "hidden": true,
    "id": "0d853f9b"
   },
   "outputs": [],
   "source": []
  },
  {
   "cell_type": "code",
   "execution_count": null,
   "id": "b4d46465",
   "metadata": {
    "hidden": true,
    "id": "b4d46465"
   },
   "outputs": [],
   "source": []
  },
  {
   "cell_type": "markdown",
   "id": "4545de9f",
   "metadata": {
    "heading_collapsed": true,
    "id": "4545de9f"
   },
   "source": [
    "##### 39. Qual bairro está o imóvel com o menor valor de aluguel?"
   ]
  },
  {
   "cell_type": "code",
   "execution_count": null,
   "id": "edbe00bb",
   "metadata": {
    "hidden": true,
    "id": "edbe00bb"
   },
   "outputs": [],
   "source": []
  },
  {
   "cell_type": "code",
   "execution_count": null,
   "id": "07123cb3",
   "metadata": {
    "hidden": true,
    "id": "07123cb3"
   },
   "outputs": [],
   "source": []
  },
  {
   "cell_type": "code",
   "execution_count": null,
   "id": "26d162d6",
   "metadata": {
    "hidden": true,
    "id": "26d162d6"
   },
   "outputs": [],
   "source": []
  },
  {
   "cell_type": "markdown",
   "id": "5d79d6fe",
   "metadata": {
    "id": "5d79d6fe"
   },
   "source": [
    "##### 40. Qual região que possui o bairro com mais imóveis ativos disponíveis para locação?"
   ]
  },
  {
   "cell_type": "code",
   "execution_count": null,
   "id": "77c21abc",
   "metadata": {
    "id": "77c21abc"
   },
   "outputs": [],
   "source": []
  },
  {
   "cell_type": "code",
   "execution_count": null,
   "id": "40395a0a",
   "metadata": {
    "id": "40395a0a"
   },
   "outputs": [],
   "source": []
  },
  {
   "cell_type": "code",
   "execution_count": null,
   "id": "d8749ef5",
   "metadata": {
    "id": "d8749ef5"
   },
   "outputs": [],
   "source": []
  },
  {
   "cell_type": "markdown",
   "id": "2316bf28",
   "metadata": {
    "id": "2316bf28"
   },
   "source": [
    "##### 41. Qual região que possui o bairro com menos imóveis ativos disponíveis para locação?"
   ]
  },
  {
   "cell_type": "code",
   "execution_count": null,
   "id": "d48111a6",
   "metadata": {
    "id": "d48111a6"
   },
   "outputs": [],
   "source": []
  },
  {
   "cell_type": "code",
   "execution_count": null,
   "id": "cf34de94",
   "metadata": {
    "id": "cf34de94"
   },
   "outputs": [],
   "source": []
  },
  {
   "cell_type": "code",
   "execution_count": null,
   "id": "1479079f",
   "metadata": {
    "id": "1479079f"
   },
   "outputs": [],
   "source": []
  },
  {
   "cell_type": "markdown",
   "id": "b405c226",
   "metadata": {
    "heading_collapsed": true,
    "id": "b405c226"
   },
   "source": [
    "##### 42. O Bairro `Upper West Side`, na região de `Manhattan`, é o bairro que possui, na média, o maior aluguel dentro da base de dados?"
   ]
  },
  {
   "cell_type": "code",
   "execution_count": null,
   "id": "37cb349b",
   "metadata": {
    "hidden": true,
    "id": "37cb349b"
   },
   "outputs": [],
   "source": []
  },
  {
   "cell_type": "code",
   "execution_count": null,
   "id": "0fc2627f",
   "metadata": {
    "hidden": true,
    "id": "0fc2627f"
   },
   "outputs": [],
   "source": []
  },
  {
   "cell_type": "code",
   "execution_count": null,
   "id": "90a7d671",
   "metadata": {
    "hidden": true,
    "id": "90a7d671"
   },
   "outputs": [],
   "source": []
  },
  {
   "cell_type": "markdown",
   "id": "4aee0885",
   "metadata": {
    "id": "4aee0885"
   },
   "source": [
    "##### 43. Qual é o bairro que possui, na média, o aluguel mais caro da base de dados?"
   ]
  },
  {
   "cell_type": "code",
   "execution_count": null,
   "id": "702c77d8",
   "metadata": {
    "id": "702c77d8"
   },
   "outputs": [],
   "source": []
  },
  {
   "cell_type": "code",
   "execution_count": null,
   "id": "45b78a4f",
   "metadata": {
    "id": "45b78a4f"
   },
   "outputs": [],
   "source": []
  },
  {
   "cell_type": "code",
   "execution_count": null,
   "id": "98f5c646",
   "metadata": {
    "id": "98f5c646"
   },
   "outputs": [],
   "source": []
  },
  {
   "cell_type": "markdown",
   "id": "dc31583f",
   "metadata": {
    "id": "dc31583f"
   },
   "source": [
    "##### 44. Qual o `id` do imóvel que possui a melhor rentabilidade da base de dados? Levando em consideração o aluguel mais caro e imóvel mais rápido de alugar?  Utilize somente os imóveis que estejam ativos e que possuam pelo menos uma avaliação."
   ]
  },
  {
   "cell_type": "markdown",
   "id": "bc32d31c",
   "metadata": {
    "id": "bc32d31c"
   },
   "source": [
    "Utilize a seguinte fórmula para verificar qual o melhor imóvel:\n",
    "\n",
    "$$ rentability = \\frac{price * (minimoum\\_nights + 1) * number\\_of\\_reviews}{\\sqrt{availability\\_365}} $$"
   ]
  },
  {
   "cell_type": "code",
   "execution_count": null,
   "id": "3782762f",
   "metadata": {
    "id": "3782762f"
   },
   "outputs": [],
   "source": []
  },
  {
   "cell_type": "code",
   "execution_count": null,
   "id": "00683e02",
   "metadata": {
    "id": "00683e02"
   },
   "outputs": [],
   "source": []
  },
  {
   "cell_type": "code",
   "execution_count": null,
   "id": "a6b24926",
   "metadata": {
    "id": "a6b24926"
   },
   "outputs": [],
   "source": []
  },
  {
   "cell_type": "markdown",
   "id": "d6841ab4",
   "metadata": {
    "id": "d6841ab4"
   },
   "source": [
    "##### 45. Qual a região em que fica o melhor bairro para se adquirir um imóvel, visando a melhor rentabilidade média? Utilize como métrica o índice criado na questão anterior."
   ]
  },
  {
   "cell_type": "code",
   "execution_count": null,
   "id": "6aedbabe",
   "metadata": {
    "id": "6aedbabe"
   },
   "outputs": [],
   "source": []
  },
  {
   "cell_type": "code",
   "execution_count": null,
   "id": "64374ea1",
   "metadata": {
    "id": "64374ea1"
   },
   "outputs": [],
   "source": []
  },
  {
   "cell_type": "code",
   "execution_count": null,
   "id": "c8bc6b0f",
   "metadata": {
    "id": "c8bc6b0f"
   },
   "outputs": [],
   "source": []
  },
  {
   "cell_type": "markdown",
   "id": "08c9638f",
   "metadata": {
    "id": "08c9638f"
   },
   "source": [
    "##### 46. Qual a região em que fica o pior bairro para se adquirir um imóvel, visando a melhor rentabilidade média? Utilize como métrica o índice criado na questão 44."
   ]
  },
  {
   "cell_type": "code",
   "execution_count": null,
   "id": "0e3bece8",
   "metadata": {
    "id": "0e3bece8"
   },
   "outputs": [],
   "source": []
  },
  {
   "cell_type": "code",
   "execution_count": null,
   "id": "90d322e9",
   "metadata": {
    "id": "90d322e9"
   },
   "outputs": [],
   "source": []
  },
  {
   "cell_type": "code",
   "execution_count": null,
   "id": "89c1bf1b",
   "metadata": {
    "id": "89c1bf1b"
   },
   "outputs": [],
   "source": []
  },
  {
   "cell_type": "markdown",
   "id": "85146a48",
   "metadata": {
    "id": "85146a48"
   },
   "source": [
    "##### 47. Levando em conta o bairro encontrado na questão anterior, verifique qual é o `id` do imóvel ativo que possui a pior rentabilidade desse bairro"
   ]
  },
  {
   "cell_type": "code",
   "execution_count": null,
   "id": "43678a96",
   "metadata": {
    "id": "43678a96"
   },
   "outputs": [],
   "source": []
  },
  {
   "cell_type": "code",
   "execution_count": null,
   "id": "26019273",
   "metadata": {
    "id": "26019273"
   },
   "outputs": [],
   "source": []
  },
  {
   "cell_type": "code",
   "execution_count": null,
   "id": "b5285184",
   "metadata": {
    "id": "b5285184"
   },
   "outputs": [],
   "source": []
  },
  {
   "cell_type": "markdown",
   "id": "39ef122b",
   "metadata": {
    "id": "39ef122b"
   },
   "source": [
    "##### 48. Levando em conta o bairro da questão 45, verifique qual o `id` do imóvel ativo que possui a melhor rentabilidade desse bairro"
   ]
  },
  {
   "cell_type": "code",
   "execution_count": null,
   "id": "7ddc79a5",
   "metadata": {
    "id": "7ddc79a5"
   },
   "outputs": [],
   "source": []
  },
  {
   "cell_type": "code",
   "execution_count": null,
   "id": "b72fd78a",
   "metadata": {
    "id": "b72fd78a"
   },
   "outputs": [],
   "source": []
  },
  {
   "cell_type": "code",
   "execution_count": null,
   "id": "098b212c",
   "metadata": {
    "id": "098b212c"
   },
   "outputs": [],
   "source": []
  },
  {
   "cell_type": "markdown",
   "id": "d53b8d9f",
   "metadata": {
    "id": "d53b8d9f"
   },
   "source": [
    "##### 49. Caso eu, investidor, compre o imóvel da questão anterior com um investimento de U\\$ 1.000.000,00, quantas vezes eu teria que locá-lo para ter o retorno do investimento feito? Utilize a fórmula abaixo para calcular o tempo de retorno do investimento"
   ]
  },
  {
   "cell_type": "markdown",
   "id": "d3fb69b5",
   "metadata": {
    "id": "d3fb69b5"
   },
   "source": [
    "$$ return\\_investment = \\frac{investment}{price * (minimum\\_nights + 1)} $$"
   ]
  },
  {
   "cell_type": "code",
   "execution_count": null,
   "id": "0dcac6c1",
   "metadata": {
    "id": "0dcac6c1"
   },
   "outputs": [],
   "source": []
  },
  {
   "cell_type": "code",
   "execution_count": null,
   "id": "852d88db",
   "metadata": {
    "id": "852d88db"
   },
   "outputs": [],
   "source": []
  },
  {
   "cell_type": "code",
   "execution_count": null,
   "id": "93c57142",
   "metadata": {
    "id": "93c57142"
   },
   "outputs": [],
   "source": []
  },
  {
   "cell_type": "markdown",
   "id": "347a8aa2",
   "metadata": {
    "id": "347a8aa2"
   },
   "source": [
    "##### 50. Se eu desejasse comprar um imóvel que esteja ativo e com pelo menos uma avaliação em um dos bairros abaixo, qual seria o `id` do imóvel com a melhor rentabilidade dentre esses bairros? Utilize o índice calculado na questão 44."
   ]
  },
  {
   "cell_type": "markdown",
   "id": "095dfe95",
   "metadata": {
    "id": "095dfe95"
   },
   "source": [
    "* East Harlem\n",
    "* Harlem\n",
    "* Midtown\n",
    "* Morningside Heights\n",
    "* Upper West Side\n",
    "* Upper East Side"
   ]
  },
  {
   "cell_type": "code",
   "execution_count": null,
   "id": "43cc28eb",
   "metadata": {
    "id": "43cc28eb"
   },
   "outputs": [],
   "source": []
  },
  {
   "cell_type": "code",
   "execution_count": null,
   "id": "5bf4a514",
   "metadata": {
    "id": "5bf4a514"
   },
   "outputs": [],
   "source": []
  },
  {
   "cell_type": "code",
   "execution_count": null,
   "id": "98bfcbaf",
   "metadata": {
    "id": "98bfcbaf"
   },
   "outputs": [],
   "source": []
  },
  {
   "cell_type": "markdown",
   "id": "e6129e01",
   "metadata": {
    "id": "e6129e01"
   },
   "source": [
    "## Próximos Passos"
   ]
  },
  {
   "cell_type": "markdown",
   "id": "a79733c9",
   "metadata": {
    "id": "a79733c9"
   },
   "source": [
    "Como próximos passos para deixar o seu projeto um projeto de portifólio, crie um mapa, utilizando as técnicas aprendidas dentro do curso de Python do Zero ao DS, para demonstrar a densidade de imóveis por região ou bairro. \n",
    "\n",
    "Coloque também esse projeto em produção com o mapa desenhado e com quaisquer outras alterações ou melhorias que você queira! Não se esqueça de colocar o seu projeto no seu portifólio quando você terminar de melhorá-lo!"
   ]
  }
 ],
 "metadata": {
  "colab": {
   "name": "projeto_final_certificacao_aluno.ipynb",
   "provenance": []
  },
  "kernelspec": {
   "display_name": "Python 3 (ipykernel)",
   "language": "python",
   "name": "python3"
  },
  "language_info": {
   "codemirror_mode": {
    "name": "ipython",
    "version": 3
   },
   "file_extension": ".py",
   "mimetype": "text/x-python",
   "name": "python",
   "nbconvert_exporter": "python",
   "pygments_lexer": "ipython3",
   "version": "3.9.13"
  },
  "latex_envs": {
   "LaTeX_envs_menu_present": true,
   "autoclose": false,
   "autocomplete": true,
   "bibliofile": "biblio.bib",
   "cite_by": "apalike",
   "current_citInitial": 1,
   "eqLabelWithNumbers": true,
   "eqNumInitial": 1,
   "hotkeys": {
    "equation": "Ctrl-E",
    "itemize": "Ctrl-I"
   },
   "labels_anchors": false,
   "latex_user_defs": false,
   "report_style_numbering": false,
   "user_envs_cfg": false
  },
  "toc": {
   "base_numbering": 1,
   "nav_menu": {},
   "number_sections": false,
   "sideBar": true,
   "skip_h1_title": false,
   "title_cell": "Table of Contents",
   "title_sidebar": "Contents",
   "toc_cell": false,
   "toc_position": {},
   "toc_section_display": true,
   "toc_window_display": false
  }
 },
 "nbformat": 4,
 "nbformat_minor": 5
}
