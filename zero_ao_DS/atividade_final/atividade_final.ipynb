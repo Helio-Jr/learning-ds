{
 "cells": [
  {
   "cell_type": "code",
   "execution_count": 2,
   "id": "8c1611f3-c0dd-4a2a-a371-cb83bac1a3fc",
   "metadata": {},
   "outputs": [
    {
     "name": "stdout",
     "output_type": "stream",
     "text": [
      "[1, 6, 3, 12, 6, 7]\n"
     ]
    }
   ],
   "source": [
    "list = [2,3,4,6,7,8]\n",
    "\n",
    "for i,e in enumerate(list):\n",
    "    if e% 3==0:\n",
    "        list[i] = e* 2\n",
    "    else:\n",
    "        list[i] -= 1\n",
    "\n",
    "print(list)\n",
    "\n"
   ]
  }
 ],
 "metadata": {
  "kernelspec": {
   "display_name": "Python 3 (ipykernel)",
   "language": "python",
   "name": "python3"
  },
  "language_info": {
   "codemirror_mode": {
    "name": "ipython",
    "version": 3
   },
   "file_extension": ".py",
   "mimetype": "text/x-python",
   "name": "python",
   "nbconvert_exporter": "python",
   "pygments_lexer": "ipython3",
   "version": "3.9.13"
  }
 },
 "nbformat": 4,
 "nbformat_minor": 5
}
